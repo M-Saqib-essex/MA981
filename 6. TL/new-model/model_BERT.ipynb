{
 "cells": [
  {
   "cell_type": "markdown",
   "metadata": {
    "id": "OZ2vRvJuAprJ"
   },
   "source": [
    "# Multi-Label Classification with BERT\n"
   ]
  },
  {
   "cell_type": "markdown",
   "metadata": {
    "id": "_qbyEVdAG2Ch"
   },
   "source": [
    "## Data Cleaning"
   ]
  },
  {
   "cell_type": "code",
   "execution_count": 2,
   "metadata": {
    "executionInfo": {
     "elapsed": 502,
     "status": "ok",
     "timestamp": 1636446434567,
     "user": {
      "displayName": "Syed Haseeb",
      "photoUrl": "https://lh3.googleusercontent.com/a-/AOh14Ghtyrpv1wS3ySloKs5UgaBMGZCAFQg2TUIUdIfv=s64",
      "userId": "08863812421675956928"
     },
     "user_tz": -300
    },
    "id": "_34Z5uQv85A0"
   },
   "outputs": [],
   "source": [
    "import pandas as pd"
   ]
  },
  {
   "cell_type": "code",
   "execution_count": 3,
   "metadata": {
    "executionInfo": {
     "elapsed": 1291,
     "status": "ok",
     "timestamp": 1636446520211,
     "user": {
      "displayName": "Syed Haseeb",
      "photoUrl": "https://lh3.googleusercontent.com/a-/AOh14Ghtyrpv1wS3ySloKs5UgaBMGZCAFQg2TUIUdIfv=s64",
      "userId": "08863812421675956928"
     },
     "user_tz": -300
    },
    "id": "EbjTExEG9t9e"
   },
   "outputs": [],
   "source": [
    "true = pd.read_csv(\"../more-data/True.csv\", error_bad_lines=False)"
   ]
  },
  {
   "cell_type": "code",
   "execution_count": 4,
   "metadata": {
    "executionInfo": {
     "elapsed": 2858,
     "status": "ok",
     "timestamp": 1636446523065,
     "user": {
      "displayName": "Syed Haseeb",
      "photoUrl": "https://lh3.googleusercontent.com/a-/AOh14Ghtyrpv1wS3ySloKs5UgaBMGZCAFQg2TUIUdIfv=s64",
      "userId": "08863812421675956928"
     },
     "user_tz": -300
    },
    "id": "FHLkCiSDodw9"
   },
   "outputs": [],
   "source": [
    "fake = pd.read_csv(\"../more-data/Fake.csv\", error_bad_lines=False)"
   ]
  },
  {
   "cell_type": "code",
   "execution_count": 5,
   "metadata": {
    "colab": {
     "base_uri": "https://localhost:8080/",
     "height": 419
    },
    "executionInfo": {
     "elapsed": 43,
     "status": "ok",
     "timestamp": 1636446523079,
     "user": {
      "displayName": "Syed Haseeb",
      "photoUrl": "https://lh3.googleusercontent.com/a-/AOh14Ghtyrpv1wS3ySloKs5UgaBMGZCAFQg2TUIUdIfv=s64",
      "userId": "08863812421675956928"
     },
     "user_tz": -300
    },
    "id": "kMkyxnHJ6w_B",
    "outputId": "0fe7589f-98b8-4e79-bc9d-cd9a3e75a6ac"
   },
   "outputs": [
    {
     "data": {
      "text/html": [
       "<div>\n",
       "<style scoped>\n",
       "    .dataframe tbody tr th:only-of-type {\n",
       "        vertical-align: middle;\n",
       "    }\n",
       "\n",
       "    .dataframe tbody tr th {\n",
       "        vertical-align: top;\n",
       "    }\n",
       "\n",
       "    .dataframe thead th {\n",
       "        text-align: right;\n",
       "    }\n",
       "</style>\n",
       "<table border=\"1\" class=\"dataframe\">\n",
       "  <thead>\n",
       "    <tr style=\"text-align: right;\">\n",
       "      <th></th>\n",
       "      <th>title</th>\n",
       "      <th>text</th>\n",
       "      <th>subject</th>\n",
       "      <th>date</th>\n",
       "    </tr>\n",
       "  </thead>\n",
       "  <tbody>\n",
       "    <tr>\n",
       "      <th>0</th>\n",
       "      <td>As U.S. budget fight looms, Republicans flip t...</td>\n",
       "      <td>WASHINGTON (Reuters) - The head of a conservat...</td>\n",
       "      <td>politicsNews</td>\n",
       "      <td>December 31, 2017</td>\n",
       "    </tr>\n",
       "    <tr>\n",
       "      <th>1</th>\n",
       "      <td>U.S. military to accept transgender recruits o...</td>\n",
       "      <td>WASHINGTON (Reuters) - Transgender people will...</td>\n",
       "      <td>politicsNews</td>\n",
       "      <td>December 29, 2017</td>\n",
       "    </tr>\n",
       "    <tr>\n",
       "      <th>2</th>\n",
       "      <td>Senior U.S. Republican senator: 'Let Mr. Muell...</td>\n",
       "      <td>WASHINGTON (Reuters) - The special counsel inv...</td>\n",
       "      <td>politicsNews</td>\n",
       "      <td>December 31, 2017</td>\n",
       "    </tr>\n",
       "    <tr>\n",
       "      <th>3</th>\n",
       "      <td>FBI Russia probe helped by Australian diplomat...</td>\n",
       "      <td>WASHINGTON (Reuters) - Trump campaign adviser ...</td>\n",
       "      <td>politicsNews</td>\n",
       "      <td>December 30, 2017</td>\n",
       "    </tr>\n",
       "    <tr>\n",
       "      <th>4</th>\n",
       "      <td>Trump wants Postal Service to charge 'much mor...</td>\n",
       "      <td>SEATTLE/WASHINGTON (Reuters) - President Donal...</td>\n",
       "      <td>politicsNews</td>\n",
       "      <td>December 29, 2017</td>\n",
       "    </tr>\n",
       "    <tr>\n",
       "      <th>...</th>\n",
       "      <td>...</td>\n",
       "      <td>...</td>\n",
       "      <td>...</td>\n",
       "      <td>...</td>\n",
       "    </tr>\n",
       "    <tr>\n",
       "      <th>21412</th>\n",
       "      <td>'Fully committed' NATO backs new U.S. approach...</td>\n",
       "      <td>BRUSSELS (Reuters) - NATO allies on Tuesday we...</td>\n",
       "      <td>worldnews</td>\n",
       "      <td>August 22, 2017</td>\n",
       "    </tr>\n",
       "    <tr>\n",
       "      <th>21413</th>\n",
       "      <td>LexisNexis withdrew two products from Chinese ...</td>\n",
       "      <td>LONDON (Reuters) - LexisNexis, a provider of l...</td>\n",
       "      <td>worldnews</td>\n",
       "      <td>August 22, 2017</td>\n",
       "    </tr>\n",
       "    <tr>\n",
       "      <th>21414</th>\n",
       "      <td>Minsk cultural hub becomes haven from authorities</td>\n",
       "      <td>MINSK (Reuters) - In the shadow of disused Sov...</td>\n",
       "      <td>worldnews</td>\n",
       "      <td>August 22, 2017</td>\n",
       "    </tr>\n",
       "    <tr>\n",
       "      <th>21415</th>\n",
       "      <td>Vatican upbeat on possibility of Pope Francis ...</td>\n",
       "      <td>MOSCOW (Reuters) - Vatican Secretary of State ...</td>\n",
       "      <td>worldnews</td>\n",
       "      <td>August 22, 2017</td>\n",
       "    </tr>\n",
       "    <tr>\n",
       "      <th>21416</th>\n",
       "      <td>Indonesia to buy $1.14 billion worth of Russia...</td>\n",
       "      <td>JAKARTA (Reuters) - Indonesia will buy 11 Sukh...</td>\n",
       "      <td>worldnews</td>\n",
       "      <td>August 22, 2017</td>\n",
       "    </tr>\n",
       "  </tbody>\n",
       "</table>\n",
       "<p>21417 rows × 4 columns</p>\n",
       "</div>"
      ],
      "text/plain": [
       "                                                   title  \\\n",
       "0      As U.S. budget fight looms, Republicans flip t...   \n",
       "1      U.S. military to accept transgender recruits o...   \n",
       "2      Senior U.S. Republican senator: 'Let Mr. Muell...   \n",
       "3      FBI Russia probe helped by Australian diplomat...   \n",
       "4      Trump wants Postal Service to charge 'much mor...   \n",
       "...                                                  ...   \n",
       "21412  'Fully committed' NATO backs new U.S. approach...   \n",
       "21413  LexisNexis withdrew two products from Chinese ...   \n",
       "21414  Minsk cultural hub becomes haven from authorities   \n",
       "21415  Vatican upbeat on possibility of Pope Francis ...   \n",
       "21416  Indonesia to buy $1.14 billion worth of Russia...   \n",
       "\n",
       "                                                    text       subject  \\\n",
       "0      WASHINGTON (Reuters) - The head of a conservat...  politicsNews   \n",
       "1      WASHINGTON (Reuters) - Transgender people will...  politicsNews   \n",
       "2      WASHINGTON (Reuters) - The special counsel inv...  politicsNews   \n",
       "3      WASHINGTON (Reuters) - Trump campaign adviser ...  politicsNews   \n",
       "4      SEATTLE/WASHINGTON (Reuters) - President Donal...  politicsNews   \n",
       "...                                                  ...           ...   \n",
       "21412  BRUSSELS (Reuters) - NATO allies on Tuesday we...     worldnews   \n",
       "21413  LONDON (Reuters) - LexisNexis, a provider of l...     worldnews   \n",
       "21414  MINSK (Reuters) - In the shadow of disused Sov...     worldnews   \n",
       "21415  MOSCOW (Reuters) - Vatican Secretary of State ...     worldnews   \n",
       "21416  JAKARTA (Reuters) - Indonesia will buy 11 Sukh...     worldnews   \n",
       "\n",
       "                     date  \n",
       "0      December 31, 2017   \n",
       "1      December 29, 2017   \n",
       "2      December 31, 2017   \n",
       "3      December 30, 2017   \n",
       "4      December 29, 2017   \n",
       "...                   ...  \n",
       "21412    August 22, 2017   \n",
       "21413    August 22, 2017   \n",
       "21414    August 22, 2017   \n",
       "21415    August 22, 2017   \n",
       "21416    August 22, 2017   \n",
       "\n",
       "[21417 rows x 4 columns]"
      ]
     },
     "execution_count": 5,
     "metadata": {},
     "output_type": "execute_result"
    }
   ],
   "source": [
    "true"
   ]
  },
  {
   "cell_type": "code",
   "execution_count": 6,
   "metadata": {
    "executionInfo": {
     "elapsed": 38,
     "status": "ok",
     "timestamp": 1636446523080,
     "user": {
      "displayName": "Syed Haseeb",
      "photoUrl": "https://lh3.googleusercontent.com/a-/AOh14Ghtyrpv1wS3ySloKs5UgaBMGZCAFQg2TUIUdIfv=s64",
      "userId": "08863812421675956928"
     },
     "user_tz": -300
    },
    "id": "zlLnB-Lf91xb"
   },
   "outputs": [],
   "source": [
    "true[\"data\"] = true.title + \"\\n\" + true.text "
   ]
  },
  {
   "cell_type": "code",
   "execution_count": 7,
   "metadata": {
    "executionInfo": {
     "elapsed": 38,
     "status": "ok",
     "timestamp": 1636446523082,
     "user": {
      "displayName": "Syed Haseeb",
      "photoUrl": "https://lh3.googleusercontent.com/a-/AOh14Ghtyrpv1wS3ySloKs5UgaBMGZCAFQg2TUIUdIfv=s64",
      "userId": "08863812421675956928"
     },
     "user_tz": -300
    },
    "id": "IST768oBpHmU"
   },
   "outputs": [],
   "source": [
    "fake[\"data\"] = fake.title + \"\\n\" + fake.text "
   ]
  },
  {
   "cell_type": "code",
   "execution_count": 8,
   "metadata": {
    "executionInfo": {
     "elapsed": 40,
     "status": "ok",
     "timestamp": 1636446523085,
     "user": {
      "displayName": "Syed Haseeb",
      "photoUrl": "https://lh3.googleusercontent.com/a-/AOh14Ghtyrpv1wS3ySloKs5UgaBMGZCAFQg2TUIUdIfv=s64",
      "userId": "08863812421675956928"
     },
     "user_tz": -300
    },
    "id": "3pAfKRhTphkG"
   },
   "outputs": [],
   "source": [
    "true[\"label\"] = 1"
   ]
  },
  {
   "cell_type": "code",
   "execution_count": 9,
   "metadata": {
    "executionInfo": {
     "elapsed": 42,
     "status": "ok",
     "timestamp": 1636446523087,
     "user": {
      "displayName": "Syed Haseeb",
      "photoUrl": "https://lh3.googleusercontent.com/a-/AOh14Ghtyrpv1wS3ySloKs5UgaBMGZCAFQg2TUIUdIfv=s64",
      "userId": "08863812421675956928"
     },
     "user_tz": -300
    },
    "id": "EB3qsopLplDP"
   },
   "outputs": [],
   "source": [
    "fake[\"label\"] = 0"
   ]
  },
  {
   "cell_type": "code",
   "execution_count": 10,
   "metadata": {
    "colab": {
     "base_uri": "https://localhost:8080/"
    },
    "executionInfo": {
     "elapsed": 45,
     "status": "ok",
     "timestamp": 1636446523090,
     "user": {
      "displayName": "Syed Haseeb",
      "photoUrl": "https://lh3.googleusercontent.com/a-/AOh14Ghtyrpv1wS3ySloKs5UgaBMGZCAFQg2TUIUdIfv=s64",
      "userId": "08863812421675956928"
     },
     "user_tz": -300
    },
    "id": "_W_PxR_6pKoC",
    "outputId": "122363f7-d7d7-46a4-c371-c469986233f2"
   },
   "outputs": [
    {
     "name": "stdout",
     "output_type": "stream",
     "text": [
      "As U.S. budget fight looms, Republicans flip their fiscal script\n",
      "WASHINGTON (Reuters) - The head of a conservative Republican faction in the U.S. Congress, who voted this month for a huge expansion of the national debt to pay for tax cuts, called himself a “fiscal conservative” on Sunday and urged budget restraint in 2018. In keeping with a sharp pivot under way among Republicans, U.S. Representative Mark Meadows, speaking on CBS’ “Face the Nation,” drew a hard line on federal spending, which lawmakers are bracing to do battle over in January. When they return from the holidays on Wednesday, lawmakers will begin trying to pass a federal budget in a fight likely to be linked to other issues, such as immigration policy, even as the November congressional election campaigns approach in which Republicans will seek to keep control of Congress. President Donald Trump and his Republicans want a big budget increase in military spending, while Democrats also want proportional increases for non-defense “discretionary” spending on programs that support education, scientific research, infrastructure, public health and environmental protection. “The (Trump) administration has already been willing to say: ‘We’re going to increase non-defense discretionary spending ... by about 7 percent,’” Meadows, chairman of the small but influential House Freedom Caucus, said on the program. “Now, Democrats are saying that’s not enough, we need to give the government a pay raise of 10 to 11 percent. For a fiscal conservative, I don’t see where the rationale is. ... Eventually you run out of other people’s money,” he said. Meadows was among Republicans who voted in late December for their party’s debt-financed tax overhaul, which is expected to balloon the federal budget deficit and add about $1.5 trillion over 10 years to the $20 trillion national debt. “It’s interesting to hear Mark talk about fiscal responsibility,” Democratic U.S. Representative Joseph Crowley said on CBS. Crowley said the Republican tax bill would require the  United States to borrow $1.5 trillion, to be paid off by future generations, to finance tax cuts for corporations and the rich. “This is one of the least ... fiscally responsible bills we’ve ever seen passed in the history of the House of Representatives. I think we’re going to be paying for this for many, many years to come,” Crowley said. Republicans insist the tax package, the biggest U.S. tax overhaul in more than 30 years,  will boost the economy and job growth. House Speaker Paul Ryan, who also supported the tax bill, recently went further than Meadows, making clear in a radio interview that welfare or “entitlement reform,” as the party often calls it, would be a top Republican priority in 2018. In Republican parlance, “entitlement” programs mean food stamps, housing assistance, Medicare and Medicaid health insurance for the elderly, poor and disabled, as well as other programs created by Washington to assist the needy. Democrats seized on Ryan’s early December remarks, saying they showed Republicans would try to pay for their tax overhaul by seeking spending cuts for social programs. But the goals of House Republicans may have to take a back seat to the Senate, where the votes of some Democrats will be needed to approve a budget and prevent a government shutdown. Democrats will use their leverage in the Senate, which Republicans narrowly control, to defend both discretionary non-defense programs and social spending, while tackling the issue of the “Dreamers,” people brought illegally to the country as children. Trump in September put a March 2018 expiration date on the Deferred Action for Childhood Arrivals, or DACA, program, which protects the young immigrants from deportation and provides them with work permits. The president has said in recent Twitter messages he wants funding for his proposed Mexican border wall and other immigration law changes in exchange for agreeing to help the Dreamers. Representative Debbie Dingell told CBS she did not favor linking that issue to other policy objectives, such as wall funding. “We need to do DACA clean,” she said.  On Wednesday, Trump aides will meet with congressional leaders to discuss those issues. That will be followed by a weekend of strategy sessions for Trump and Republican leaders on Jan. 6 and 7, the White House said. Trump was also scheduled to meet on Sunday with Florida Republican Governor Rick Scott, who wants more emergency aid. The House has passed an $81 billion aid package after hurricanes in Florida, Texas and Puerto Rico, and wildfires in California. The package far exceeded the $44 billion requested by the Trump administration. The Senate has not yet voted on the aid. \n"
     ]
    }
   ],
   "source": [
    "print(true[\"data\"][[0]].values[0])"
   ]
  },
  {
   "cell_type": "code",
   "execution_count": 11,
   "metadata": {
    "colab": {
     "base_uri": "https://localhost:8080/",
     "height": 419
    },
    "executionInfo": {
     "elapsed": 41,
     "status": "ok",
     "timestamp": 1636446523091,
     "user": {
      "displayName": "Syed Haseeb",
      "photoUrl": "https://lh3.googleusercontent.com/a-/AOh14Ghtyrpv1wS3ySloKs5UgaBMGZCAFQg2TUIUdIfv=s64",
      "userId": "08863812421675956928"
     },
     "user_tz": -300
    },
    "id": "n0ZqrQ4PpLyI",
    "outputId": "f1d37e57-f0f0-4beb-9f74-bd0dd27919ca"
   },
   "outputs": [
    {
     "data": {
      "text/html": [
       "<div>\n",
       "<style scoped>\n",
       "    .dataframe tbody tr th:only-of-type {\n",
       "        vertical-align: middle;\n",
       "    }\n",
       "\n",
       "    .dataframe tbody tr th {\n",
       "        vertical-align: top;\n",
       "    }\n",
       "\n",
       "    .dataframe thead th {\n",
       "        text-align: right;\n",
       "    }\n",
       "</style>\n",
       "<table border=\"1\" class=\"dataframe\">\n",
       "  <thead>\n",
       "    <tr style=\"text-align: right;\">\n",
       "      <th></th>\n",
       "      <th>title</th>\n",
       "      <th>text</th>\n",
       "      <th>subject</th>\n",
       "      <th>date</th>\n",
       "      <th>data</th>\n",
       "      <th>label</th>\n",
       "    </tr>\n",
       "  </thead>\n",
       "  <tbody>\n",
       "    <tr>\n",
       "      <th>0</th>\n",
       "      <td>Donald Trump Sends Out Embarrassing New Year’...</td>\n",
       "      <td>Donald Trump just couldn t wish all Americans ...</td>\n",
       "      <td>News</td>\n",
       "      <td>December 31, 2017</td>\n",
       "      <td>Donald Trump Sends Out Embarrassing New Year’...</td>\n",
       "      <td>0</td>\n",
       "    </tr>\n",
       "    <tr>\n",
       "      <th>1</th>\n",
       "      <td>Drunk Bragging Trump Staffer Started Russian ...</td>\n",
       "      <td>House Intelligence Committee Chairman Devin Nu...</td>\n",
       "      <td>News</td>\n",
       "      <td>December 31, 2017</td>\n",
       "      <td>Drunk Bragging Trump Staffer Started Russian ...</td>\n",
       "      <td>0</td>\n",
       "    </tr>\n",
       "    <tr>\n",
       "      <th>2</th>\n",
       "      <td>Sheriff David Clarke Becomes An Internet Joke...</td>\n",
       "      <td>On Friday, it was revealed that former Milwauk...</td>\n",
       "      <td>News</td>\n",
       "      <td>December 30, 2017</td>\n",
       "      <td>Sheriff David Clarke Becomes An Internet Joke...</td>\n",
       "      <td>0</td>\n",
       "    </tr>\n",
       "    <tr>\n",
       "      <th>3</th>\n",
       "      <td>Trump Is So Obsessed He Even Has Obama’s Name...</td>\n",
       "      <td>On Christmas day, Donald Trump announced that ...</td>\n",
       "      <td>News</td>\n",
       "      <td>December 29, 2017</td>\n",
       "      <td>Trump Is So Obsessed He Even Has Obama’s Name...</td>\n",
       "      <td>0</td>\n",
       "    </tr>\n",
       "    <tr>\n",
       "      <th>4</th>\n",
       "      <td>Pope Francis Just Called Out Donald Trump Dur...</td>\n",
       "      <td>Pope Francis used his annual Christmas Day mes...</td>\n",
       "      <td>News</td>\n",
       "      <td>December 25, 2017</td>\n",
       "      <td>Pope Francis Just Called Out Donald Trump Dur...</td>\n",
       "      <td>0</td>\n",
       "    </tr>\n",
       "    <tr>\n",
       "      <th>...</th>\n",
       "      <td>...</td>\n",
       "      <td>...</td>\n",
       "      <td>...</td>\n",
       "      <td>...</td>\n",
       "      <td>...</td>\n",
       "      <td>...</td>\n",
       "    </tr>\n",
       "    <tr>\n",
       "      <th>23476</th>\n",
       "      <td>McPain: John McCain Furious That Iran Treated ...</td>\n",
       "      <td>21st Century Wire says As 21WIRE reported earl...</td>\n",
       "      <td>Middle-east</td>\n",
       "      <td>January 16, 2016</td>\n",
       "      <td>McPain: John McCain Furious That Iran Treated ...</td>\n",
       "      <td>0</td>\n",
       "    </tr>\n",
       "    <tr>\n",
       "      <th>23477</th>\n",
       "      <td>JUSTICE? Yahoo Settles E-mail Privacy Class-ac...</td>\n",
       "      <td>21st Century Wire says It s a familiar theme. ...</td>\n",
       "      <td>Middle-east</td>\n",
       "      <td>January 16, 2016</td>\n",
       "      <td>JUSTICE? Yahoo Settles E-mail Privacy Class-ac...</td>\n",
       "      <td>0</td>\n",
       "    </tr>\n",
       "    <tr>\n",
       "      <th>23478</th>\n",
       "      <td>Sunnistan: US and Allied ‘Safe Zone’ Plan to T...</td>\n",
       "      <td>Patrick Henningsen  21st Century WireRemember ...</td>\n",
       "      <td>Middle-east</td>\n",
       "      <td>January 15, 2016</td>\n",
       "      <td>Sunnistan: US and Allied ‘Safe Zone’ Plan to T...</td>\n",
       "      <td>0</td>\n",
       "    </tr>\n",
       "    <tr>\n",
       "      <th>23479</th>\n",
       "      <td>How to Blow $700 Million: Al Jazeera America F...</td>\n",
       "      <td>21st Century Wire says Al Jazeera America will...</td>\n",
       "      <td>Middle-east</td>\n",
       "      <td>January 14, 2016</td>\n",
       "      <td>How to Blow $700 Million: Al Jazeera America F...</td>\n",
       "      <td>0</td>\n",
       "    </tr>\n",
       "    <tr>\n",
       "      <th>23480</th>\n",
       "      <td>10 U.S. Navy Sailors Held by Iranian Military ...</td>\n",
       "      <td>21st Century Wire says As 21WIRE predicted in ...</td>\n",
       "      <td>Middle-east</td>\n",
       "      <td>January 12, 2016</td>\n",
       "      <td>10 U.S. Navy Sailors Held by Iranian Military ...</td>\n",
       "      <td>0</td>\n",
       "    </tr>\n",
       "  </tbody>\n",
       "</table>\n",
       "<p>23481 rows × 6 columns</p>\n",
       "</div>"
      ],
      "text/plain": [
       "                                                   title  \\\n",
       "0       Donald Trump Sends Out Embarrassing New Year’...   \n",
       "1       Drunk Bragging Trump Staffer Started Russian ...   \n",
       "2       Sheriff David Clarke Becomes An Internet Joke...   \n",
       "3       Trump Is So Obsessed He Even Has Obama’s Name...   \n",
       "4       Pope Francis Just Called Out Donald Trump Dur...   \n",
       "...                                                  ...   \n",
       "23476  McPain: John McCain Furious That Iran Treated ...   \n",
       "23477  JUSTICE? Yahoo Settles E-mail Privacy Class-ac...   \n",
       "23478  Sunnistan: US and Allied ‘Safe Zone’ Plan to T...   \n",
       "23479  How to Blow $700 Million: Al Jazeera America F...   \n",
       "23480  10 U.S. Navy Sailors Held by Iranian Military ...   \n",
       "\n",
       "                                                    text      subject  \\\n",
       "0      Donald Trump just couldn t wish all Americans ...         News   \n",
       "1      House Intelligence Committee Chairman Devin Nu...         News   \n",
       "2      On Friday, it was revealed that former Milwauk...         News   \n",
       "3      On Christmas day, Donald Trump announced that ...         News   \n",
       "4      Pope Francis used his annual Christmas Day mes...         News   \n",
       "...                                                  ...          ...   \n",
       "23476  21st Century Wire says As 21WIRE reported earl...  Middle-east   \n",
       "23477  21st Century Wire says It s a familiar theme. ...  Middle-east   \n",
       "23478  Patrick Henningsen  21st Century WireRemember ...  Middle-east   \n",
       "23479  21st Century Wire says Al Jazeera America will...  Middle-east   \n",
       "23480  21st Century Wire says As 21WIRE predicted in ...  Middle-east   \n",
       "\n",
       "                    date                                               data  \\\n",
       "0      December 31, 2017   Donald Trump Sends Out Embarrassing New Year’...   \n",
       "1      December 31, 2017   Drunk Bragging Trump Staffer Started Russian ...   \n",
       "2      December 30, 2017   Sheriff David Clarke Becomes An Internet Joke...   \n",
       "3      December 29, 2017   Trump Is So Obsessed He Even Has Obama’s Name...   \n",
       "4      December 25, 2017   Pope Francis Just Called Out Donald Trump Dur...   \n",
       "...                  ...                                                ...   \n",
       "23476   January 16, 2016  McPain: John McCain Furious That Iran Treated ...   \n",
       "23477   January 16, 2016  JUSTICE? Yahoo Settles E-mail Privacy Class-ac...   \n",
       "23478   January 15, 2016  Sunnistan: US and Allied ‘Safe Zone’ Plan to T...   \n",
       "23479   January 14, 2016  How to Blow $700 Million: Al Jazeera America F...   \n",
       "23480   January 12, 2016  10 U.S. Navy Sailors Held by Iranian Military ...   \n",
       "\n",
       "       label  \n",
       "0          0  \n",
       "1          0  \n",
       "2          0  \n",
       "3          0  \n",
       "4          0  \n",
       "...      ...  \n",
       "23476      0  \n",
       "23477      0  \n",
       "23478      0  \n",
       "23479      0  \n",
       "23480      0  \n",
       "\n",
       "[23481 rows x 6 columns]"
      ]
     },
     "execution_count": 11,
     "metadata": {},
     "output_type": "execute_result"
    }
   ],
   "source": [
    "fake"
   ]
  },
  {
   "cell_type": "code",
   "execution_count": 12,
   "metadata": {
    "executionInfo": {
     "elapsed": 40,
     "status": "ok",
     "timestamp": 1636446523092,
     "user": {
      "displayName": "Syed Haseeb",
      "photoUrl": "https://lh3.googleusercontent.com/a-/AOh14Ghtyrpv1wS3ySloKs5UgaBMGZCAFQg2TUIUdIfv=s64",
      "userId": "08863812421675956928"
     },
     "user_tz": -300
    },
    "id": "nOxvrjOZpNIc"
   },
   "outputs": [],
   "source": [
    "true = true[[\"data\", \"label\"]]"
   ]
  },
  {
   "cell_type": "code",
   "execution_count": 13,
   "metadata": {
    "executionInfo": {
     "elapsed": 40,
     "status": "ok",
     "timestamp": 1636446523093,
     "user": {
      "displayName": "Syed Haseeb",
      "photoUrl": "https://lh3.googleusercontent.com/a-/AOh14Ghtyrpv1wS3ySloKs5UgaBMGZCAFQg2TUIUdIfv=s64",
      "userId": "08863812421675956928"
     },
     "user_tz": -300
    },
    "id": "h1Z9l-H3qRVU"
   },
   "outputs": [],
   "source": [
    "fake = fake[[\"data\", \"label\"]]"
   ]
  },
  {
   "cell_type": "code",
   "execution_count": 14,
   "metadata": {
    "executionInfo": {
     "elapsed": 40,
     "status": "ok",
     "timestamp": 1636446523094,
     "user": {
      "displayName": "Syed Haseeb",
      "photoUrl": "https://lh3.googleusercontent.com/a-/AOh14Ghtyrpv1wS3ySloKs5UgaBMGZCAFQg2TUIUdIfv=s64",
      "userId": "08863812421675956928"
     },
     "user_tz": -300
    },
    "id": "kGD8AdXLqTl1"
   },
   "outputs": [],
   "source": [
    "data = pd.concat([true, fake], 0)"
   ]
  },
  {
   "cell_type": "code",
   "execution_count": 15,
   "metadata": {
    "executionInfo": {
     "elapsed": 39,
     "status": "ok",
     "timestamp": 1636446523095,
     "user": {
      "displayName": "Syed Haseeb",
      "photoUrl": "https://lh3.googleusercontent.com/a-/AOh14Ghtyrpv1wS3ySloKs5UgaBMGZCAFQg2TUIUdIfv=s64",
      "userId": "08863812421675956928"
     },
     "user_tz": -300
    },
    "id": "CHbQiwMbqcNU"
   },
   "outputs": [],
   "source": [
    "data = data.sample(frac=1)"
   ]
  },
  {
   "cell_type": "code",
   "execution_count": 16,
   "metadata": {
    "colab": {
     "base_uri": "https://localhost:8080/",
     "height": 419
    },
    "executionInfo": {
     "elapsed": 40,
     "status": "ok",
     "timestamp": 1636446523097,
     "user": {
      "displayName": "Syed Haseeb",
      "photoUrl": "https://lh3.googleusercontent.com/a-/AOh14Ghtyrpv1wS3ySloKs5UgaBMGZCAFQg2TUIUdIfv=s64",
      "userId": "08863812421675956928"
     },
     "user_tz": -300
    },
    "id": "0Gvnw0etqzMG",
    "outputId": "abbdd286-72d5-4b6f-9385-7067e2f15ba0"
   },
   "outputs": [
    {
     "data": {
      "text/html": [
       "<div>\n",
       "<style scoped>\n",
       "    .dataframe tbody tr th:only-of-type {\n",
       "        vertical-align: middle;\n",
       "    }\n",
       "\n",
       "    .dataframe tbody tr th {\n",
       "        vertical-align: top;\n",
       "    }\n",
       "\n",
       "    .dataframe thead th {\n",
       "        text-align: right;\n",
       "    }\n",
       "</style>\n",
       "<table border=\"1\" class=\"dataframe\">\n",
       "  <thead>\n",
       "    <tr style=\"text-align: right;\">\n",
       "      <th></th>\n",
       "      <th>data</th>\n",
       "      <th>label</th>\n",
       "    </tr>\n",
       "  </thead>\n",
       "  <tbody>\n",
       "    <tr>\n",
       "      <th>64</th>\n",
       "      <td>Two Weeks Before Election, Trump Still Defend...</td>\n",
       "      <td>0</td>\n",
       "    </tr>\n",
       "    <tr>\n",
       "      <th>13382</th>\n",
       "      <td>PANIC! REUTERS/IPSOS Will Radically Change Way...</td>\n",
       "      <td>0</td>\n",
       "    </tr>\n",
       "    <tr>\n",
       "      <th>17057</th>\n",
       "      <td>Taliban kill at least 43 Afghan troops as they...</td>\n",
       "      <td>1</td>\n",
       "    </tr>\n",
       "    <tr>\n",
       "      <th>12699</th>\n",
       "      <td>YOU’RE FIRED! MITT ROMNEY’S NIECE Tells MI GOP...</td>\n",
       "      <td>0</td>\n",
       "    </tr>\n",
       "    <tr>\n",
       "      <th>1772</th>\n",
       "      <td>Melissa McCarthy Just Took On Sean Spicer’s ‘...</td>\n",
       "      <td>0</td>\n",
       "    </tr>\n",
       "    <tr>\n",
       "      <th>...</th>\n",
       "      <td>...</td>\n",
       "      <td>...</td>\n",
       "    </tr>\n",
       "    <tr>\n",
       "      <th>7305</th>\n",
       "      <td>Abe aims to underscore importance of Japan-U.S...</td>\n",
       "      <td>1</td>\n",
       "    </tr>\n",
       "    <tr>\n",
       "      <th>15653</th>\n",
       "      <td>OBAMA TO GRANT WORK PERMITS FOR SPOUSES OF ILL...</td>\n",
       "      <td>0</td>\n",
       "    </tr>\n",
       "    <tr>\n",
       "      <th>11271</th>\n",
       "      <td>Clinton expands on plan to tax wealthy as Sand...</td>\n",
       "      <td>1</td>\n",
       "    </tr>\n",
       "    <tr>\n",
       "      <th>6586</th>\n",
       "      <td>Cruz Trying To Hold Fiorina’s Hand Is More Aw...</td>\n",
       "      <td>0</td>\n",
       "    </tr>\n",
       "    <tr>\n",
       "      <th>284</th>\n",
       "      <td>Factbox: Trump on Twitter (December 6) - Ameri...</td>\n",
       "      <td>1</td>\n",
       "    </tr>\n",
       "  </tbody>\n",
       "</table>\n",
       "<p>44898 rows × 2 columns</p>\n",
       "</div>"
      ],
      "text/plain": [
       "                                                    data  label\n",
       "64      Two Weeks Before Election, Trump Still Defend...      0\n",
       "13382  PANIC! REUTERS/IPSOS Will Radically Change Way...      0\n",
       "17057  Taliban kill at least 43 Afghan troops as they...      1\n",
       "12699  YOU’RE FIRED! MITT ROMNEY’S NIECE Tells MI GOP...      0\n",
       "1772    Melissa McCarthy Just Took On Sean Spicer’s ‘...      0\n",
       "...                                                  ...    ...\n",
       "7305   Abe aims to underscore importance of Japan-U.S...      1\n",
       "15653  OBAMA TO GRANT WORK PERMITS FOR SPOUSES OF ILL...      0\n",
       "11271  Clinton expands on plan to tax wealthy as Sand...      1\n",
       "6586    Cruz Trying To Hold Fiorina’s Hand Is More Aw...      0\n",
       "284    Factbox: Trump on Twitter (December 6) - Ameri...      1\n",
       "\n",
       "[44898 rows x 2 columns]"
      ]
     },
     "execution_count": 16,
     "metadata": {},
     "output_type": "execute_result"
    }
   ],
   "source": [
    "data"
   ]
  },
  {
   "cell_type": "code",
   "execution_count": 17,
   "metadata": {
    "executionInfo": {
     "elapsed": 3319,
     "status": "ok",
     "timestamp": 1636446442568,
     "user": {
      "displayName": "Syed Haseeb",
      "photoUrl": "https://lh3.googleusercontent.com/a-/AOh14Ghtyrpv1wS3ySloKs5UgaBMGZCAFQg2TUIUdIfv=s64",
      "userId": "08863812421675956928"
     },
     "user_tz": -300
    },
    "id": "zBDaDsYpGdjE"
   },
   "outputs": [],
   "source": [
    "import tensorflow as tf\n",
    "import matplotlib.pyplot as plt\n",
    "import numpy as np\n",
    "import os\n",
    "import re\n",
    "import seaborn as sns\n",
    "import json\n",
    "from bs4 import BeautifulSoup\n",
    "import unicodedata\n",
    "import re\n",
    "import tensorflow.keras.layers as layers\n",
    "from tensorflow.keras.models import Model\n",
    "np.random.seed(10)"
   ]
  },
  {
   "cell_type": "code",
   "execution_count": 18,
   "metadata": {
    "executionInfo": {
     "elapsed": 7,
     "status": "ok",
     "timestamp": 1636446442568,
     "user": {
      "displayName": "Syed Haseeb",
      "photoUrl": "https://lh3.googleusercontent.com/a-/AOh14Ghtyrpv1wS3ySloKs5UgaBMGZCAFQg2TUIUdIfv=s64",
      "userId": "08863812421675956928"
     },
     "user_tz": -300
    },
    "id": "CVlPXaXZGz4h"
   },
   "outputs": [],
   "source": [
    "def remove_special_characters(text, remove_digits=False):\n",
    "\tpattern = r'[^a-zA-z0-9\\s]' if not remove_digits else r'[^a-zA-z\\s]'\n",
    "\ttext = re.sub(pattern, '', text)\n",
    "\treturn text"
   ]
  },
  {
   "cell_type": "markdown",
   "metadata": {
    "id": "bBG7DpQmAprk"
   },
   "source": [
    "## Next up, let's import everything we need. Run the following:"
   ]
  },
  {
   "cell_type": "code",
   "execution_count": 115,
   "metadata": {
    "colab": {
     "base_uri": "https://localhost:8080/"
    },
    "executionInfo": {
     "elapsed": 3935,
     "status": "ok",
     "timestamp": 1636381654096,
     "user": {
      "displayName": "Syed Haseeb",
      "photoUrl": "https://lh3.googleusercontent.com/a-/AOh14Ghtyrpv1wS3ySloKs5UgaBMGZCAFQg2TUIUdIfv=s64",
      "userId": "08863812421675956928"
     },
     "user_tz": -300
    },
    "id": "le9z6LaUbRpX",
    "outputId": "5ae44833-96a9-4123-b292-1a93e3f8eb99"
   },
   "outputs": [
    {
     "name": "stdout",
     "output_type": "stream",
     "text": [
      "Requirement already satisfied: transformers in /usr/local/lib/python3.7/dist-packages (4.10.3)\n",
      "Requirement already satisfied: sacremoses in /usr/local/lib/python3.7/dist-packages (from transformers) (0.0.46)\n",
      "Requirement already satisfied: requests in /usr/local/lib/python3.7/dist-packages (from transformers) (2.23.0)\n",
      "Requirement already satisfied: huggingface-hub>=0.0.12 in /usr/local/lib/python3.7/dist-packages (from transformers) (0.1.1)\n",
      "Requirement already satisfied: pyyaml>=5.1 in /usr/local/lib/python3.7/dist-packages (from transformers) (6.0)\n",
      "Requirement already satisfied: regex!=2019.12.17 in /usr/local/lib/python3.7/dist-packages (from transformers) (2019.12.20)\n",
      "Requirement already satisfied: packaging in /usr/local/lib/python3.7/dist-packages (from transformers) (21.0)\n",
      "Requirement already satisfied: importlib-metadata in /usr/local/lib/python3.7/dist-packages (from transformers) (4.8.1)\n",
      "Requirement already satisfied: numpy>=1.17 in /usr/local/lib/python3.7/dist-packages (from transformers) (1.19.5)\n",
      "Requirement already satisfied: tqdm>=4.27 in /usr/local/lib/python3.7/dist-packages (from transformers) (4.62.3)\n",
      "Requirement already satisfied: filelock in /usr/local/lib/python3.7/dist-packages (from transformers) (3.3.0)\n",
      "Requirement already satisfied: tokenizers<0.11,>=0.10.1 in /usr/local/lib/python3.7/dist-packages (from transformers) (0.10.3)\n",
      "Requirement already satisfied: typing-extensions>=3.7.4.3 in /usr/local/lib/python3.7/dist-packages (from huggingface-hub>=0.0.12->transformers) (3.7.4.3)\n",
      "Requirement already satisfied: pyparsing>=2.0.2 in /usr/local/lib/python3.7/dist-packages (from packaging->transformers) (2.4.7)\n",
      "Requirement already satisfied: zipp>=0.5 in /usr/local/lib/python3.7/dist-packages (from importlib-metadata->transformers) (3.6.0)\n",
      "Requirement already satisfied: urllib3!=1.25.0,!=1.25.1,<1.26,>=1.21.1 in /usr/local/lib/python3.7/dist-packages (from requests->transformers) (1.24.3)\n",
      "Requirement already satisfied: certifi>=2017.4.17 in /usr/local/lib/python3.7/dist-packages (from requests->transformers) (2021.5.30)\n",
      "Requirement already satisfied: idna<3,>=2.5 in /usr/local/lib/python3.7/dist-packages (from requests->transformers) (2.10)\n",
      "Requirement already satisfied: chardet<4,>=3.0.2 in /usr/local/lib/python3.7/dist-packages (from requests->transformers) (3.0.4)\n",
      "Requirement already satisfied: click in /usr/local/lib/python3.7/dist-packages (from sacremoses->transformers) (7.1.2)\n",
      "Requirement already satisfied: joblib in /usr/local/lib/python3.7/dist-packages (from sacremoses->transformers) (1.0.1)\n",
      "Requirement already satisfied: six in /usr/local/lib/python3.7/dist-packages (from sacremoses->transformers) (1.15.0)\n"
     ]
    }
   ],
   "source": [
    "!pip install transformers"
   ]
  },
  {
   "cell_type": "code",
   "execution_count": 7,
   "metadata": {
    "colab": {
     "base_uri": "https://localhost:8080/"
    },
    "executionInfo": {
     "elapsed": 35290,
     "status": "ok",
     "timestamp": 1636446492655,
     "user": {
      "displayName": "Syed Haseeb",
      "photoUrl": "https://lh3.googleusercontent.com/a-/AOh14Ghtyrpv1wS3ySloKs5UgaBMGZCAFQg2TUIUdIfv=s64",
      "userId": "08863812421675956928"
     },
     "user_tz": -300
    },
    "id": "sAYBZG2SX4nP",
    "outputId": "deccff04-032f-4695-9fe3-7280af76d81a"
   },
   "outputs": [
    {
     "name": "stdout",
     "output_type": "stream",
     "text": [
      "Collecting ktrain\n",
      "  Downloading ktrain-0.28.3.tar.gz (25.3 MB)\n",
      "\u001b[K     |████████████████████████████████| 25.3 MB 86 kB/s \n",
      "\u001b[?25hCollecting scikit-learn==0.23.2\n",
      "  Downloading scikit_learn-0.23.2-cp37-cp37m-manylinux1_x86_64.whl (6.8 MB)\n",
      "\u001b[K     |████████████████████████████████| 6.8 MB 18.3 MB/s \n",
      "\u001b[?25hRequirement already satisfied: matplotlib>=3.0.0 in /usr/local/lib/python3.7/dist-packages (from ktrain) (3.2.2)\n",
      "Requirement already satisfied: pandas>=1.0.1 in /usr/local/lib/python3.7/dist-packages (from ktrain) (1.1.5)\n",
      "Requirement already satisfied: fastprogress>=0.1.21 in /usr/local/lib/python3.7/dist-packages (from ktrain) (1.0.0)\n",
      "Requirement already satisfied: requests in /usr/local/lib/python3.7/dist-packages (from ktrain) (2.23.0)\n",
      "Requirement already satisfied: joblib in /usr/local/lib/python3.7/dist-packages (from ktrain) (1.0.1)\n",
      "Requirement already satisfied: packaging in /usr/local/lib/python3.7/dist-packages (from ktrain) (21.0)\n",
      "Collecting langdetect\n",
      "  Downloading langdetect-1.0.9.tar.gz (981 kB)\n",
      "\u001b[K     |████████████████████████████████| 981 kB 38.7 MB/s \n",
      "\u001b[?25hRequirement already satisfied: jieba in /usr/local/lib/python3.7/dist-packages (from ktrain) (0.42.1)\n",
      "Collecting cchardet\n",
      "  Downloading cchardet-2.1.7-cp37-cp37m-manylinux2010_x86_64.whl (263 kB)\n",
      "\u001b[K     |████████████████████████████████| 263 kB 34.7 MB/s \n",
      "\u001b[?25hRequirement already satisfied: chardet in /usr/local/lib/python3.7/dist-packages (from ktrain) (3.0.4)\n",
      "Collecting syntok\n",
      "  Downloading syntok-1.3.1.tar.gz (23 kB)\n",
      "Collecting seqeval==0.0.19\n",
      "  Downloading seqeval-0.0.19.tar.gz (30 kB)\n",
      "Collecting transformers<=4.10.3,>=4.0.0\n",
      "  Downloading transformers-4.10.3-py3-none-any.whl (2.8 MB)\n",
      "\u001b[K     |████████████████████████████████| 2.8 MB 38.0 MB/s \n",
      "\u001b[?25hCollecting sentencepiece\n",
      "  Downloading sentencepiece-0.1.96-cp37-cp37m-manylinux_2_17_x86_64.manylinux2014_x86_64.whl (1.2 MB)\n",
      "\u001b[K     |████████████████████████████████| 1.2 MB 43.2 MB/s \n",
      "\u001b[?25hCollecting keras_bert>=0.86.0\n",
      "  Downloading keras-bert-0.88.0.tar.gz (26 kB)\n",
      "Collecting whoosh\n",
      "  Downloading Whoosh-2.7.4-py2.py3-none-any.whl (468 kB)\n",
      "\u001b[K     |████████████████████████████████| 468 kB 48.5 MB/s \n",
      "\u001b[?25hRequirement already satisfied: numpy>=1.13.3 in /usr/local/lib/python3.7/dist-packages (from scikit-learn==0.23.2->ktrain) (1.19.5)\n",
      "Collecting threadpoolctl>=2.0.0\n",
      "  Downloading threadpoolctl-3.0.0-py3-none-any.whl (14 kB)\n",
      "Requirement already satisfied: scipy>=0.19.1 in /usr/local/lib/python3.7/dist-packages (from scikit-learn==0.23.2->ktrain) (1.4.1)\n",
      "Requirement already satisfied: Keras>=2.2.4 in /usr/local/lib/python3.7/dist-packages (from seqeval==0.0.19->ktrain) (2.6.0)\n",
      "Collecting keras-transformer>=0.39.0\n",
      "  Downloading keras-transformer-0.39.0.tar.gz (11 kB)\n",
      "Collecting keras-pos-embd>=0.12.0\n",
      "  Downloading keras-pos-embd-0.12.0.tar.gz (6.0 kB)\n",
      "Collecting keras-multi-head>=0.28.0\n",
      "  Downloading keras-multi-head-0.28.0.tar.gz (14 kB)\n",
      "Collecting keras-layer-normalization>=0.15.0\n",
      "  Downloading keras-layer-normalization-0.15.0.tar.gz (4.2 kB)\n",
      "Collecting keras-position-wise-feed-forward>=0.7.0\n",
      "  Downloading keras-position-wise-feed-forward-0.7.0.tar.gz (4.5 kB)\n",
      "Collecting keras-embed-sim>=0.9.0\n",
      "  Downloading keras-embed-sim-0.9.0.tar.gz (4.1 kB)\n",
      "Collecting keras-self-attention>=0.50.0\n",
      "  Downloading keras-self-attention-0.50.0.tar.gz (12 kB)\n",
      "Requirement already satisfied: cycler>=0.10 in /usr/local/lib/python3.7/dist-packages (from matplotlib>=3.0.0->ktrain) (0.10.0)\n",
      "Requirement already satisfied: pyparsing!=2.0.4,!=2.1.2,!=2.1.6,>=2.0.1 in /usr/local/lib/python3.7/dist-packages (from matplotlib>=3.0.0->ktrain) (2.4.7)\n",
      "Requirement already satisfied: kiwisolver>=1.0.1 in /usr/local/lib/python3.7/dist-packages (from matplotlib>=3.0.0->ktrain) (1.3.2)\n",
      "Requirement already satisfied: python-dateutil>=2.1 in /usr/local/lib/python3.7/dist-packages (from matplotlib>=3.0.0->ktrain) (2.8.2)\n",
      "Requirement already satisfied: six in /usr/local/lib/python3.7/dist-packages (from cycler>=0.10->matplotlib>=3.0.0->ktrain) (1.15.0)\n",
      "Requirement already satisfied: pytz>=2017.2 in /usr/local/lib/python3.7/dist-packages (from pandas>=1.0.1->ktrain) (2018.9)\n",
      "Collecting sacremoses\n",
      "  Downloading sacremoses-0.0.46-py3-none-any.whl (895 kB)\n",
      "\u001b[K     |████████████████████████████████| 895 kB 40.6 MB/s \n",
      "\u001b[?25hCollecting huggingface-hub>=0.0.12\n",
      "  Downloading huggingface_hub-0.1.2-py3-none-any.whl (59 kB)\n",
      "\u001b[K     |████████████████████████████████| 59 kB 7.0 MB/s \n",
      "\u001b[?25hRequirement already satisfied: filelock in /usr/local/lib/python3.7/dist-packages (from transformers<=4.10.3,>=4.0.0->ktrain) (3.3.0)\n",
      "Requirement already satisfied: regex!=2019.12.17 in /usr/local/lib/python3.7/dist-packages (from transformers<=4.10.3,>=4.0.0->ktrain) (2019.12.20)\n",
      "Collecting pyyaml>=5.1\n",
      "  Downloading PyYAML-6.0-cp37-cp37m-manylinux_2_5_x86_64.manylinux1_x86_64.manylinux_2_12_x86_64.manylinux2010_x86_64.whl (596 kB)\n",
      "\u001b[K     |████████████████████████████████| 596 kB 31.1 MB/s \n",
      "\u001b[?25hRequirement already satisfied: tqdm>=4.27 in /usr/local/lib/python3.7/dist-packages (from transformers<=4.10.3,>=4.0.0->ktrain) (4.62.3)\n",
      "Collecting tokenizers<0.11,>=0.10.1\n",
      "  Downloading tokenizers-0.10.3-cp37-cp37m-manylinux_2_5_x86_64.manylinux1_x86_64.manylinux_2_12_x86_64.manylinux2010_x86_64.whl (3.3 MB)\n",
      "\u001b[K     |████████████████████████████████| 3.3 MB 41.8 MB/s \n",
      "\u001b[?25hRequirement already satisfied: importlib-metadata in /usr/local/lib/python3.7/dist-packages (from transformers<=4.10.3,>=4.0.0->ktrain) (4.8.1)\n",
      "Requirement already satisfied: typing-extensions>=3.7.4.3 in /usr/local/lib/python3.7/dist-packages (from huggingface-hub>=0.0.12->transformers<=4.10.3,>=4.0.0->ktrain) (3.7.4.3)\n",
      "Requirement already satisfied: zipp>=0.5 in /usr/local/lib/python3.7/dist-packages (from importlib-metadata->transformers<=4.10.3,>=4.0.0->ktrain) (3.6.0)\n",
      "Requirement already satisfied: urllib3!=1.25.0,!=1.25.1,<1.26,>=1.21.1 in /usr/local/lib/python3.7/dist-packages (from requests->ktrain) (1.24.3)\n",
      "Requirement already satisfied: certifi>=2017.4.17 in /usr/local/lib/python3.7/dist-packages (from requests->ktrain) (2021.5.30)\n",
      "Requirement already satisfied: idna<3,>=2.5 in /usr/local/lib/python3.7/dist-packages (from requests->ktrain) (2.10)\n",
      "Requirement already satisfied: click in /usr/local/lib/python3.7/dist-packages (from sacremoses->transformers<=4.10.3,>=4.0.0->ktrain) (7.1.2)\n",
      "Building wheels for collected packages: ktrain, seqeval, keras-bert, keras-transformer, keras-embed-sim, keras-layer-normalization, keras-multi-head, keras-pos-embd, keras-position-wise-feed-forward, keras-self-attention, langdetect, syntok\n",
      "  Building wheel for ktrain (setup.py) ... \u001b[?25l\u001b[?25hdone\n",
      "  Created wheel for ktrain: filename=ktrain-0.28.3-py3-none-any.whl size=25292659 sha256=42f7941e5752c0d5e8e504fca78173c58c6fbaec3fe5977ac8e49efacd933b93\n",
      "  Stored in directory: /root/.cache/pip/wheels/6a/7e/c3/f46cdfc2b81c54424923b1405d7e670c35cacc11ada9a47b1c\n",
      "  Building wheel for seqeval (setup.py) ... \u001b[?25l\u001b[?25hdone\n",
      "  Created wheel for seqeval: filename=seqeval-0.0.19-py3-none-any.whl size=9929 sha256=7587fd02c3361773aef2d0a8b401b3247fbf88fa3c5ebc0e2d1afea350286827\n",
      "  Stored in directory: /root/.cache/pip/wheels/f5/ac/f1/4e13d7aff05c722d142b7d20a88ad63f9aab11b895411241a4\n",
      "  Building wheel for keras-bert (setup.py) ... \u001b[?25l\u001b[?25hdone\n",
      "  Created wheel for keras-bert: filename=keras_bert-0.88.0-py3-none-any.whl size=34204 sha256=8d91967a8e98940fe33d1d63f244830bf5c10d7f1ee79c94bc0e40c99db82582\n",
      "  Stored in directory: /root/.cache/pip/wheels/a2/90/cd/c038f2366929a3a5e3414a303b673e10235e802d871d29a835\n",
      "  Building wheel for keras-transformer (setup.py) ... \u001b[?25l\u001b[?25hdone\n",
      "  Created wheel for keras-transformer: filename=keras_transformer-0.39.0-py3-none-any.whl size=12842 sha256=7cbe64b1d53941e5e11e6d838655b4f02c08eda99d155e416802dd9ec6090673\n",
      "  Stored in directory: /root/.cache/pip/wheels/bc/01/e0/5a1a14bed6726f2ed73f7917d2d2c2d4081d2c88426dea07ce\n",
      "  Building wheel for keras-embed-sim (setup.py) ... \u001b[?25l\u001b[?25hdone\n",
      "  Created wheel for keras-embed-sim: filename=keras_embed_sim-0.9.0-py3-none-any.whl size=4504 sha256=8dba4864dea157671264f912441f438415e738df77c7f28b4288be6505eb942c\n",
      "  Stored in directory: /root/.cache/pip/wheels/a8/1e/d2/9bc15513dd2f8b9de3e628b3aa9d2de49e721deef6bbd1497e\n",
      "  Building wheel for keras-layer-normalization (setup.py) ... \u001b[?25l\u001b[?25hdone\n",
      "  Created wheel for keras-layer-normalization: filename=keras_layer_normalization-0.15.0-py3-none-any.whl size=5224 sha256=185c5c24ba567e4971dfe0cef7bd46a69d3ed6b2567d02ff240da11d33a8545e\n",
      "  Stored in directory: /root/.cache/pip/wheels/4d/be/fe/55422f77ac11fe6ddcb471198038de8a26b5a4dd1557883c1e\n",
      "  Building wheel for keras-multi-head (setup.py) ... \u001b[?25l\u001b[?25hdone\n",
      "  Created wheel for keras-multi-head: filename=keras_multi_head-0.28.0-py3-none-any.whl size=15559 sha256=6c7828665f2eaf76770b9d50c2b06cc1f9b4bbca075ec725bf47dceac57a208b\n",
      "  Stored in directory: /root/.cache/pip/wheels/79/4a/ea/9503ab5a02201dfb8635ba2cc8f30844661623c684a5b44472\n",
      "  Building wheel for keras-pos-embd (setup.py) ... \u001b[?25l\u001b[?25hdone\n",
      "  Created wheel for keras-pos-embd: filename=keras_pos_embd-0.12.0-py3-none-any.whl size=7469 sha256=01a4595ab15c0875d87d6cdb4150699f233c8fb5431063cba48be3dea5577ee0\n",
      "  Stored in directory: /root/.cache/pip/wheels/77/99/fd/dd98f4876c3ebbef7aab0dbfbd37bca41d7db37d3a28b2cb09\n",
      "  Building wheel for keras-position-wise-feed-forward (setup.py) ... \u001b[?25l\u001b[?25hdone\n",
      "  Created wheel for keras-position-wise-feed-forward: filename=keras_position_wise_feed_forward-0.7.0-py3-none-any.whl size=5541 sha256=3678a5d6cbda3ab1567b4c70437fb5b69b1a5c148ac7e4a0f21a99e629a7842c\n",
      "  Stored in directory: /root/.cache/pip/wheels/2d/12/02/1ad455c4f181cda1a4e60c5445855853d5c2ea91f942586a04\n",
      "  Building wheel for keras-self-attention (setup.py) ... \u001b[?25l\u001b[?25hdone\n",
      "  Created wheel for keras-self-attention: filename=keras_self_attention-0.50.0-py3-none-any.whl size=19414 sha256=d8ff7e2a05c5f83ffe95a50c1ad4069ac914d5ea04c583561ec8c4579bd581ef\n",
      "  Stored in directory: /root/.cache/pip/wheels/92/7a/a3/231bef5803298e7ec1815215bc0613239cb1e9c03c57b13c14\n",
      "  Building wheel for langdetect (setup.py) ... \u001b[?25l\u001b[?25hdone\n",
      "  Created wheel for langdetect: filename=langdetect-1.0.9-py3-none-any.whl size=993242 sha256=7d3c05068cca3ef3dd35b5245a142816e61a9e4385f3c90992111056c1280cbe\n",
      "  Stored in directory: /root/.cache/pip/wheels/c5/96/8a/f90c59ed25d75e50a8c10a1b1c2d4c402e4dacfa87f3aff36a\n",
      "  Building wheel for syntok (setup.py) ... \u001b[?25l\u001b[?25hdone\n",
      "  Created wheel for syntok: filename=syntok-1.3.1-py3-none-any.whl size=20917 sha256=c08bd4254d14135dba6e7e67e5ae7721ab6463c432c04d7a55a2e554a6d41c85\n",
      "  Stored in directory: /root/.cache/pip/wheels/5e/c2/33/e5d7d8f2f8b0c391d76bf82b844c3151bf23a84d75d02b185f\n",
      "Successfully built ktrain seqeval keras-bert keras-transformer keras-embed-sim keras-layer-normalization keras-multi-head keras-pos-embd keras-position-wise-feed-forward keras-self-attention langdetect syntok\n",
      "Installing collected packages: keras-self-attention, pyyaml, keras-position-wise-feed-forward, keras-pos-embd, keras-multi-head, keras-layer-normalization, keras-embed-sim, tokenizers, threadpoolctl, sacremoses, keras-transformer, huggingface-hub, whoosh, transformers, syntok, seqeval, sentencepiece, scikit-learn, langdetect, keras-bert, cchardet, ktrain\n",
      "  Attempting uninstall: pyyaml\n",
      "    Found existing installation: PyYAML 3.13\n",
      "    Uninstalling PyYAML-3.13:\n",
      "      Successfully uninstalled PyYAML-3.13\n",
      "  Attempting uninstall: scikit-learn\n",
      "    Found existing installation: scikit-learn 0.22.2.post1\n",
      "    Uninstalling scikit-learn-0.22.2.post1:\n",
      "      Successfully uninstalled scikit-learn-0.22.2.post1\n",
      "Successfully installed cchardet-2.1.7 huggingface-hub-0.1.2 keras-bert-0.88.0 keras-embed-sim-0.9.0 keras-layer-normalization-0.15.0 keras-multi-head-0.28.0 keras-pos-embd-0.12.0 keras-position-wise-feed-forward-0.7.0 keras-self-attention-0.50.0 keras-transformer-0.39.0 ktrain-0.28.3 langdetect-1.0.9 pyyaml-6.0 sacremoses-0.0.46 scikit-learn-0.23.2 sentencepiece-0.1.96 seqeval-0.0.19 syntok-1.3.1 threadpoolctl-3.0.0 tokenizers-0.10.3 transformers-4.10.3 whoosh-2.7.4\n"
     ]
    }
   ],
   "source": [
    "!pip install ktrain"
   ]
  },
  {
   "cell_type": "code",
   "execution_count": 19,
   "metadata": {
    "executionInfo": {
     "elapsed": 26276,
     "status": "ok",
     "timestamp": 1636446518924,
     "user": {
      "displayName": "Syed Haseeb",
      "photoUrl": "https://lh3.googleusercontent.com/a-/AOh14Ghtyrpv1wS3ySloKs5UgaBMGZCAFQg2TUIUdIfv=s64",
      "userId": "08863812421675956928"
     },
     "user_tz": -300
    },
    "id": "fS6McS9lgrnS"
   },
   "outputs": [],
   "source": [
    "import ktrain\n",
    "from ktrain import text"
   ]
  },
  {
   "cell_type": "code",
   "execution_count": 20,
   "metadata": {
    "executionInfo": {
     "elapsed": 5,
     "status": "ok",
     "timestamp": 1636446518925,
     "user": {
      "displayName": "Syed Haseeb",
      "photoUrl": "https://lh3.googleusercontent.com/a-/AOh14Ghtyrpv1wS3ySloKs5UgaBMGZCAFQg2TUIUdIfv=s64",
      "userId": "08863812421675956928"
     },
     "user_tz": -300
    },
    "id": "hZRJjqakZZcf"
   },
   "outputs": [],
   "source": [
    "tags = [0,1]"
   ]
  },
  {
   "cell_type": "code",
   "execution_count": 21,
   "metadata": {
    "colab": {
     "base_uri": "https://localhost:8080/"
    },
    "executionInfo": {
     "elapsed": 8,
     "status": "ok",
     "timestamp": 1636377071544,
     "user": {
      "displayName": "Syed Haseeb",
      "photoUrl": "https://lh3.googleusercontent.com/a-/AOh14Ghtyrpv1wS3ySloKs5UgaBMGZCAFQg2TUIUdIfv=s64",
      "userId": "08863812421675956928"
     },
     "user_tz": -300
    },
    "id": "dQ8mi4L5axh4",
    "outputId": "dbf17eb5-3f0f-4be5-8296-17804464ee2f"
   },
   "outputs": [
    {
     "data": {
      "text/plain": [
       "[0, 1]"
      ]
     },
     "execution_count": 21,
     "metadata": {},
     "output_type": "execute_result"
    }
   ],
   "source": [
    "tags"
   ]
  },
  {
   "cell_type": "markdown",
   "metadata": {
    "id": "Qrb1JDzgApr-"
   },
   "source": [
    "## Let's perform some data cleaning"
   ]
  },
  {
   "cell_type": "code",
   "execution_count": 22,
   "metadata": {
    "executionInfo": {
     "elapsed": 494,
     "status": "ok",
     "timestamp": 1636446528306,
     "user": {
      "displayName": "Syed Haseeb",
      "photoUrl": "https://lh3.googleusercontent.com/a-/AOh14Ghtyrpv1wS3ySloKs5UgaBMGZCAFQg2TUIUdIfv=s64",
      "userId": "08863812421675956928"
     },
     "user_tz": -300
    },
    "id": "J0NENIVFU0zM"
   },
   "outputs": [],
   "source": [
    "from sklearn.model_selection import train_test_split"
   ]
  },
  {
   "cell_type": "code",
   "execution_count": 23,
   "metadata": {
    "executionInfo": {
     "elapsed": 6,
     "status": "ok",
     "timestamp": 1636446528953,
     "user": {
      "displayName": "Syed Haseeb",
      "photoUrl": "https://lh3.googleusercontent.com/a-/AOh14Ghtyrpv1wS3ySloKs5UgaBMGZCAFQg2TUIUdIfv=s64",
      "userId": "08863812421675956928"
     },
     "user_tz": -300
    },
    "id": "gkxJ3AhQIuFg"
   },
   "outputs": [],
   "source": [
    "x_train, x_test, y_train, y_test = train_test_split(data[\"data\"], data[\"label\"], test_size=0.01, random_state = 10)"
   ]
  },
  {
   "cell_type": "markdown",
   "metadata": {
    "id": "pe5xxVPrb4IO"
   },
   "source": [
    "## STEP 1:  Preprocess Data and Create a Transformer Model\n",
    "\n",
    "We will use BERT"
   ]
  },
  {
   "cell_type": "code",
   "execution_count": null,
   "metadata": {
    "colab": {
     "base_uri": "https://localhost:8080/",
     "height": 272
    },
    "executionInfo": {
     "elapsed": 90782,
     "status": "ok",
     "timestamp": 1636449730943,
     "user": {
      "displayName": "Syed Haseeb",
      "photoUrl": "https://lh3.googleusercontent.com/a-/AOh14Ghtyrpv1wS3ySloKs5UgaBMGZCAFQg2TUIUdIfv=s64",
      "userId": "08863812421675956928"
     },
     "user_tz": -300
    },
    "id": "5phkVc7ZYnue",
    "outputId": "c89c3c57-5a8a-4cc3-c622-40d432d487ee"
   },
   "outputs": [],
   "source": [
    "MODEL_NAME = 'bert-base-uncased'\n",
    "t = text.Transformer(MODEL_NAME, maxlen=10, classes=tags)\n",
    "trn = t.preprocess_train(x_train.values, y_train.values)\n",
    "val = t.preprocess_test(x_test.values, y_test.values)\n",
    "model = t.get_classifier()\n",
    "learner = ktrain.get_learner(model, train_data=trn, \n",
    "                             val_data=val, \n",
    "                             batch_size=6)"
   ]
  },
  {
   "cell_type": "markdown",
   "metadata": {
    "id": "G4sGPJgOcBTd"
   },
   "source": [
    "## STEP 2:  Train the Model"
   ]
  },
  {
   "cell_type": "code",
   "execution_count": 27,
   "metadata": {
    "colab": {
     "base_uri": "https://localhost:8080/"
    },
    "executionInfo": {
     "elapsed": 462933,
     "status": "ok",
     "timestamp": 1636377701543,
     "user": {
      "displayName": "Syed Haseeb",
      "photoUrl": "https://lh3.googleusercontent.com/a-/AOh14Ghtyrpv1wS3ySloKs5UgaBMGZCAFQg2TUIUdIfv=s64",
      "userId": "08863812421675956928"
     },
     "user_tz": -300
    },
    "id": "rhy4nKi77aEd",
    "outputId": "ccaa96a4-7a54-4d8c-c9d6-18334d6786d9"
   },
   "outputs": [
    {
     "name": "stdout",
     "output_type": "stream",
     "text": [
      "simulating training for different learning rates... this may take a few moments...\n",
      "Epoch 1/1024\n",
      "7408/7408 [==============================] - 1218s 160ms/step - loss: 2.6590 - accuracy: 0.6039\n",
      "\n",
      "\n",
      "done.\n",
      "Please invoke the Learner.lr_plot() method to visually inspect the loss plot to help identify the maximal learning rate associated with falling loss.\n"
     ]
    }
   ],
   "source": [
    "learner.lr_find()"
   ]
  },
  {
   "cell_type": "code",
   "execution_count": 28,
   "metadata": {
    "colab": {
     "base_uri": "https://localhost:8080/",
     "height": 283
    },
    "executionInfo": {
     "elapsed": 1795,
     "status": "ok",
     "timestamp": 1636378858881,
     "user": {
      "displayName": "Syed Haseeb",
      "photoUrl": "https://lh3.googleusercontent.com/a-/AOh14Ghtyrpv1wS3ySloKs5UgaBMGZCAFQg2TUIUdIfv=s64",
      "userId": "08863812421675956928"
     },
     "user_tz": -300
    },
    "id": "H4ZrQBj38EVF",
    "outputId": "2b8af728-2ebf-4b27-e2eb-23dc93a0f169"
   },
   "outputs": [
    {
     "data": {
      "image/png": "[encoded data removed]",
      "text/plain": [
       "<Figure size 432x288 with 1 Axes>"
      ]
     },
     "metadata": {
      "needs_background": "light"
     },
     "output_type": "display_data"
    }
   ],
   "source": [
    "learner.lr_plot()"
   ]
  },
  {
   "cell_type": "code",
   "execution_count": 29,
   "metadata": {
    "colab": {
     "base_uri": "https://localhost:8080/",
     "height": 419
    },
    "executionInfo": {
     "elapsed": 1598,
     "status": "ok",
     "timestamp": 1636384373667,
     "user": {
      "displayName": "Syed Haseeb",
      "photoUrl": "https://lh3.googleusercontent.com/a-/AOh14Ghtyrpv1wS3ySloKs5UgaBMGZCAFQg2TUIUdIfv=s64",
      "userId": "08863812421675956928"
     },
     "user_tz": -300
    },
    "id": "A85ldng543wC",
    "outputId": "f1adaab4-1507-4833-ed6c-0231ce51e671"
   },
   "outputs": [
    {
     "data": {
      "text/html": [
       "<div>\n",
       "<style scoped>\n",
       "    .dataframe tbody tr th:only-of-type {\n",
       "        vertical-align: middle;\n",
       "    }\n",
       "\n",
       "    .dataframe tbody tr th {\n",
       "        vertical-align: top;\n",
       "    }\n",
       "\n",
       "    .dataframe thead th {\n",
       "        text-align: right;\n",
       "    }\n",
       "</style>\n",
       "<table border=\"1\" class=\"dataframe\">\n",
       "  <thead>\n",
       "    <tr style=\"text-align: right;\">\n",
       "      <th></th>\n",
       "      <th>data</th>\n",
       "      <th>label</th>\n",
       "    </tr>\n",
       "  </thead>\n",
       "  <tbody>\n",
       "    <tr>\n",
       "      <th>64</th>\n",
       "      <td>Two Weeks Before Election, Trump Still Defend...</td>\n",
       "      <td>0</td>\n",
       "    </tr>\n",
       "    <tr>\n",
       "      <th>13382</th>\n",
       "      <td>PANIC! REUTERS/IPSOS Will Radically Change Way...</td>\n",
       "      <td>0</td>\n",
       "    </tr>\n",
       "    <tr>\n",
       "      <th>17057</th>\n",
       "      <td>Taliban kill at least 43 Afghan troops as they...</td>\n",
       "      <td>1</td>\n",
       "    </tr>\n",
       "    <tr>\n",
       "      <th>12699</th>\n",
       "      <td>YOU’RE FIRED! MITT ROMNEY’S NIECE Tells MI GOP...</td>\n",
       "      <td>0</td>\n",
       "    </tr>\n",
       "    <tr>\n",
       "      <th>1772</th>\n",
       "      <td>Melissa McCarthy Just Took On Sean Spicer’s ‘...</td>\n",
       "      <td>0</td>\n",
       "    </tr>\n",
       "    <tr>\n",
       "      <th>...</th>\n",
       "      <td>...</td>\n",
       "      <td>...</td>\n",
       "    </tr>\n",
       "    <tr>\n",
       "      <th>7305</th>\n",
       "      <td>Abe aims to underscore importance of Japan-U.S...</td>\n",
       "      <td>1</td>\n",
       "    </tr>\n",
       "    <tr>\n",
       "      <th>15653</th>\n",
       "      <td>OBAMA TO GRANT WORK PERMITS FOR SPOUSES OF ILL...</td>\n",
       "      <td>0</td>\n",
       "    </tr>\n",
       "    <tr>\n",
       "      <th>11271</th>\n",
       "      <td>Clinton expands on plan to tax wealthy as Sand...</td>\n",
       "      <td>1</td>\n",
       "    </tr>\n",
       "    <tr>\n",
       "      <th>6586</th>\n",
       "      <td>Cruz Trying To Hold Fiorina’s Hand Is More Aw...</td>\n",
       "      <td>0</td>\n",
       "    </tr>\n",
       "    <tr>\n",
       "      <th>284</th>\n",
       "      <td>Factbox: Trump on Twitter (December 6) - Ameri...</td>\n",
       "      <td>1</td>\n",
       "    </tr>\n",
       "  </tbody>\n",
       "</table>\n",
       "<p>44898 rows × 2 columns</p>\n",
       "</div>"
      ],
      "text/plain": [
       "                                                    data  label\n",
       "64      Two Weeks Before Election, Trump Still Defend...      0\n",
       "13382  PANIC! REUTERS/IPSOS Will Radically Change Way...      0\n",
       "17057  Taliban kill at least 43 Afghan troops as they...      1\n",
       "12699  YOU’RE FIRED! MITT ROMNEY’S NIECE Tells MI GOP...      0\n",
       "1772    Melissa McCarthy Just Took On Sean Spicer’s ‘...      0\n",
       "...                                                  ...    ...\n",
       "7305   Abe aims to underscore importance of Japan-U.S...      1\n",
       "15653  OBAMA TO GRANT WORK PERMITS FOR SPOUSES OF ILL...      0\n",
       "11271  Clinton expands on plan to tax wealthy as Sand...      1\n",
       "6586    Cruz Trying To Hold Fiorina’s Hand Is More Aw...      0\n",
       "284    Factbox: Trump on Twitter (December 6) - Ameri...      1\n",
       "\n",
       "[44898 rows x 2 columns]"
      ]
     },
     "execution_count": 29,
     "metadata": {},
     "output_type": "execute_result"
    }
   ],
   "source": [
    "data"
   ]
  },
  {
   "cell_type": "code",
   "execution_count": 30,
   "metadata": {
    "colab": {
     "base_uri": "https://localhost:8080/",
     "height": 323
    },
    "executionInfo": {
     "elapsed": 331483,
     "status": "error",
     "timestamp": 1636450062403,
     "user": {
      "displayName": "Syed Haseeb",
      "photoUrl": "https://lh3.googleusercontent.com/a-/AOh14Ghtyrpv1wS3ySloKs5UgaBMGZCAFQg2TUIUdIfv=s64",
      "userId": "08863812421675956928"
     },
     "user_tz": -300
    },
    "id": "c_nH_F9yYvCd",
    "outputId": "70a2342d-910c-47e4-80dc-4e157047e12e"
   },
   "outputs": [
    {
     "name": "stdout",
     "output_type": "stream",
     "text": [
      "7409/7409 [==============================] - 5778s 776ms/step - loss: 0.2197 - accuracy: 0.9096 - val_loss: 0.0982 - val_accuracy: 0.9666\n"
     ]
    }
   ],
   "source": [
    "history = learner.fit(1e-5, 1)"
   ]
  },
  {
   "cell_type": "markdown",
   "metadata": {
    "id": "ho6eSo9IcI3_"
   },
   "source": [
    "## STEP 3: Evaluate and Inspect the Model"
   ]
  },
  {
   "cell_type": "code",
   "execution_count": null,
   "metadata": {
    "colab": {
     "base_uri": "https://localhost:8080/"
    },
    "executionInfo": {
     "elapsed": 4604,
     "status": "ok",
     "timestamp": 1636450073698,
     "user": {
      "displayName": "Syed Haseeb",
      "photoUrl": "https://lh3.googleusercontent.com/a-/AOh14Ghtyrpv1wS3ySloKs5UgaBMGZCAFQg2TUIUdIfv=s64",
      "userId": "08863812421675956928"
     },
     "user_tz": -300
    },
    "id": "UvcxCvLOcOje",
    "outputId": "6688863f-b7ce-42a8-9eeb-d1f0143c462d"
   },
   "outputs": [],
   "source": [
    "learner.validate(class_names=t.get_classes())"
   ]
  },
  {
   "cell_type": "markdown",
   "metadata": {
    "id": "yhG3fPtPcVKe"
   },
   "source": [
    "Let's examine the validation examples about which we were the most wrong."
   ]
  },
  {
   "cell_type": "code",
   "execution_count": null,
   "metadata": {
    "colab": {
     "base_uri": "https://localhost:8080/"
    },
    "executionInfo": {
     "elapsed": 5885,
     "status": "ok",
     "timestamp": 1636449311321,
     "user": {
      "displayName": "Syed Haseeb",
      "photoUrl": "https://lh3.googleusercontent.com/a-/AOh14Ghtyrpv1wS3ySloKs5UgaBMGZCAFQg2TUIUdIfv=s64",
      "userId": "08863812421675956928"
     },
     "user_tz": -300
    },
    "id": "mCABLebacTWM",
    "outputId": "fa6edc12-4dce-4a46-b522-09bf32d5e9d8"
   },
   "outputs": [],
   "source": [
    "learner.view_top_losses(n=5, preproc=t)"
   ]
  },
  {
   "cell_type": "markdown",
   "metadata": {
    "id": "CcZQ6HbqdMcF"
   },
   "source": [
    "## STEP 4: Making Predictions on New Data in Deployment"
   ]
  },
  {
   "cell_type": "code",
   "execution_count": null,
   "metadata": {
    "executionInfo": {
     "elapsed": 6,
     "status": "ok",
     "timestamp": 1636450135524,
     "user": {
      "displayName": "Syed Haseeb",
      "photoUrl": "https://lh3.googleusercontent.com/a-/AOh14Ghtyrpv1wS3ySloKs5UgaBMGZCAFQg2TUIUdIfv=s64",
      "userId": "08863812421675956928"
     },
     "user_tz": -300
    },
    "id": "hp8tw3Y0cnJa"
   },
   "outputs": [],
   "source": [
    "predictor = ktrain.get_predictor(learner.model, preproc=t)"
   ]
  },
  {
   "cell_type": "code",
   "execution_count": null,
   "metadata": {
    "colab": {
     "base_uri": "https://localhost:8080/"
    },
    "executionInfo": {
     "elapsed": 617,
     "status": "ok",
     "timestamp": 1636450160672,
     "user": {
      "displayName": "Syed Haseeb",
      "photoUrl": "https://lh3.googleusercontent.com/a-/AOh14Ghtyrpv1wS3ySloKs5UgaBMGZCAFQg2TUIUdIfv=s64",
      "userId": "08863812421675956928"
     },
     "user_tz": -300
    },
    "id": "JuMmx8f5dr45",
    "outputId": "0e6e6e7a-f643-4867-8cac-98e465796c17"
   },
   "outputs": [],
   "source": [
    "# predicted probability scores for each category\n",
    "predictor.predict_proba('Trump dies of laughter')"
   ]
  },
  {
   "cell_type": "code",
   "execution_count": null,
   "metadata": {
    "colab": {
     "base_uri": "https://localhost:8080/"
    },
    "executionInfo": {
     "elapsed": 442,
     "status": "ok",
     "timestamp": 1636450169936,
     "user": {
      "displayName": "Syed Haseeb",
      "photoUrl": "https://lh3.googleusercontent.com/a-/AOh14Ghtyrpv1wS3ySloKs5UgaBMGZCAFQg2TUIUdIfv=s64",
      "userId": "08863812421675956928"
     },
     "user_tz": -300
    },
    "id": "ldxX1mtLd3Nq",
    "outputId": "6f4a7a6c-16d5-4526-fd70-89bc77726a87"
   },
   "outputs": [],
   "source": [
    "predictor.get_classes()"
   ]
  },
  {
   "cell_type": "markdown",
   "metadata": {
    "id": "CLWtb8Kb0Mfq"
   },
   "source": [
    "## Reload saved Model"
   ]
  },
  {
   "cell_type": "code",
   "execution_count": null,
   "metadata": {
    "executionInfo": {
     "elapsed": 1511,
     "status": "ok",
     "timestamp": 1636450228818,
     "user": {
      "displayName": "Syed Haseeb",
      "photoUrl": "https://lh3.googleusercontent.com/a-/AOh14Ghtyrpv1wS3ySloKs5UgaBMGZCAFQg2TUIUdIfv=s64",
      "userId": "08863812421675956928"
     },
     "user_tz": -300
    },
    "id": "DDEU2s03fHsw"
   },
   "outputs": [],
   "source": [
    "reloaded_predictor = ktrain.load_predictor('bert-short-new-half-trained')"
   ]
  },
  {
   "cell_type": "code",
   "execution_count": null,
   "metadata": {
    "colab": {
     "base_uri": "https://localhost:8080/",
     "height": 169
    },
    "executionInfo": {
     "elapsed": 8482,
     "status": "ok",
     "timestamp": 1636450288901,
     "user": {
      "displayName": "Syed Haseeb",
      "photoUrl": "https://lh3.googleusercontent.com/a-/AOh14Ghtyrpv1wS3ySloKs5UgaBMGZCAFQg2TUIUdIfv=s64",
      "userId": "08863812421675956928"
     },
     "user_tz": -300
    },
    "id": "B4R1r12rgNlI",
    "outputId": "038710de-3f77-42d6-d9e1-63c1916fc978"
   },
   "outputs": [],
   "source": [
    "reloaded_predictor.explain(\"HILLARY CLINTON FOR PRESIDENT\")"
   ]
  },
  {
   "cell_type": "markdown",
   "metadata": {
    "id": "EhkQIrAXIVDR"
   },
   "source": [
    "## Now loading Test Set:"
   ]
  },
  {
   "cell_type": "code",
   "execution_count": null,
   "metadata": {
    "executionInfo": {
     "elapsed": 352,
     "status": "ok",
     "timestamp": 1636446720992,
     "user": {
      "displayName": "Syed Haseeb",
      "photoUrl": "https://lh3.googleusercontent.com/a-/AOh14Ghtyrpv1wS3ySloKs5UgaBMGZCAFQg2TUIUdIfv=s64",
      "userId": "08863812421675956928"
     },
     "user_tz": -300
    },
    "id": "UWLk_QIIIAMA"
   },
   "outputs": [],
   "source": [
    "fake_files = os.listdir(\"../data/New Folder/Fake\")"
   ]
  },
  {
   "cell_type": "code",
   "execution_count": null,
   "metadata": {
    "executionInfo": {
     "elapsed": 3,
     "status": "ok",
     "timestamp": 1636446722160,
     "user": {
      "displayName": "Syed Haseeb",
      "photoUrl": "https://lh3.googleusercontent.com/a-/AOh14Ghtyrpv1wS3ySloKs5UgaBMGZCAFQg2TUIUdIfv=s64",
      "userId": "08863812421675956928"
     },
     "user_tz": -300
    },
    "id": "nBbJ3pzaIFff"
   },
   "outputs": [],
   "source": [
    "fake_files = [file for file in fake_files]"
   ]
  },
  {
   "cell_type": "code",
   "execution_count": null,
   "metadata": {
    "colab": {
     "base_uri": "https://localhost:8080/"
    },
    "executionInfo": {
     "elapsed": 336,
     "status": "ok",
     "timestamp": 1636447257681,
     "user": {
      "displayName": "Syed Haseeb",
      "photoUrl": "https://lh3.googleusercontent.com/a-/AOh14Ghtyrpv1wS3ySloKs5UgaBMGZCAFQg2TUIUdIfv=s64",
      "userId": "08863812421675956928"
     },
     "user_tz": -300
    },
    "id": "1Rfca95ZIVkj",
    "outputId": "7e1b136c-918b-4338-c448-35a62a012fd5"
   },
   "outputs": [],
   "source": [
    "fake_files"
   ]
  },
  {
   "cell_type": "code",
   "execution_count": null,
   "metadata": {},
   "outputs": [],
   "source": [
    "real_files = os.listdir(\"../data/New Folder/Real\")"
   ]
  },
  {
   "cell_type": "code",
   "execution_count": null,
   "metadata": {},
   "outputs": [],
   "source": [
    "real_files = [file for file in real_files]"
   ]
  },
  {
   "cell_type": "code",
   "execution_count": null,
   "metadata": {},
   "outputs": [],
   "source": [
    "real_files"
   ]
  },
  {
   "cell_type": "code",
   "execution_count": null,
   "metadata": {},
   "outputs": [],
   "source": [
    "test_0 = []\n",
    "test_1 = []\n",
    "for file in fake_files:\n",
    "    with open(\"../data/New Folder/Fake/\"+file) as f:\n",
    "        test_1.append(f.read())\n",
    "\n",
    "for file in real_files:\n",
    "    with open(\"../data/New Folder/Real/\"+file) as f:\n",
    "        test_0.append(f.read())\n",
    "    "
   ]
  },
  {
   "cell_type": "code",
   "execution_count": null,
   "metadata": {
    "executionInfo": {
     "elapsed": 427,
     "status": "ok",
     "timestamp": 1636450781278,
     "user": {
      "displayName": "Syed Haseeb",
      "photoUrl": "https://lh3.googleusercontent.com/a-/AOh14Ghtyrpv1wS3ySloKs5UgaBMGZCAFQg2TUIUdIfv=s64",
      "userId": "08863812421675956928"
     },
     "user_tz": -300
    },
    "id": "ZyXw53aoJCIc"
   },
   "outputs": [],
   "source": [
    "x_val, y_val = test_0 + test_1, [0]*len(test_0) + [1]*len(test_1)"
   ]
  },
  {
   "cell_type": "code",
   "execution_count": null,
   "metadata": {
    "executionInfo": {
     "elapsed": 350,
     "status": "ok",
     "timestamp": 1636450931815,
     "user": {
      "displayName": "Syed Haseeb",
      "photoUrl": "https://lh3.googleusercontent.com/a-/AOh14Ghtyrpv1wS3ySloKs5UgaBMGZCAFQg2TUIUdIfv=s64",
      "userId": "08863812421675956928"
     },
     "user_tz": -300
    },
    "id": "xZc1Q9lHE0go"
   },
   "outputs": [],
   "source": [
    "trn = t.preprocess_train(x_train.values[:5000].tolist()+x_val, y_train.values[:5000].tolist()+y_val)\n",
    "val = t.preprocess_test(x_val, y_val)"
   ]
  },
  {
   "cell_type": "code",
   "execution_count": null,
   "metadata": {
    "colab": {
     "base_uri": "https://localhost:8080/",
     "height": 272
    },
    "executionInfo": {
     "elapsed": 16770,
     "status": "ok",
     "timestamp": 1636451294918,
     "user": {
      "displayName": "Syed Haseeb",
      "photoUrl": "https://lh3.googleusercontent.com/a-/AOh14Ghtyrpv1wS3ySloKs5UgaBMGZCAFQg2TUIUdIfv=s64",
      "userId": "08863812421675956928"
     },
     "user_tz": -300
    },
    "id": "w44wxlWx27hl",
    "outputId": "012c3231-ba6f-4c7b-9e85-95868c17ee79"
   },
   "outputs": [],
   "source": [
    "MODEL_NAME = 'bert-base-uncased'\n",
    "t = text.Transformer(MODEL_NAME, maxlen=10, classes=tags)\n",
    "trn = t.preprocess_train(x_train.values[:5000].tolist()+x_val, y_train.values[:5000].tolist()+y_val)\n",
    "val = t.preprocess_test(x_val, y_val.values)\n",
    "model = t.get_classifier()\n",
    "learner = ktrain.get_learner(model, train_data=trn, \n",
    "                             val_data=val, \n",
    "                             batch_size=6)"
   ]
  },
  {
   "cell_type": "code",
   "execution_count": null,
   "metadata": {
    "colab": {
     "base_uri": "https://localhost:8080/"
    },
    "executionInfo": {
     "elapsed": 131010,
     "status": "ok",
     "timestamp": 1636451429759,
     "user": {
      "displayName": "Syed Haseeb",
      "photoUrl": "https://lh3.googleusercontent.com/a-/AOh14Ghtyrpv1wS3ySloKs5UgaBMGZCAFQg2TUIUdIfv=s64",
      "userId": "08863812421675956928"
     },
     "user_tz": -300
    },
    "id": "J259J7WEJLk_",
    "outputId": "69a9d48f-19ec-44a3-b6e7-67ffc30f533f"
   },
   "outputs": [],
   "source": [
    "history2 = learner.fit(1e-5, 1)"
   ]
  },
  {
   "cell_type": "code",
   "execution_count": null,
   "metadata": {
    "executionInfo": {
     "elapsed": 5,
     "status": "ok",
     "timestamp": 1636451699490,
     "user": {
      "displayName": "Syed Haseeb",
      "photoUrl": "https://lh3.googleusercontent.com/a-/AOh14Ghtyrpv1wS3ySloKs5UgaBMGZCAFQg2TUIUdIfv=s64",
      "userId": "08863812421675956928"
     },
     "user_tz": -300
    },
    "id": "nfsbgd0o1swc"
   },
   "outputs": [],
   "source": [
    "from sklearn.metrics import classification_report, confusion_matrix, accuracy_score"
   ]
  },
  {
   "cell_type": "code",
   "execution_count": 86,
   "metadata": {
    "executionInfo": {
     "elapsed": 371,
     "status": "ok",
     "timestamp": 1636451561697,
     "user": {
      "displayName": "Syed Haseeb",
      "photoUrl": "https://lh3.googleusercontent.com/a-/AOh14Ghtyrpv1wS3ySloKs5UgaBMGZCAFQg2TUIUdIfv=s64",
      "userId": "08863812421675956928"
     },
     "user_tz": -300
    },
    "id": "xjZC-5tNHP9I"
   },
   "outputs": [],
   "source": [
    "predictor = ktrain.get_predictor(learner.model, preproc=t)"
   ]
  },
  {
   "cell_type": "code",
   "execution_count": 83,
   "metadata": {
    "colab": {
     "base_uri": "https://localhost:8080/"
    },
    "executionInfo": {
     "elapsed": 3536,
     "status": "ok",
     "timestamp": 1636451568408,
     "user": {
      "displayName": "Syed Haseeb",
      "photoUrl": "https://lh3.googleusercontent.com/a-/AOh14Ghtyrpv1wS3ySloKs5UgaBMGZCAFQg2TUIUdIfv=s64",
      "userId": "08863812421675956928"
     },
     "user_tz": -300
    },
    "id": "YvPHhFqIHP9J",
    "outputId": "31ecf3ec-a219-4f97-e7db-5bedf6bea49d"
   },
   "outputs": [
    {
     "data": {
      "text/plain": [
       "array([0.9468409, 0.0531591], dtype=float32)"
      ]
     },
     "execution_count": 83,
     "metadata": {},
     "output_type": "execute_result"
    }
   ],
   "source": [
    "# predicted probability scores for each category\n",
    "predictor.predict_proba('Hillary in hot water over her email server, again. Sacramento, CA — Democratic nominee Hillary Clinton is in hot water again after nearly 5 million uncounted California electronic ballots were found on her email server by the F.B.I. The majority of those ballots cast were by Bernie Sanders supporters. The election commission has an emergency meeting scheduled for tomorrow morning to discuss a possible vote recount which will include the newly-found ballots. Ms. Clinton has already come under fire during this election cycle over using her private email server for personal use, including storing and sending classified information with it. There has been a formal investigation, but no charges have been filed in that case. Some of the charges are facing several charges. Ms. Clinton’s public relations official released a brief statement saying, “Hillary does not know how those ballots ended up on her server. We are conducting an internal investigation into the matter.” These ballots could change the fortune of Bernie Sanders in his bid for the presidency as all the ballots found on Hillary’s server were cast votes cast for him, with the exception of the one write-in for Perot.')"
   ]
  },
  {
   "cell_type": "code",
   "execution_count": 87,
   "metadata": {
    "colab": {
     "base_uri": "https://localhost:8080/"
    },
    "executionInfo": {
     "elapsed": 442,
     "status": "ok",
     "timestamp": 1636451577067,
     "user": {
      "displayName": "Syed Haseeb",
      "photoUrl": "https://lh3.googleusercontent.com/a-/AOh14Ghtyrpv1wS3ySloKs5UgaBMGZCAFQg2TUIUdIfv=s64",
      "userId": "08863812421675956928"
     },
     "user_tz": -300
    },
    "id": "ohYE83ZdHP9K",
    "outputId": "c56fbf58-eed9-40e6-e8fc-f2ba01d0bb44"
   },
   "outputs": [
    {
     "data": {
      "text/plain": [
       "[0, 1]"
      ]
     },
     "execution_count": 87,
     "metadata": {},
     "output_type": "execute_result"
    }
   ],
   "source": [
    "predictor.get_classes()"
   ]
  },
  {
   "cell_type": "markdown",
   "metadata": {
    "id": "7DgXK7bPIXK_"
   },
   "source": [
    "## Evaluate and Inspect the Model"
   ]
  },
  {
   "cell_type": "code",
   "execution_count": 95,
   "metadata": {
    "colab": {
     "base_uri": "https://localhost:8080/"
    },
    "executionInfo": {
     "elapsed": 1853,
     "status": "ok",
     "timestamp": 1636451845364,
     "user": {
      "displayName": "Syed Haseeb",
      "photoUrl": "https://lh3.googleusercontent.com/a-/AOh14Ghtyrpv1wS3ySloKs5UgaBMGZCAFQg2TUIUdIfv=s64",
      "userId": "08863812421675956928"
     },
     "user_tz": -300
    },
    "id": "rVDQwW0jIXLA",
    "outputId": "7e505170-14ee-418b-8059-d69943e242f0"
   },
   "outputs": [
    {
     "name": "stdout",
     "output_type": "stream",
     "text": [
      "              precision    recall  f1-score   support\n",
      "\n",
      "           0       0.95      0.95      0.95       237\n",
      "           1       0.94      0.95      0.94       212\n",
      "\n",
      "    accuracy                           0.95       449\n",
      "   macro avg       0.95      0.95      0.95       449\n",
      "weighted avg       0.95      0.95      0.95       449\n",
      "\n"
     ]
    },
    {
     "data": {
      "text/plain": [
       "array([[224,  13],\n",
       "       [ 11, 201]], dtype=int64)"
      ]
     },
     "execution_count": 95,
     "metadata": {},
     "output_type": "execute_result"
    }
   ],
   "source": [
    "learner.validate(class_names=t.get_classes())"
   ]
  }
 ],
 "metadata": {
  "accelerator": "GPU",
  "colab": {
   "collapsed_sections": [
    "j6e2c0U_zTdy"
   ],
   "name": "model_BERT.ipynb",
   "provenance": []
  },
  "kernelspec": {
   "display_name": "Python 3",
   "language": "python",
   "name": "python3"
  },
  "language_info": {
   "codemirror_mode": {
    "name": "ipython",
    "version": 3
   },
   "file_extension": ".py",
   "mimetype": "text/x-python",
   "name": "python",
   "nbconvert_exporter": "python",
   "pygments_lexer": "ipython3",
   "version": "3.8.3"
  }
 },
 "nbformat": 4,
 "nbformat_minor": 1
}
