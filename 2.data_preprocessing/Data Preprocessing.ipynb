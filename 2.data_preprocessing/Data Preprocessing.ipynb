{
 "cells": [
  {
   "cell_type": "markdown",
   "metadata": {},
   "source": [
    "# Loading Data & Preprocessing"
   ]
  },
  {
   "cell_type": "code",
   "execution_count": 3,
   "metadata": {},
   "outputs": [],
   "source": [
    "#importing libraries\n",
    "import pandas as pd "
   ]
  },
  {
   "cell_type": "code",
   "execution_count": 7,
   "metadata": {},
   "outputs": [],
   "source": [
    "# assigning data path\n",
    "df_1 = pd.read_csv('../1.data_loader/fake_buzz_news.csv')\n",
    "df_2 = pd.read_csv('../1.data_loader/real_buzz_news.csv')\n",
    "df_3 = pd.read_csv('../1.data_loader/fake_random_news.csv')\n",
    "df_4 = pd.read_csv('../1.data_loader/real_random_news.csv')"
   ]
  },
  {
   "cell_type": "code",
   "execution_count": 8,
   "metadata": {},
   "outputs": [
    {
     "data": {
      "text/plain": [
       "251"
      ]
     },
     "execution_count": 8,
     "metadata": {},
     "output_type": "execute_result"
    }
   ],
   "source": [
    "#checking length\n",
    "len(df_1) + len(df_2) + len(df_3) + len(df_4)"
   ]
  },
  {
   "cell_type": "code",
   "execution_count": 9,
   "metadata": {},
   "outputs": [],
   "source": [
    "#concatenating dataframes\n",
    "df = pd.concat([df_1, df_2, df_3, df_4])"
   ]
  },
  {
   "cell_type": "code",
   "execution_count": 10,
   "metadata": {},
   "outputs": [
    {
     "data": {
      "text/plain": [
       "251"
      ]
     },
     "execution_count": 10,
     "metadata": {},
     "output_type": "execute_result"
    }
   ],
   "source": [
    "#rechecking length\n",
    "len(df)"
   ]
  },
  {
   "cell_type": "code",
   "execution_count": 11,
   "metadata": {},
   "outputs": [],
   "source": [
    "#dropping index\n",
    "df = df.reset_index(drop=True)"
   ]
  },
  {
   "cell_type": "code",
   "execution_count": 12,
   "metadata": {},
   "outputs": [
    {
     "data": {
      "text/html": [
       "<div>\n",
       "<style scoped>\n",
       "    .dataframe tbody tr th:only-of-type {\n",
       "        vertical-align: middle;\n",
       "    }\n",
       "\n",
       "    .dataframe tbody tr th {\n",
       "        vertical-align: top;\n",
       "    }\n",
       "\n",
       "    .dataframe thead th {\n",
       "        text-align: right;\n",
       "    }\n",
       "</style>\n",
       "<table border=\"1\" class=\"dataframe\">\n",
       "  <thead>\n",
       "    <tr style=\"text-align: right;\">\n",
       "      <th></th>\n",
       "      <th>News</th>\n",
       "      <th>Title</th>\n",
       "      <th>Label</th>\n",
       "    </tr>\n",
       "  </thead>\n",
       "  <tbody>\n",
       "    <tr>\n",
       "      <th>0</th>\n",
       "      <td>The Internet is buzzing today after white supr...</td>\n",
       "      <td>5 Million Uncounted Sanders Ballots Found On C...</td>\n",
       "      <td>Fake</td>\n",
       "    </tr>\n",
       "    <tr>\n",
       "      <th>1</th>\n",
       "      <td>TRUMP TOWER — With his poll numbers among blac...</td>\n",
       "      <td>African Billionaire Will Give $1 Million To An...</td>\n",
       "      <td>Fake</td>\n",
       "    </tr>\n",
       "    <tr>\n",
       "      <th>2</th>\n",
       "      <td>Donald Trump is looking to assemble a strong t...</td>\n",
       "      <td>BREAKING Another Clinton Associate Set To Test...</td>\n",
       "      <td>Fake</td>\n",
       "    </tr>\n",
       "    <tr>\n",
       "      <th>3</th>\n",
       "      <td>“SHE’S SEXY, SMART, SOPHISTICATED, AND SHE’S I...</td>\n",
       "      <td>Breaking Fraudulent Clinton Votes Discovered B...</td>\n",
       "      <td>Fake</td>\n",
       "    </tr>\n",
       "    <tr>\n",
       "      <th>4</th>\n",
       "      <td>PHOENIX A.Z. (AP) — For months now, rumors hav...</td>\n",
       "      <td>BREAKING Official Set to Testify Against Hilla...</td>\n",
       "      <td>Fake</td>\n",
       "    </tr>\n",
       "    <tr>\n",
       "      <th>...</th>\n",
       "      <td>...</td>\n",
       "      <td>...</td>\n",
       "      <td>...</td>\n",
       "    </tr>\n",
       "    <tr>\n",
       "      <th>246</th>\n",
       "      <td>As he traveled the country on his thank you to...</td>\n",
       "      <td>Donald Trump's Cabinet richest in U.S. history...</td>\n",
       "      <td>Real</td>\n",
       "    </tr>\n",
       "    <tr>\n",
       "      <th>247</th>\n",
       "      <td>A federal judge in New York has unsealed the s...</td>\n",
       "      <td>Judge unseals warrant for search of Anthony We...</td>\n",
       "      <td>Real</td>\n",
       "    </tr>\n",
       "    <tr>\n",
       "      <th>248</th>\n",
       "      <td>On Sunday evening, Donald Trump invited report...</td>\n",
       "      <td>Donald Trump invites press to off-the-record s...</td>\n",
       "      <td>Real</td>\n",
       "    </tr>\n",
       "    <tr>\n",
       "      <th>249</th>\n",
       "      <td>WASHINGTON -- Allegations of retaliation again...</td>\n",
       "      <td>NSA watchdog put on leave in whistleblower case</td>\n",
       "      <td>Real</td>\n",
       "    </tr>\n",
       "    <tr>\n",
       "      <th>250</th>\n",
       "      <td>A group of millennial activists from across th...</td>\n",
       "      <td>Trump protesters plan to open 'movement house'...</td>\n",
       "      <td>Real</td>\n",
       "    </tr>\n",
       "  </tbody>\n",
       "</table>\n",
       "<p>251 rows × 3 columns</p>\n",
       "</div>"
      ],
      "text/plain": [
       "                                                  News  \\\n",
       "0    The Internet is buzzing today after white supr...   \n",
       "1    TRUMP TOWER — With his poll numbers among blac...   \n",
       "2    Donald Trump is looking to assemble a strong t...   \n",
       "3    “SHE’S SEXY, SMART, SOPHISTICATED, AND SHE’S I...   \n",
       "4    PHOENIX A.Z. (AP) — For months now, rumors hav...   \n",
       "..                                                 ...   \n",
       "246  As he traveled the country on his thank you to...   \n",
       "247  A federal judge in New York has unsealed the s...   \n",
       "248  On Sunday evening, Donald Trump invited report...   \n",
       "249  WASHINGTON -- Allegations of retaliation again...   \n",
       "250  A group of millennial activists from across th...   \n",
       "\n",
       "                                                 Title Label  \n",
       "0    5 Million Uncounted Sanders Ballots Found On C...  Fake  \n",
       "1    African Billionaire Will Give $1 Million To An...  Fake  \n",
       "2    BREAKING Another Clinton Associate Set To Test...  Fake  \n",
       "3    Breaking Fraudulent Clinton Votes Discovered B...  Fake  \n",
       "4    BREAKING Official Set to Testify Against Hilla...  Fake  \n",
       "..                                                 ...   ...  \n",
       "246  Donald Trump's Cabinet richest in U.S. history...  Real  \n",
       "247  Judge unseals warrant for search of Anthony We...  Real  \n",
       "248  Donald Trump invites press to off-the-record s...  Real  \n",
       "249    NSA watchdog put on leave in whistleblower case  Real  \n",
       "250  Trump protesters plan to open 'movement house'...  Real  \n",
       "\n",
       "[251 rows x 3 columns]"
      ]
     },
     "execution_count": 12,
     "metadata": {},
     "output_type": "execute_result"
    }
   ],
   "source": [
    "#printing dataframe\n",
    "df"
   ]
  },
  {
   "cell_type": "markdown",
   "metadata": {},
   "source": [
    "# Clean news and title"
   ]
  },
  {
   "cell_type": "code",
   "execution_count": 13,
   "metadata": {},
   "outputs": [],
   "source": [
    "import re\n",
    "import string\n",
    "#helper function for preproccessing data\n",
    "'''remove text in square brackets,remove links,remove punctuation\n",
    "    and remove words containing numbers.'''\n",
    "def review_cleaning(text):\n",
    "    text = re.sub('\\[.*?\\]', '', text)\n",
    "    text = re.sub('https?://\\S+|www\\.\\S+', '', text)\n",
    "    text = re.sub('<.*?>+', '', text)\n",
    "    text = re.sub('[%s]' % re.escape(string.punctuation), '', text)\n",
    "    text = re.sub('\\n', '', text)\n",
    "    text = re.sub('\\w*\\d\\w*', '', text)\n",
    "    \n",
    "    return text"
   ]
  },
  {
   "cell_type": "code",
   "execution_count": 14,
   "metadata": {},
   "outputs": [],
   "source": [
    "#making a copy of dataset\n",
    "clean_news=df.copy()"
   ]
  },
  {
   "cell_type": "markdown",
   "metadata": {},
   "source": [
    "### clean news"
   ]
  },
  {
   "cell_type": "code",
   "execution_count": 15,
   "metadata": {},
   "outputs": [
    {
     "data": {
      "text/html": [
       "<div>\n",
       "<style scoped>\n",
       "    .dataframe tbody tr th:only-of-type {\n",
       "        vertical-align: middle;\n",
       "    }\n",
       "\n",
       "    .dataframe tbody tr th {\n",
       "        vertical-align: top;\n",
       "    }\n",
       "\n",
       "    .dataframe thead th {\n",
       "        text-align: right;\n",
       "    }\n",
       "</style>\n",
       "<table border=\"1\" class=\"dataframe\">\n",
       "  <thead>\n",
       "    <tr style=\"text-align: right;\">\n",
       "      <th></th>\n",
       "      <th>News</th>\n",
       "      <th>Title</th>\n",
       "      <th>Label</th>\n",
       "    </tr>\n",
       "  </thead>\n",
       "  <tbody>\n",
       "    <tr>\n",
       "      <th>0</th>\n",
       "      <td>The Internet is buzzing today after white supr...</td>\n",
       "      <td>5 Million Uncounted Sanders Ballots Found On C...</td>\n",
       "      <td>Fake</td>\n",
       "    </tr>\n",
       "    <tr>\n",
       "      <th>1</th>\n",
       "      <td>TRUMP TOWER — With his poll numbers among blac...</td>\n",
       "      <td>African Billionaire Will Give $1 Million To An...</td>\n",
       "      <td>Fake</td>\n",
       "    </tr>\n",
       "    <tr>\n",
       "      <th>2</th>\n",
       "      <td>Donald Trump is looking to assemble a strong t...</td>\n",
       "      <td>BREAKING Another Clinton Associate Set To Test...</td>\n",
       "      <td>Fake</td>\n",
       "    </tr>\n",
       "    <tr>\n",
       "      <th>3</th>\n",
       "      <td>“SHE’S SEXY SMART SOPHISTICATED AND SHE’S INTO...</td>\n",
       "      <td>Breaking Fraudulent Clinton Votes Discovered B...</td>\n",
       "      <td>Fake</td>\n",
       "    </tr>\n",
       "    <tr>\n",
       "      <th>4</th>\n",
       "      <td>PHOENIX AZ AP — For months now rumors have cir...</td>\n",
       "      <td>BREAKING Official Set to Testify Against Hilla...</td>\n",
       "      <td>Fake</td>\n",
       "    </tr>\n",
       "  </tbody>\n",
       "</table>\n",
       "</div>"
      ],
      "text/plain": [
       "                                                News  \\\n",
       "0  The Internet is buzzing today after white supr...   \n",
       "1  TRUMP TOWER — With his poll numbers among blac...   \n",
       "2  Donald Trump is looking to assemble a strong t...   \n",
       "3  “SHE’S SEXY SMART SOPHISTICATED AND SHE’S INTO...   \n",
       "4  PHOENIX AZ AP — For months now rumors have cir...   \n",
       "\n",
       "                                               Title Label  \n",
       "0  5 Million Uncounted Sanders Ballots Found On C...  Fake  \n",
       "1  African Billionaire Will Give $1 Million To An...  Fake  \n",
       "2  BREAKING Another Clinton Associate Set To Test...  Fake  \n",
       "3  Breaking Fraudulent Clinton Votes Discovered B...  Fake  \n",
       "4  BREAKING Official Set to Testify Against Hilla...  Fake  "
      ]
     },
     "execution_count": 15,
     "metadata": {},
     "output_type": "execute_result"
    }
   ],
   "source": [
    "#applying preprocessing\n",
    "clean_news['News']=clean_news['News'].apply(lambda x:review_cleaning(x))\n",
    "clean_news.head()"
   ]
  },
  {
   "cell_type": "code",
   "execution_count": 16,
   "metadata": {},
   "outputs": [
    {
     "data": {
      "text/plain": [
       "\"from nltk.corpus import stopwords\\n\\n#removing stopwords\\nstop = stopwords.words('english')\\nclean_news['News'] = clean_news['News'].apply(lambda x: ' '.join([word for word in x.split() if word not in (stop)]))\\nclean_news.head()\""
      ]
     },
     "execution_count": 16,
     "metadata": {},
     "output_type": "execute_result"
    }
   ],
   "source": [
    "'''from nltk.corpus import stopwords\n",
    "\n",
    "#removing stopwords\n",
    "stop = stopwords.words('english')\n",
    "clean_news['News'] = clean_news['News'].apply(lambda x: ' '.join([word for word in x.split() if word not in (stop)]))\n",
    "clean_news.head()'''"
   ]
  },
  {
   "cell_type": "markdown",
   "metadata": {},
   "source": [
    "### clean title"
   ]
  },
  {
   "cell_type": "code",
   "execution_count": 17,
   "metadata": {},
   "outputs": [
    {
     "data": {
      "text/html": [
       "<div>\n",
       "<style scoped>\n",
       "    .dataframe tbody tr th:only-of-type {\n",
       "        vertical-align: middle;\n",
       "    }\n",
       "\n",
       "    .dataframe tbody tr th {\n",
       "        vertical-align: top;\n",
       "    }\n",
       "\n",
       "    .dataframe thead th {\n",
       "        text-align: right;\n",
       "    }\n",
       "</style>\n",
       "<table border=\"1\" class=\"dataframe\">\n",
       "  <thead>\n",
       "    <tr style=\"text-align: right;\">\n",
       "      <th></th>\n",
       "      <th>News</th>\n",
       "      <th>Title</th>\n",
       "      <th>Label</th>\n",
       "    </tr>\n",
       "  </thead>\n",
       "  <tbody>\n",
       "    <tr>\n",
       "      <th>0</th>\n",
       "      <td>The Internet is buzzing today after white supr...</td>\n",
       "      <td>Million Uncounted Sanders Ballots Found On Cl...</td>\n",
       "      <td>Fake</td>\n",
       "    </tr>\n",
       "    <tr>\n",
       "      <th>1</th>\n",
       "      <td>TRUMP TOWER — With his poll numbers among blac...</td>\n",
       "      <td>African Billionaire Will Give  Million To Anyo...</td>\n",
       "      <td>Fake</td>\n",
       "    </tr>\n",
       "    <tr>\n",
       "      <th>2</th>\n",
       "      <td>Donald Trump is looking to assemble a strong t...</td>\n",
       "      <td>BREAKING Another Clinton Associate Set To Test...</td>\n",
       "      <td>Fake</td>\n",
       "    </tr>\n",
       "    <tr>\n",
       "      <th>3</th>\n",
       "      <td>“SHE’S SEXY SMART SOPHISTICATED AND SHE’S INTO...</td>\n",
       "      <td>Breaking Fraudulent Clinton Votes Discovered B...</td>\n",
       "      <td>Fake</td>\n",
       "    </tr>\n",
       "    <tr>\n",
       "      <th>4</th>\n",
       "      <td>PHOENIX AZ AP — For months now rumors have cir...</td>\n",
       "      <td>BREAKING Official Set to Testify Against Hilla...</td>\n",
       "      <td>Fake</td>\n",
       "    </tr>\n",
       "  </tbody>\n",
       "</table>\n",
       "</div>"
      ],
      "text/plain": [
       "                                                News  \\\n",
       "0  The Internet is buzzing today after white supr...   \n",
       "1  TRUMP TOWER — With his poll numbers among blac...   \n",
       "2  Donald Trump is looking to assemble a strong t...   \n",
       "3  “SHE’S SEXY SMART SOPHISTICATED AND SHE’S INTO...   \n",
       "4  PHOENIX AZ AP — For months now rumors have cir...   \n",
       "\n",
       "                                               Title Label  \n",
       "0   Million Uncounted Sanders Ballots Found On Cl...  Fake  \n",
       "1  African Billionaire Will Give  Million To Anyo...  Fake  \n",
       "2  BREAKING Another Clinton Associate Set To Test...  Fake  \n",
       "3  Breaking Fraudulent Clinton Votes Discovered B...  Fake  \n",
       "4  BREAKING Official Set to Testify Against Hilla...  Fake  "
      ]
     },
     "execution_count": 17,
     "metadata": {},
     "output_type": "execute_result"
    }
   ],
   "source": [
    "#applying preprocessing\n",
    "clean_news['Title']=clean_news['Title'].apply(lambda x:review_cleaning(x))\n",
    "clean_news.head()"
   ]
  },
  {
   "cell_type": "code",
   "execution_count": 18,
   "metadata": {},
   "outputs": [
    {
     "data": {
      "text/plain": [
       "\"#removing stopwords\\nstop = stopwords.words('english')\\nclean_news['Title'] = clean_news['Title'].apply(lambda x: ' '.join([word for word in x.split() if word not in (stop)]))\\nclean_news.head()\""
      ]
     },
     "execution_count": 18,
     "metadata": {},
     "output_type": "execute_result"
    }
   ],
   "source": [
    "'''#removing stopwords\n",
    "stop = stopwords.words('english')\n",
    "clean_news['Title'] = clean_news['Title'].apply(lambda x: ' '.join([word for word in x.split() if word not in (stop)]))\n",
    "clean_news.head()'''"
   ]
  },
  {
   "cell_type": "code",
   "execution_count": 19,
   "metadata": {},
   "outputs": [],
   "source": [
    "#saving preprocessed data as pre.csv\n",
    "clean_news.to_csv('pre.csv', encoding='utf-8', index=False)"
   ]
  },
  {
   "cell_type": "code",
   "execution_count": 20,
   "metadata": {},
   "outputs": [],
   "source": [
    "#saving nonpreprocessed data as no_pre.csv\n",
    "df.to_csv('no_pre.csv', encoding='utf-8', index=False)"
   ]
  },
  {
   "cell_type": "code",
   "execution_count": null,
   "metadata": {},
   "outputs": [],
   "source": []
  }
 ],
 "metadata": {
  "kernelspec": {
   "display_name": "Python 3",
   "language": "python",
   "name": "python3"
  },
  "language_info": {
   "codemirror_mode": {
    "name": "ipython",
    "version": 3
   },
   "file_extension": ".py",
   "mimetype": "text/x-python",
   "name": "python",
   "nbconvert_exporter": "python",
   "pygments_lexer": "ipython3",
   "version": "3.8.3"
  }
 },
 "nbformat": 4,
 "nbformat_minor": 4
}
