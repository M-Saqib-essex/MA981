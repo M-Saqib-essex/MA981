{
 "cells": [
  {
   "cell_type": "markdown",
   "metadata": {},
   "source": [
    "# Feature Extracting "
   ]
  },
  {
   "cell_type": "code",
   "execution_count": 1,
   "metadata": {},
   "outputs": [],
   "source": [
    "import pandas as pd"
   ]
  },
  {
   "cell_type": "code",
   "execution_count": 18,
   "metadata": {},
   "outputs": [],
   "source": [
    "df = pd.read_csv('../2.data_preprocessing/pre.csv')"
   ]
  },
  {
   "cell_type": "code",
   "execution_count": 19,
   "metadata": {},
   "outputs": [
    {
     "data": {
      "text/html": [
       "<div>\n",
       "<style scoped>\n",
       "    .dataframe tbody tr th:only-of-type {\n",
       "        vertical-align: middle;\n",
       "    }\n",
       "\n",
       "    .dataframe tbody tr th {\n",
       "        vertical-align: top;\n",
       "    }\n",
       "\n",
       "    .dataframe thead th {\n",
       "        text-align: right;\n",
       "    }\n",
       "</style>\n",
       "<table border=\"1\" class=\"dataframe\">\n",
       "  <thead>\n",
       "    <tr style=\"text-align: right;\">\n",
       "      <th></th>\n",
       "      <th>News</th>\n",
       "      <th>Title</th>\n",
       "      <th>Label</th>\n",
       "    </tr>\n",
       "  </thead>\n",
       "  <tbody>\n",
       "    <tr>\n",
       "      <th>246</th>\n",
       "      <td>As he traveled the country on his thank you to...</td>\n",
       "      <td>Donald Trumps Cabinet richest in US history hi...</td>\n",
       "      <td>Real</td>\n",
       "    </tr>\n",
       "    <tr>\n",
       "      <th>247</th>\n",
       "      <td>A federal judge in New York has unsealed the s...</td>\n",
       "      <td>Judge unseals warrant for search of Anthony We...</td>\n",
       "      <td>Real</td>\n",
       "    </tr>\n",
       "    <tr>\n",
       "      <th>248</th>\n",
       "      <td>On Sunday evening Donald Trump invited reporte...</td>\n",
       "      <td>Donald Trump invites press to offtherecord ses...</td>\n",
       "      <td>Real</td>\n",
       "    </tr>\n",
       "    <tr>\n",
       "      <th>249</th>\n",
       "      <td>WASHINGTON  Allegations of retaliation against...</td>\n",
       "      <td>NSA watchdog put on leave in whistleblower case</td>\n",
       "      <td>Real</td>\n",
       "    </tr>\n",
       "    <tr>\n",
       "      <th>250</th>\n",
       "      <td>A group of millennial activists from across th...</td>\n",
       "      <td>Trump protesters plan to open movement house i...</td>\n",
       "      <td>Real</td>\n",
       "    </tr>\n",
       "  </tbody>\n",
       "</table>\n",
       "</div>"
      ],
      "text/plain": [
       "                                                  News  \\\n",
       "246  As he traveled the country on his thank you to...   \n",
       "247  A federal judge in New York has unsealed the s...   \n",
       "248  On Sunday evening Donald Trump invited reporte...   \n",
       "249  WASHINGTON  Allegations of retaliation against...   \n",
       "250  A group of millennial activists from across th...   \n",
       "\n",
       "                                                 Title Label  \n",
       "246  Donald Trumps Cabinet richest in US history hi...  Real  \n",
       "247  Judge unseals warrant for search of Anthony We...  Real  \n",
       "248  Donald Trump invites press to offtherecord ses...  Real  \n",
       "249    NSA watchdog put on leave in whistleblower case  Real  \n",
       "250  Trump protesters plan to open movement house i...  Real  "
      ]
     },
     "execution_count": 19,
     "metadata": {},
     "output_type": "execute_result"
    }
   ],
   "source": [
    "df.tail()"
   ]
  },
  {
   "cell_type": "markdown",
   "metadata": {},
   "source": [
    "# Syntax Based"
   ]
  },
  {
   "cell_type": "code",
   "execution_count": 5,
   "metadata": {},
   "outputs": [],
   "source": [
    "#char count\n",
    "#word count\n",
    "#title word count\n",
    "#stop word count\n",
    "#upper case word count"
   ]
  },
  {
   "cell_type": "code",
   "execution_count": 8,
   "metadata": {},
   "outputs": [],
   "source": [
    "#char count\n",
    "df['char_count'] = df['News'].str.len()"
   ]
  },
  {
   "cell_type": "code",
   "execution_count": 9,
   "metadata": {},
   "outputs": [],
   "source": [
    "#word count\n",
    "df['word_count'] = df['News'].str.split().str.len()"
   ]
  },
  {
   "cell_type": "code",
   "execution_count": 10,
   "metadata": {},
   "outputs": [],
   "source": [
    "#title word count\n",
    "df['title_word_count'] = df['Title'].str.split().str.len()"
   ]
  },
  {
   "cell_type": "code",
   "execution_count": 11,
   "metadata": {},
   "outputs": [],
   "source": [
    "#stopword count\n",
    "from nltk.corpus import stopwords    \n",
    "stop_words = set(stopwords.words('english'))\n",
    "\n",
    "df['stopword_count'] = df['News'].str.split().apply(lambda x: len(set(x) & stop_words))"
   ]
  },
  {
   "cell_type": "code",
   "execution_count": 12,
   "metadata": {},
   "outputs": [],
   "source": [
    "#upper case word count\n",
    "df['upper_case'] = df['News'].str.count(r'[A-Z]')"
   ]
  },
  {
   "cell_type": "code",
   "execution_count": 13,
   "metadata": {},
   "outputs": [
    {
     "data": {
      "text/html": [
       "<div>\n",
       "<style scoped>\n",
       "    .dataframe tbody tr th:only-of-type {\n",
       "        vertical-align: middle;\n",
       "    }\n",
       "\n",
       "    .dataframe tbody tr th {\n",
       "        vertical-align: top;\n",
       "    }\n",
       "\n",
       "    .dataframe thead th {\n",
       "        text-align: right;\n",
       "    }\n",
       "</style>\n",
       "<table border=\"1\" class=\"dataframe\">\n",
       "  <thead>\n",
       "    <tr style=\"text-align: right;\">\n",
       "      <th></th>\n",
       "      <th>News</th>\n",
       "      <th>Title</th>\n",
       "      <th>Label</th>\n",
       "      <th>char_count</th>\n",
       "      <th>word_count</th>\n",
       "      <th>title_word_count</th>\n",
       "      <th>stopword_count</th>\n",
       "      <th>upper_case</th>\n",
       "    </tr>\n",
       "  </thead>\n",
       "  <tbody>\n",
       "    <tr>\n",
       "      <th>0</th>\n",
       "      <td>The Internet is buzzing today after white supr...</td>\n",
       "      <td>Million Uncounted Sanders Ballots Found On Cl...</td>\n",
       "      <td>Fake</td>\n",
       "      <td>1169</td>\n",
       "      <td>223</td>\n",
       "      <td>9</td>\n",
       "      <td>38</td>\n",
       "      <td>37</td>\n",
       "    </tr>\n",
       "    <tr>\n",
       "      <th>1</th>\n",
       "      <td>TRUMP TOWER — With his poll numbers among blac...</td>\n",
       "      <td>African Billionaire Will Give  Million To Anyo...</td>\n",
       "      <td>Fake</td>\n",
       "      <td>2291</td>\n",
       "      <td>376</td>\n",
       "      <td>18</td>\n",
       "      <td>57</td>\n",
       "      <td>146</td>\n",
       "    </tr>\n",
       "    <tr>\n",
       "      <th>2</th>\n",
       "      <td>Donald Trump is looking to assemble a strong t...</td>\n",
       "      <td>BREAKING Another Clinton Associate Set To Test...</td>\n",
       "      <td>Fake</td>\n",
       "      <td>1381</td>\n",
       "      <td>247</td>\n",
       "      <td>11</td>\n",
       "      <td>34</td>\n",
       "      <td>68</td>\n",
       "    </tr>\n",
       "    <tr>\n",
       "      <th>3</th>\n",
       "      <td>“SHE’S SEXY SMART SOPHISTICATED AND SHE’S INTO...</td>\n",
       "      <td>Breaking Fraudulent Clinton Votes Discovered B...</td>\n",
       "      <td>Fake</td>\n",
       "      <td>503</td>\n",
       "      <td>93</td>\n",
       "      <td>9</td>\n",
       "      <td>23</td>\n",
       "      <td>144</td>\n",
       "    </tr>\n",
       "    <tr>\n",
       "      <th>4</th>\n",
       "      <td>PHOENIX AZ AP — For months now rumors have cir...</td>\n",
       "      <td>BREAKING Official Set to Testify Against Hilla...</td>\n",
       "      <td>Fake</td>\n",
       "      <td>7381</td>\n",
       "      <td>1317</td>\n",
       "      <td>9</td>\n",
       "      <td>86</td>\n",
       "      <td>221</td>\n",
       "    </tr>\n",
       "  </tbody>\n",
       "</table>\n",
       "</div>"
      ],
      "text/plain": [
       "                                                News  \\\n",
       "0  The Internet is buzzing today after white supr...   \n",
       "1  TRUMP TOWER — With his poll numbers among blac...   \n",
       "2  Donald Trump is looking to assemble a strong t...   \n",
       "3  “SHE’S SEXY SMART SOPHISTICATED AND SHE’S INTO...   \n",
       "4  PHOENIX AZ AP — For months now rumors have cir...   \n",
       "\n",
       "                                               Title Label  char_count  \\\n",
       "0   Million Uncounted Sanders Ballots Found On Cl...  Fake        1169   \n",
       "1  African Billionaire Will Give  Million To Anyo...  Fake        2291   \n",
       "2  BREAKING Another Clinton Associate Set To Test...  Fake        1381   \n",
       "3  Breaking Fraudulent Clinton Votes Discovered B...  Fake         503   \n",
       "4  BREAKING Official Set to Testify Against Hilla...  Fake        7381   \n",
       "\n",
       "   word_count  title_word_count  stopword_count  upper_case  \n",
       "0         223                 9              38          37  \n",
       "1         376                18              57         146  \n",
       "2         247                11              34          68  \n",
       "3          93                 9              23         144  \n",
       "4        1317                 9              86         221  "
      ]
     },
     "execution_count": 13,
     "metadata": {},
     "output_type": "execute_result"
    }
   ],
   "source": [
    "df.head()"
   ]
  },
  {
   "cell_type": "markdown",
   "metadata": {},
   "source": [
    "# Sentiment Based"
   ]
  },
  {
   "cell_type": "code",
   "execution_count": 20,
   "metadata": {},
   "outputs": [],
   "source": [
    "#polarity \n",
    "#subjectivity"
   ]
  },
  {
   "cell_type": "code",
   "execution_count": 21,
   "metadata": {},
   "outputs": [],
   "source": [
    "from textblob import TextBlob\n",
    "\n",
    "def getSubjectivity(text):\n",
    "    return TextBlob(text).sentiment.subjectivity\n",
    "  \n",
    "def getPolarity(text):\n",
    "    return TextBlob(text).sentiment.polarity\n",
    "  \n",
    "#Create two new columns ‘Subjectivity’ & ‘Polarity’\n",
    "df['subjectivity_title'] = df['Title'].apply(getSubjectivity)\n",
    "df['polarity_title'] = df['Title'].apply(getPolarity)\n"
   ]
  },
  {
   "cell_type": "code",
   "execution_count": 22,
   "metadata": {},
   "outputs": [
    {
     "data": {
      "text/html": [
       "<div>\n",
       "<style scoped>\n",
       "    .dataframe tbody tr th:only-of-type {\n",
       "        vertical-align: middle;\n",
       "    }\n",
       "\n",
       "    .dataframe tbody tr th {\n",
       "        vertical-align: top;\n",
       "    }\n",
       "\n",
       "    .dataframe thead th {\n",
       "        text-align: right;\n",
       "    }\n",
       "</style>\n",
       "<table border=\"1\" class=\"dataframe\">\n",
       "  <thead>\n",
       "    <tr style=\"text-align: right;\">\n",
       "      <th></th>\n",
       "      <th>News</th>\n",
       "      <th>Title</th>\n",
       "      <th>Label</th>\n",
       "      <th>subjectivity_title</th>\n",
       "      <th>polarity_title</th>\n",
       "    </tr>\n",
       "  </thead>\n",
       "  <tbody>\n",
       "    <tr>\n",
       "      <th>0</th>\n",
       "      <td>The Internet is buzzing today after white supr...</td>\n",
       "      <td>Million Uncounted Sanders Ballots Found On Cl...</td>\n",
       "      <td>Fake</td>\n",
       "      <td>0.00</td>\n",
       "      <td>0.0</td>\n",
       "    </tr>\n",
       "    <tr>\n",
       "      <th>1</th>\n",
       "      <td>TRUMP TOWER — With his poll numbers among blac...</td>\n",
       "      <td>African Billionaire Will Give  Million To Anyo...</td>\n",
       "      <td>Fake</td>\n",
       "      <td>0.05</td>\n",
       "      <td>0.1</td>\n",
       "    </tr>\n",
       "    <tr>\n",
       "      <th>2</th>\n",
       "      <td>Donald Trump is looking to assemble a strong t...</td>\n",
       "      <td>BREAKING Another Clinton Associate Set To Test...</td>\n",
       "      <td>Fake</td>\n",
       "      <td>0.40</td>\n",
       "      <td>-0.2</td>\n",
       "    </tr>\n",
       "    <tr>\n",
       "      <th>3</th>\n",
       "      <td>“SHE’S SEXY SMART SOPHISTICATED AND SHE’S INTO...</td>\n",
       "      <td>Breaking Fraudulent Clinton Votes Discovered B...</td>\n",
       "      <td>Fake</td>\n",
       "      <td>0.00</td>\n",
       "      <td>0.0</td>\n",
       "    </tr>\n",
       "    <tr>\n",
       "      <th>4</th>\n",
       "      <td>PHOENIX AZ AP — For months now rumors have cir...</td>\n",
       "      <td>BREAKING Official Set to Testify Against Hilla...</td>\n",
       "      <td>Fake</td>\n",
       "      <td>0.40</td>\n",
       "      <td>-0.2</td>\n",
       "    </tr>\n",
       "  </tbody>\n",
       "</table>\n",
       "</div>"
      ],
      "text/plain": [
       "                                                News  \\\n",
       "0  The Internet is buzzing today after white supr...   \n",
       "1  TRUMP TOWER — With his poll numbers among blac...   \n",
       "2  Donald Trump is looking to assemble a strong t...   \n",
       "3  “SHE’S SEXY SMART SOPHISTICATED AND SHE’S INTO...   \n",
       "4  PHOENIX AZ AP — For months now rumors have cir...   \n",
       "\n",
       "                                               Title Label  \\\n",
       "0   Million Uncounted Sanders Ballots Found On Cl...  Fake   \n",
       "1  African Billionaire Will Give  Million To Anyo...  Fake   \n",
       "2  BREAKING Another Clinton Associate Set To Test...  Fake   \n",
       "3  Breaking Fraudulent Clinton Votes Discovered B...  Fake   \n",
       "4  BREAKING Official Set to Testify Against Hilla...  Fake   \n",
       "\n",
       "   subjectivity_title  polarity_title  \n",
       "0                0.00             0.0  \n",
       "1                0.05             0.1  \n",
       "2                0.40            -0.2  \n",
       "3                0.00             0.0  \n",
       "4                0.40            -0.2  "
      ]
     },
     "execution_count": 22,
     "metadata": {},
     "output_type": "execute_result"
    }
   ],
   "source": [
    "df.head()"
   ]
  },
  {
   "cell_type": "markdown",
   "metadata": {},
   "source": [
    "# Grammar Based"
   ]
  },
  {
   "cell_type": "code",
   "execution_count": 23,
   "metadata": {},
   "outputs": [],
   "source": [
    "# count noun\n",
    "# count verb\n",
    "# count adjective\n",
    "# count pronoun\n",
    "# count adverb"
   ]
  },
  {
   "cell_type": "code",
   "execution_count": 24,
   "metadata": {},
   "outputs": [],
   "source": [
    "from nltk import word_tokenize, pos_tag, pos_tag_sents"
   ]
  },
  {
   "cell_type": "code",
   "execution_count": 25,
   "metadata": {},
   "outputs": [],
   "source": [
    "texts = df['Title'].tolist()"
   ]
  },
  {
   "cell_type": "code",
   "execution_count": 26,
   "metadata": {},
   "outputs": [
    {
     "data": {
      "text/plain": [
       "251"
      ]
     },
     "execution_count": 26,
     "metadata": {},
     "output_type": "execute_result"
    }
   ],
   "source": [
    "len(texts)"
   ]
  },
  {
   "cell_type": "code",
   "execution_count": 27,
   "metadata": {},
   "outputs": [],
   "source": [
    "tagged_texts = pos_tag_sents(map(word_tokenize, texts))"
   ]
  },
  {
   "cell_type": "code",
   "execution_count": 28,
   "metadata": {},
   "outputs": [],
   "source": [
    "df['POS'] = tagged_texts"
   ]
  },
  {
   "cell_type": "code",
   "execution_count": 29,
   "metadata": {},
   "outputs": [],
   "source": [
    "def NounCounter(x):\n",
    "    nouns = []\n",
    "    for (word, pos) in x:\n",
    "        if pos.startswith(\"NN\"):\n",
    "            nouns.append(word)\n",
    "    return nouns\n",
    "\n",
    "def CounjuctionCounter(x):\n",
    "    counjuctions = []\n",
    "    for (word, pos) in x:\n",
    "        if pos.startswith(\"IN\"):\n",
    "            counjuctions.append(word)\n",
    "    return counjuctions\n",
    "\n",
    "def AdjectiveCounter(x):\n",
    "    adjectives = []\n",
    "    for (word, pos) in x:\n",
    "        if pos.startswith(\"JJ\"):\n",
    "            adjectives.append(word)\n",
    "    return adjectives\n",
    "\n",
    "def ProNounCounter(x):\n",
    "    pronouns = []\n",
    "    for (word, pos) in x:\n",
    "        if pos.startswith(\"PRP\"):\n",
    "            pronouns.append(word)\n",
    "    return pronouns\n",
    "\n",
    "def AdverbCounter(x):\n",
    "    adverb = []\n",
    "    for (word, pos) in x:\n",
    "        if pos.startswith(\"RB\"):\n",
    "            adverb.append(word)\n",
    "    return adverb\n",
    "\n",
    "def PrepositionCounter(x):\n",
    "    prep = []\n",
    "    for (word, pos) in x:\n",
    "        if pos.startswith(\"TO\"):\n",
    "            prep.append(word)\n",
    "    return prep\n",
    "\n",
    "def InterjectionCounter(x):\n",
    "    inter = []\n",
    "    for (word, pos) in x:\n",
    "        if pos.startswith(\"UH\"):\n",
    "            inter.append(word)\n",
    "    return inter\n",
    "\n",
    "def VerbCounter(x):\n",
    "    verbs = []\n",
    "    for (word, pos) in x:\n",
    "        if pos.startswith(\"VB\"):\n",
    "            verbs.append(word)\n",
    "    return verbs"
   ]
  },
  {
   "cell_type": "code",
   "execution_count": 30,
   "metadata": {},
   "outputs": [],
   "source": [
    "df[\"nouns_title\"] = df[\"POS\"].apply(NounCounter)\n",
    "df[\"noun_count_title\"] = df[\"nouns_title\"].str.len()"
   ]
  },
  {
   "cell_type": "code",
   "execution_count": 31,
   "metadata": {},
   "outputs": [],
   "source": [
    "df[\"conjuctions_title\"] = df[\"POS\"].apply(CounjuctionCounter)\n",
    "df[\"conjuction_count_title\"] = df[\"conjuctions_title\"].str.len()"
   ]
  },
  {
   "cell_type": "code",
   "execution_count": 32,
   "metadata": {},
   "outputs": [],
   "source": [
    "df[\"adjectives_title\"] = df[\"POS\"].apply(AdjectiveCounter)\n",
    "df[\"adjective_count_title\"] = df[\"adjectives_title\"].str.len()"
   ]
  },
  {
   "cell_type": "code",
   "execution_count": 33,
   "metadata": {},
   "outputs": [],
   "source": [
    "df[\"pronouns_title\"] = df[\"POS\"].apply(ProNounCounter)\n",
    "df[\"pronoun_count_title\"] = df[\"pronouns_title\"].str.len()"
   ]
  },
  {
   "cell_type": "code",
   "execution_count": 34,
   "metadata": {},
   "outputs": [],
   "source": [
    "df[\"adverbs_title\"] = df[\"POS\"].apply(AdverbCounter)\n",
    "df[\"adverb_count_title\"] = df[\"adverbs_title\"].str.len()"
   ]
  },
  {
   "cell_type": "code",
   "execution_count": 35,
   "metadata": {},
   "outputs": [],
   "source": [
    "df[\"prepositions_title\"] = df[\"POS\"].apply(PrepositionCounter)\n",
    "df[\"prepositions_count_title\"] = df[\"prepositions_title\"].str.len()"
   ]
  },
  {
   "cell_type": "code",
   "execution_count": 36,
   "metadata": {},
   "outputs": [],
   "source": [
    "df[\"interjections_title\"] = df[\"POS\"].apply(InterjectionCounter)\n",
    "df[\"interjection_count_title\"] = df[\"interjections_title\"].str.len()"
   ]
  },
  {
   "cell_type": "code",
   "execution_count": 37,
   "metadata": {},
   "outputs": [],
   "source": [
    "df[\"verbs_title\"] = df[\"POS\"].apply(VerbCounter)\n",
    "df[\"verb_count_title\"] = df[\"verbs_title\"].str.len()"
   ]
  },
  {
   "cell_type": "code",
   "execution_count": 38,
   "metadata": {},
   "outputs": [
    {
     "data": {
      "text/html": [
       "<div>\n",
       "<style scoped>\n",
       "    .dataframe tbody tr th:only-of-type {\n",
       "        vertical-align: middle;\n",
       "    }\n",
       "\n",
       "    .dataframe tbody tr th {\n",
       "        vertical-align: top;\n",
       "    }\n",
       "\n",
       "    .dataframe thead th {\n",
       "        text-align: right;\n",
       "    }\n",
       "</style>\n",
       "<table border=\"1\" class=\"dataframe\">\n",
       "  <thead>\n",
       "    <tr style=\"text-align: right;\">\n",
       "      <th></th>\n",
       "      <th>News</th>\n",
       "      <th>Title</th>\n",
       "      <th>Label</th>\n",
       "      <th>subjectivity_title</th>\n",
       "      <th>polarity_title</th>\n",
       "      <th>POS</th>\n",
       "      <th>nouns_title</th>\n",
       "      <th>noun_count_title</th>\n",
       "      <th>conjuctions_title</th>\n",
       "      <th>conjuction_count_title</th>\n",
       "      <th>...</th>\n",
       "      <th>pronouns_title</th>\n",
       "      <th>pronoun_count_title</th>\n",
       "      <th>adverbs_title</th>\n",
       "      <th>adverb_count_title</th>\n",
       "      <th>prepositions_title</th>\n",
       "      <th>prepositions_count_title</th>\n",
       "      <th>interjections_title</th>\n",
       "      <th>interjection_count_title</th>\n",
       "      <th>verbs_title</th>\n",
       "      <th>verb_count_title</th>\n",
       "    </tr>\n",
       "  </thead>\n",
       "  <tbody>\n",
       "    <tr>\n",
       "      <th>0</th>\n",
       "      <td>The Internet is buzzing today after white supr...</td>\n",
       "      <td>Million Uncounted Sanders Ballots Found On Cl...</td>\n",
       "      <td>Fake</td>\n",
       "      <td>0.00</td>\n",
       "      <td>0.0</td>\n",
       "      <td>[(Million, NNP), (Uncounted, VBD), (Sanders, N...</td>\n",
       "      <td>[Million, Sanders, Ballots, Found, Clintons, E...</td>\n",
       "      <td>7</td>\n",
       "      <td>[On]</td>\n",
       "      <td>1</td>\n",
       "      <td>...</td>\n",
       "      <td>[]</td>\n",
       "      <td>0</td>\n",
       "      <td>[]</td>\n",
       "      <td>0</td>\n",
       "      <td>[]</td>\n",
       "      <td>0</td>\n",
       "      <td>[]</td>\n",
       "      <td>0</td>\n",
       "      <td>[Uncounted]</td>\n",
       "      <td>1</td>\n",
       "    </tr>\n",
       "    <tr>\n",
       "      <th>1</th>\n",
       "      <td>TRUMP TOWER — With his poll numbers among blac...</td>\n",
       "      <td>African Billionaire Will Give  Million To Anyo...</td>\n",
       "      <td>Fake</td>\n",
       "      <td>0.05</td>\n",
       "      <td>0.1</td>\n",
       "      <td>[(African, JJ), (Billionaire, NNP), (Will, NNP...</td>\n",
       "      <td>[Billionaire, Will, Give, Million, Anyone, Ame...</td>\n",
       "      <td>9</td>\n",
       "      <td>[if]</td>\n",
       "      <td>1</td>\n",
       "      <td>...</td>\n",
       "      <td>[]</td>\n",
       "      <td>0</td>\n",
       "      <td>[]</td>\n",
       "      <td>0</td>\n",
       "      <td>[To, To]</td>\n",
       "      <td>2</td>\n",
       "      <td>[]</td>\n",
       "      <td>0</td>\n",
       "      <td>[Wants, Leave, is, Elected]</td>\n",
       "      <td>4</td>\n",
       "    </tr>\n",
       "    <tr>\n",
       "      <th>2</th>\n",
       "      <td>Donald Trump is looking to assemble a strong t...</td>\n",
       "      <td>BREAKING Another Clinton Associate Set To Test...</td>\n",
       "      <td>Fake</td>\n",
       "      <td>0.40</td>\n",
       "      <td>-0.2</td>\n",
       "      <td>[(BREAKING, NN), (Another, DT), (Clinton, NNP)...</td>\n",
       "      <td>[BREAKING, Clinton, Associate, Set, Against, H...</td>\n",
       "      <td>8</td>\n",
       "      <td>[]</td>\n",
       "      <td>0</td>\n",
       "      <td>...</td>\n",
       "      <td>[]</td>\n",
       "      <td>0</td>\n",
       "      <td>[]</td>\n",
       "      <td>0</td>\n",
       "      <td>[To]</td>\n",
       "      <td>1</td>\n",
       "      <td>[]</td>\n",
       "      <td>0</td>\n",
       "      <td>[Testify]</td>\n",
       "      <td>1</td>\n",
       "    </tr>\n",
       "    <tr>\n",
       "      <th>3</th>\n",
       "      <td>“SHE’S SEXY SMART SOPHISTICATED AND SHE’S INTO...</td>\n",
       "      <td>Breaking Fraudulent Clinton Votes Discovered B...</td>\n",
       "      <td>Fake</td>\n",
       "      <td>0.00</td>\n",
       "      <td>0.0</td>\n",
       "      <td>[(Breaking, VBG), (Fraudulent, NNP), (Clinton,...</td>\n",
       "      <td>[Fraudulent, Clinton, Votes, Discovered, Thous...</td>\n",
       "      <td>5</td>\n",
       "      <td>[By, Of]</td>\n",
       "      <td>2</td>\n",
       "      <td>...</td>\n",
       "      <td>[]</td>\n",
       "      <td>0</td>\n",
       "      <td>[]</td>\n",
       "      <td>0</td>\n",
       "      <td>[]</td>\n",
       "      <td>0</td>\n",
       "      <td>[]</td>\n",
       "      <td>0</td>\n",
       "      <td>[Breaking]</td>\n",
       "      <td>1</td>\n",
       "    </tr>\n",
       "    <tr>\n",
       "      <th>4</th>\n",
       "      <td>PHOENIX AZ AP — For months now rumors have cir...</td>\n",
       "      <td>BREAKING Official Set to Testify Against Hilla...</td>\n",
       "      <td>Fake</td>\n",
       "      <td>0.40</td>\n",
       "      <td>-0.2</td>\n",
       "      <td>[(BREAKING, NNP), (Official, NNP), (Set, NNP),...</td>\n",
       "      <td>[BREAKING, Official, Set, Against, Hillary, Fo...</td>\n",
       "      <td>7</td>\n",
       "      <td>[]</td>\n",
       "      <td>0</td>\n",
       "      <td>...</td>\n",
       "      <td>[]</td>\n",
       "      <td>0</td>\n",
       "      <td>[]</td>\n",
       "      <td>0</td>\n",
       "      <td>[to]</td>\n",
       "      <td>1</td>\n",
       "      <td>[]</td>\n",
       "      <td>0</td>\n",
       "      <td>[Testify]</td>\n",
       "      <td>1</td>\n",
       "    </tr>\n",
       "  </tbody>\n",
       "</table>\n",
       "<p>5 rows × 22 columns</p>\n",
       "</div>"
      ],
      "text/plain": [
       "                                                News  \\\n",
       "0  The Internet is buzzing today after white supr...   \n",
       "1  TRUMP TOWER — With his poll numbers among blac...   \n",
       "2  Donald Trump is looking to assemble a strong t...   \n",
       "3  “SHE’S SEXY SMART SOPHISTICATED AND SHE’S INTO...   \n",
       "4  PHOENIX AZ AP — For months now rumors have cir...   \n",
       "\n",
       "                                               Title Label  \\\n",
       "0   Million Uncounted Sanders Ballots Found On Cl...  Fake   \n",
       "1  African Billionaire Will Give  Million To Anyo...  Fake   \n",
       "2  BREAKING Another Clinton Associate Set To Test...  Fake   \n",
       "3  Breaking Fraudulent Clinton Votes Discovered B...  Fake   \n",
       "4  BREAKING Official Set to Testify Against Hilla...  Fake   \n",
       "\n",
       "   subjectivity_title  polarity_title  \\\n",
       "0                0.00             0.0   \n",
       "1                0.05             0.1   \n",
       "2                0.40            -0.2   \n",
       "3                0.00             0.0   \n",
       "4                0.40            -0.2   \n",
       "\n",
       "                                                 POS  \\\n",
       "0  [(Million, NNP), (Uncounted, VBD), (Sanders, N...   \n",
       "1  [(African, JJ), (Billionaire, NNP), (Will, NNP...   \n",
       "2  [(BREAKING, NN), (Another, DT), (Clinton, NNP)...   \n",
       "3  [(Breaking, VBG), (Fraudulent, NNP), (Clinton,...   \n",
       "4  [(BREAKING, NNP), (Official, NNP), (Set, NNP),...   \n",
       "\n",
       "                                         nouns_title  noun_count_title  \\\n",
       "0  [Million, Sanders, Ballots, Found, Clintons, E...                 7   \n",
       "1  [Billionaire, Will, Give, Million, Anyone, Ame...                 9   \n",
       "2  [BREAKING, Clinton, Associate, Set, Against, H...                 8   \n",
       "3  [Fraudulent, Clinton, Votes, Discovered, Thous...                 5   \n",
       "4  [BREAKING, Official, Set, Against, Hillary, Fo...                 7   \n",
       "\n",
       "  conjuctions_title  conjuction_count_title  ... pronouns_title  \\\n",
       "0              [On]                       1  ...             []   \n",
       "1              [if]                       1  ...             []   \n",
       "2                []                       0  ...             []   \n",
       "3          [By, Of]                       2  ...             []   \n",
       "4                []                       0  ...             []   \n",
       "\n",
       "   pronoun_count_title adverbs_title  adverb_count_title prepositions_title  \\\n",
       "0                    0            []                   0                 []   \n",
       "1                    0            []                   0           [To, To]   \n",
       "2                    0            []                   0               [To]   \n",
       "3                    0            []                   0                 []   \n",
       "4                    0            []                   0               [to]   \n",
       "\n",
       "   prepositions_count_title interjections_title  interjection_count_title  \\\n",
       "0                         0                  []                         0   \n",
       "1                         2                  []                         0   \n",
       "2                         1                  []                         0   \n",
       "3                         0                  []                         0   \n",
       "4                         1                  []                         0   \n",
       "\n",
       "                   verbs_title  verb_count_title  \n",
       "0                  [Uncounted]                 1  \n",
       "1  [Wants, Leave, is, Elected]                 4  \n",
       "2                    [Testify]                 1  \n",
       "3                   [Breaking]                 1  \n",
       "4                    [Testify]                 1  \n",
       "\n",
       "[5 rows x 22 columns]"
      ]
     },
     "execution_count": 38,
     "metadata": {},
     "output_type": "execute_result"
    }
   ],
   "source": [
    "df.head()"
   ]
  },
  {
   "cell_type": "code",
   "execution_count": 39,
   "metadata": {},
   "outputs": [
    {
     "data": {
      "text/plain": [
       "Index(['News', 'Title', 'Label', 'subjectivity_title', 'polarity_title', 'POS',\n",
       "       'nouns_title', 'noun_count_title', 'conjuctions_title',\n",
       "       'conjuction_count_title', 'adjectives_title', 'adjective_count_title',\n",
       "       'pronouns_title', 'pronoun_count_title', 'adverbs_title',\n",
       "       'adverb_count_title', 'prepositions_title', 'prepositions_count_title',\n",
       "       'interjections_title', 'interjection_count_title', 'verbs_title',\n",
       "       'verb_count_title'],\n",
       "      dtype='object')"
      ]
     },
     "execution_count": 39,
     "metadata": {},
     "output_type": "execute_result"
    }
   ],
   "source": [
    "df.columns"
   ]
  },
  {
   "cell_type": "code",
   "execution_count": 40,
   "metadata": {},
   "outputs": [],
   "source": [
    "df.to_csv('feature_extractor_title.csv', encoding='utf-8', index=False)"
   ]
  },
  {
   "cell_type": "code",
   "execution_count": null,
   "metadata": {},
   "outputs": [],
   "source": []
  }
 ],
 "metadata": {
  "kernelspec": {
   "display_name": "Python 3",
   "language": "python",
   "name": "python3"
  },
  "language_info": {
   "codemirror_mode": {
    "name": "ipython",
    "version": 3
   },
   "file_extension": ".py",
   "mimetype": "text/x-python",
   "name": "python",
   "nbconvert_exporter": "python",
   "pygments_lexer": "ipython3",
   "version": "3.8.3"
  }
 },
 "nbformat": 4,
 "nbformat_minor": 4
}
