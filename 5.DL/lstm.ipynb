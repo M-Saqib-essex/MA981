{
 "cells": [
  {
   "cell_type": "markdown",
   "metadata": {},
   "source": [
    "# **CLASSIFYING FAKE NEWS USING LSTM**\n",
    "\n"
   ]
  },
  {
   "cell_type": "code",
   "execution_count": 1,
   "metadata": {
    "execution": {
     "iopub.execute_input": "2021-07-07T05:48:14.836779Z",
     "iopub.status.busy": "2021-07-07T05:48:14.836409Z",
     "iopub.status.idle": "2021-07-07T05:48:20.832974Z",
     "shell.execute_reply": "2021-07-07T05:48:20.832014Z",
     "shell.execute_reply.started": "2021-07-07T05:48:14.836690Z"
    }
   },
   "outputs": [],
   "source": [
    "#importing libraries\n",
    "import re\n",
    "import numpy as np\n",
    "import pandas as pd\n",
    "import matplotlib.pyplot as plt\n",
    "from tensorflow.keras.layers import Embedding,LSTM,Dense,Dropout\n",
    "from tensorflow.keras.preprocessing.sequence import pad_sequences\n",
    "from tensorflow.keras.models import Sequential\n",
    "from tensorflow.keras.preprocessing.text import one_hot\n",
    "from nltk.stem.porter import PorterStemmer\n",
    "from nltk.corpus import stopwords\n",
    "import matplotlib.pyplot as plt\n",
    "import seaborn as sns"
   ]
  },
  {
   "cell_type": "code",
   "execution_count": 2,
   "metadata": {},
   "outputs": [],
   "source": [
    "#reading data\n",
    "ds = pd.read_csv('../2.data_preprocessing/no_pre.csv')"
   ]
  },
  {
   "cell_type": "code",
   "execution_count": 3,
   "metadata": {
    "execution": {
     "iopub.execute_input": "2021-07-07T05:48:20.835086Z",
     "iopub.status.busy": "2021-07-07T05:48:20.834710Z",
     "iopub.status.idle": "2021-07-07T05:48:22.814136Z",
     "shell.execute_reply": "2021-07-07T05:48:22.813295Z",
     "shell.execute_reply.started": "2021-07-07T05:48:20.835049Z"
    }
   },
   "outputs": [
    {
     "data": {
      "text/html": [
       "<div>\n",
       "<style scoped>\n",
       "    .dataframe tbody tr th:only-of-type {\n",
       "        vertical-align: middle;\n",
       "    }\n",
       "\n",
       "    .dataframe tbody tr th {\n",
       "        vertical-align: top;\n",
       "    }\n",
       "\n",
       "    .dataframe thead th {\n",
       "        text-align: right;\n",
       "    }\n",
       "</style>\n",
       "<table border=\"1\" class=\"dataframe\">\n",
       "  <thead>\n",
       "    <tr style=\"text-align: right;\">\n",
       "      <th></th>\n",
       "      <th>News</th>\n",
       "      <th>Title</th>\n",
       "      <th>Label</th>\n",
       "    </tr>\n",
       "  </thead>\n",
       "  <tbody>\n",
       "    <tr>\n",
       "      <th>0</th>\n",
       "      <td>The Internet is buzzing today after white supr...</td>\n",
       "      <td>5 Million Uncounted Sanders Ballots Found On C...</td>\n",
       "      <td>Fake</td>\n",
       "    </tr>\n",
       "    <tr>\n",
       "      <th>1</th>\n",
       "      <td>TRUMP TOWER — With his poll numbers among blac...</td>\n",
       "      <td>African Billionaire Will Give $1 Million To An...</td>\n",
       "      <td>Fake</td>\n",
       "    </tr>\n",
       "    <tr>\n",
       "      <th>2</th>\n",
       "      <td>Donald Trump is looking to assemble a strong t...</td>\n",
       "      <td>BREAKING Another Clinton Associate Set To Test...</td>\n",
       "      <td>Fake</td>\n",
       "    </tr>\n",
       "    <tr>\n",
       "      <th>3</th>\n",
       "      <td>“SHE’S SEXY, SMART, SOPHISTICATED, AND SHE’S I...</td>\n",
       "      <td>Breaking Fraudulent Clinton Votes Discovered B...</td>\n",
       "      <td>Fake</td>\n",
       "    </tr>\n",
       "    <tr>\n",
       "      <th>4</th>\n",
       "      <td>PHOENIX A.Z. (AP) — For months now, rumors hav...</td>\n",
       "      <td>BREAKING Official Set to Testify Against Hilla...</td>\n",
       "      <td>Fake</td>\n",
       "    </tr>\n",
       "  </tbody>\n",
       "</table>\n",
       "</div>"
      ],
      "text/plain": [
       "                                                News  \\\n",
       "0  The Internet is buzzing today after white supr...   \n",
       "1  TRUMP TOWER — With his poll numbers among blac...   \n",
       "2  Donald Trump is looking to assemble a strong t...   \n",
       "3  “SHE’S SEXY, SMART, SOPHISTICATED, AND SHE’S I...   \n",
       "4  PHOENIX A.Z. (AP) — For months now, rumors hav...   \n",
       "\n",
       "                                               Title Label  \n",
       "0  5 Million Uncounted Sanders Ballots Found On C...  Fake  \n",
       "1  African Billionaire Will Give $1 Million To An...  Fake  \n",
       "2  BREAKING Another Clinton Associate Set To Test...  Fake  \n",
       "3  Breaking Fraudulent Clinton Votes Discovered B...  Fake  \n",
       "4  BREAKING Official Set to Testify Against Hilla...  Fake  "
      ]
     },
     "execution_count": 3,
     "metadata": {},
     "output_type": "execute_result"
    }
   ],
   "source": [
    "#displaying data\n",
    "ds.head()"
   ]
  },
  {
   "cell_type": "code",
   "execution_count": 4,
   "metadata": {
    "execution": {
     "iopub.execute_input": "2021-07-07T05:48:22.816847Z",
     "iopub.status.busy": "2021-07-07T05:48:22.816485Z",
     "iopub.status.idle": "2021-07-07T05:48:22.831512Z",
     "shell.execute_reply": "2021-07-07T05:48:22.830433Z",
     "shell.execute_reply.started": "2021-07-07T05:48:22.816808Z"
    }
   },
   "outputs": [
    {
     "data": {
      "text/plain": [
       "News     0\n",
       "Title    0\n",
       "Label    5\n",
       "dtype: int64"
      ]
     },
     "execution_count": 4,
     "metadata": {},
     "output_type": "execute_result"
    }
   ],
   "source": [
    "#checking null values\n",
    "ds.isnull().sum()"
   ]
  },
  {
   "cell_type": "markdown",
   "metadata": {},
   "source": [
    "**DROPPING NULL VALUES**"
   ]
  },
  {
   "cell_type": "code",
   "execution_count": 5,
   "metadata": {
    "execution": {
     "iopub.execute_input": "2021-07-07T05:48:22.839891Z",
     "iopub.status.busy": "2021-07-07T05:48:22.839309Z",
     "iopub.status.idle": "2021-07-07T05:48:22.879532Z",
     "shell.execute_reply": "2021-07-07T05:48:22.878825Z",
     "shell.execute_reply.started": "2021-07-07T05:48:22.839856Z"
    }
   },
   "outputs": [
    {
     "data": {
      "text/plain": [
       "News     0\n",
       "Title    0\n",
       "Label    0\n",
       "dtype: int64"
      ]
     },
     "execution_count": 5,
     "metadata": {},
     "output_type": "execute_result"
    }
   ],
   "source": [
    "#dropping null values\n",
    "ds = ds.dropna()\n",
    "ds.isnull().sum()"
   ]
  },
  {
   "cell_type": "code",
   "execution_count": 6,
   "metadata": {
    "execution": {
     "iopub.execute_input": "2021-07-07T05:48:22.881169Z",
     "iopub.status.busy": "2021-07-07T05:48:22.880751Z",
     "iopub.status.idle": "2021-07-07T05:48:22.892940Z",
     "shell.execute_reply": "2021-07-07T05:48:22.892006Z",
     "shell.execute_reply.started": "2021-07-07T05:48:22.881143Z"
    }
   },
   "outputs": [
    {
     "data": {
      "text/html": [
       "<div>\n",
       "<style scoped>\n",
       "    .dataframe tbody tr th:only-of-type {\n",
       "        vertical-align: middle;\n",
       "    }\n",
       "\n",
       "    .dataframe tbody tr th {\n",
       "        vertical-align: top;\n",
       "    }\n",
       "\n",
       "    .dataframe thead th {\n",
       "        text-align: right;\n",
       "    }\n",
       "</style>\n",
       "<table border=\"1\" class=\"dataframe\">\n",
       "  <thead>\n",
       "    <tr style=\"text-align: right;\">\n",
       "      <th></th>\n",
       "      <th>News</th>\n",
       "      <th>Title</th>\n",
       "      <th>Label</th>\n",
       "    </tr>\n",
       "  </thead>\n",
       "  <tbody>\n",
       "    <tr>\n",
       "      <th>0</th>\n",
       "      <td>The Internet is buzzing today after white supr...</td>\n",
       "      <td>5 Million Uncounted Sanders Ballots Found On C...</td>\n",
       "      <td>Fake</td>\n",
       "    </tr>\n",
       "    <tr>\n",
       "      <th>1</th>\n",
       "      <td>TRUMP TOWER — With his poll numbers among blac...</td>\n",
       "      <td>African Billionaire Will Give $1 Million To An...</td>\n",
       "      <td>Fake</td>\n",
       "    </tr>\n",
       "    <tr>\n",
       "      <th>2</th>\n",
       "      <td>Donald Trump is looking to assemble a strong t...</td>\n",
       "      <td>BREAKING Another Clinton Associate Set To Test...</td>\n",
       "      <td>Fake</td>\n",
       "    </tr>\n",
       "    <tr>\n",
       "      <th>3</th>\n",
       "      <td>“SHE’S SEXY, SMART, SOPHISTICATED, AND SHE’S I...</td>\n",
       "      <td>Breaking Fraudulent Clinton Votes Discovered B...</td>\n",
       "      <td>Fake</td>\n",
       "    </tr>\n",
       "    <tr>\n",
       "      <th>4</th>\n",
       "      <td>PHOENIX A.Z. (AP) — For months now, rumors hav...</td>\n",
       "      <td>BREAKING Official Set to Testify Against Hilla...</td>\n",
       "      <td>Fake</td>\n",
       "    </tr>\n",
       "  </tbody>\n",
       "</table>\n",
       "</div>"
      ],
      "text/plain": [
       "                                                News  \\\n",
       "0  The Internet is buzzing today after white supr...   \n",
       "1  TRUMP TOWER — With his poll numbers among blac...   \n",
       "2  Donald Trump is looking to assemble a strong t...   \n",
       "3  “SHE’S SEXY, SMART, SOPHISTICATED, AND SHE’S I...   \n",
       "4  PHOENIX A.Z. (AP) — For months now, rumors hav...   \n",
       "\n",
       "                                               Title Label  \n",
       "0  5 Million Uncounted Sanders Ballots Found On C...  Fake  \n",
       "1  African Billionaire Will Give $1 Million To An...  Fake  \n",
       "2  BREAKING Another Clinton Associate Set To Test...  Fake  \n",
       "3  Breaking Fraudulent Clinton Votes Discovered B...  Fake  \n",
       "4  BREAKING Official Set to Testify Against Hilla...  Fake  "
      ]
     },
     "execution_count": 6,
     "metadata": {},
     "output_type": "execute_result"
    }
   ],
   "source": [
    "#after dropping null values,indexes will be unordered therfore resetting indexes\n",
    "ds.reset_index(inplace = True,drop = True)\n",
    "ds.head()"
   ]
  },
  {
   "cell_type": "code",
   "execution_count": 7,
   "metadata": {},
   "outputs": [
    {
     "data": {
      "text/plain": [
       "Index(['News', 'Title', 'Label'], dtype='object')"
      ]
     },
     "execution_count": 7,
     "metadata": {},
     "output_type": "execute_result"
    }
   ],
   "source": [
    "ds.columns"
   ]
  },
  {
   "cell_type": "code",
   "execution_count": 8,
   "metadata": {
    "execution": {
     "iopub.execute_input": "2021-07-07T05:48:22.894857Z",
     "iopub.status.busy": "2021-07-07T05:48:22.894463Z",
     "iopub.status.idle": "2021-07-07T05:48:22.901372Z",
     "shell.execute_reply": "2021-07-07T05:48:22.900330Z",
     "shell.execute_reply.started": "2021-07-07T05:48:22.894823Z"
    }
   },
   "outputs": [],
   "source": [
    "#defining dependent and independent vectors\n",
    "#taking only news for prediction\n",
    "x = ds['News']\n",
    "y = ds['Label']"
   ]
  },
  {
   "cell_type": "code",
   "execution_count": 9,
   "metadata": {
    "execution": {
     "iopub.execute_input": "2021-07-07T05:48:22.905262Z",
     "iopub.status.busy": "2021-07-07T05:48:22.904456Z",
     "iopub.status.idle": "2021-07-07T05:48:22.915095Z",
     "shell.execute_reply": "2021-07-07T05:48:22.914122Z",
     "shell.execute_reply.started": "2021-07-07T05:48:22.905224Z"
    }
   },
   "outputs": [
    {
     "data": {
      "text/plain": [
       "0    The Internet is buzzing today after white supr...\n",
       "1    TRUMP TOWER — With his poll numbers among blac...\n",
       "2    Donald Trump is looking to assemble a strong t...\n",
       "3    “SHE’S SEXY, SMART, SOPHISTICATED, AND SHE’S I...\n",
       "4    PHOENIX A.Z. (AP) — For months now, rumors hav...\n",
       "Name: News, dtype: object"
      ]
     },
     "execution_count": 9,
     "metadata": {},
     "output_type": "execute_result"
    }
   ],
   "source": [
    "x.head()"
   ]
  },
  {
   "cell_type": "code",
   "execution_count": 10,
   "metadata": {
    "execution": {
     "iopub.execute_input": "2021-07-07T05:48:22.917472Z",
     "iopub.status.busy": "2021-07-07T05:48:22.917076Z",
     "iopub.status.idle": "2021-07-07T05:48:23.043535Z",
     "shell.execute_reply": "2021-07-07T05:48:23.042624Z",
     "shell.execute_reply.started": "2021-07-07T05:48:22.917427Z"
    }
   },
   "outputs": [
    {
     "data": {
      "text/plain": [
       "<AxesSubplot:xlabel='Label', ylabel='count'>"
      ]
     },
     "execution_count": 10,
     "metadata": {},
     "output_type": "execute_result"
    },
    {
     "data": {
      "image/png": "[encoded data removed]",
      "text/plain": [
       "<Figure size 432x288 with 1 Axes>"
      ]
     },
     "metadata": {
      "needs_background": "light"
     },
     "output_type": "display_data"
    }
   ],
   "source": [
    "#checking number of real and fake news\n",
    "sns.countplot(x = 'Label',data = ds)"
   ]
  },
  {
   "cell_type": "markdown",
   "metadata": {},
   "source": [
    "**ALMOST 10000 ARE RELIABLE(0) AND 8000 ARE UNRELIABLE(1)**"
   ]
  },
  {
   "cell_type": "code",
   "execution_count": 11,
   "metadata": {
    "execution": {
     "iopub.execute_input": "2021-07-07T05:48:23.045149Z",
     "iopub.status.busy": "2021-07-07T05:48:23.044787Z",
     "iopub.status.idle": "2021-07-07T05:48:55.166169Z",
     "shell.execute_reply": "2021-07-07T05:48:55.165280Z",
     "shell.execute_reply.started": "2021-07-07T05:48:23.045114Z"
    }
   },
   "outputs": [],
   "source": [
    "#Text Cleaning and preprocessing\n",
    "cleaned = []\n",
    "for i in range(0,len(ds)):\n",
    "    \n",
    "    #removing words any other than (a-z) and (A-Z)\n",
    "    text = re.sub('[^a-zA-Z]',' ', x[i])\n",
    "    \n",
    "    #converting all words into lower case\n",
    "    text = text.lower()\n",
    "    \n",
    "    #tokenizing \n",
    "    text = text.split()\n",
    "    \n",
    "    #stemming and removing stopwords\n",
    "    ps = PorterStemmer()\n",
    "    text = [ps.stem(words) for words in text if words not in stopwords.words('english')]\n",
    "    text = ' '.join(text)\n",
    "    cleaned.append(text)"
   ]
  },
  {
   "cell_type": "code",
   "execution_count": 12,
   "metadata": {
    "execution": {
     "iopub.execute_input": "2021-07-07T05:48:55.167747Z",
     "iopub.status.busy": "2021-07-07T05:48:55.167410Z",
     "iopub.status.idle": "2021-07-07T05:48:55.174011Z",
     "shell.execute_reply": "2021-07-07T05:48:55.173020Z",
     "shell.execute_reply.started": "2021-07-07T05:48:55.167713Z"
    }
   },
   "outputs": [
    {
     "data": {
      "text/plain": [
       "['internet buzz today white supremacist presidenti candid donald trump caught hotel staff snort cocain maria gonzalez employe folk inn suit hotel phoenix brought room servic room wit walk saw nake prostitut mayb hundr dollar bill mountain white powder tabl thought dog floor sleep hair piec bald sweat like crazi ask put food ask wanna take hit told take money call free loader told get f ck room go back countri reach trump campaign releas statement say disrespect woman god damn liar drug busi get elect hotel employe u citizen keep take real american peopl job stop watch maria gonzalez cell phone video happen contact sever media outlet sell footag expect video hit internet day stay tune',\n",
       " 'trump tower poll number among black voter hover around presumpt gop nomine donald trump reportedli tap actress fox news contributor stacey dash negro outreach program ambassador connect group said trump terrif see oscar terrif minor outreach director brought board lucki controversi one good one dash recent creat controversi call grey anatomi actor jess william plantat slave bet award speech call end racism call cultur appropri trump said ever especi crook hillari siphon black minor outreach differ win lose novemb know happen said trump media come say black california african american fellow crowd know care stacey respond group need reach one group transgend commun last june clueless actress comment bathroom use transgend individu creat heat controversi dash said peopl decid wanna day go bathroom bush sourc say trump camp may even vet dash vice presid far trump short list includ new jersey gov chri christi former hous speaker presidenti candid newt gingrich well inform quit affect look said trump ask term negro proper term use trump spokesman said troubl say african american black africa even american central america even puerto rico inclus decid color sinc naacp still use said black sound polar end went negro histor accur noth racist everyth race ad spokesman hope stacey dash make fact clear peopl updat omarosa work stacey dash',\n",
       " 'donald trump look assembl strong team experienc busi leader enter intens gener elect phase mani expect trump consid govern leader lean long time wwe boss vincent k mcmahon serv run mate trump mcmahon met two hour earlier today trump new york headquart first time mr mcmahon involv polit wife linda run polit offic multipl occas experi notorieti would offer boost donald campaign enter toughest battl face thu far look vinc mcmahon someon deepli admir discuss today think guy listen countri futur vinc gave us stone cold vinc gave us rock vinc gave us dx argu record need guy gave us texa rattlesnak god sake trump told report media event part vinc mcmahon said trump lot common say fire businessmen love wrestl know els love wrestl america know hate wrestl hilari mcmahon said appear readi possibl role vp remain seen trump would confirm wwe boss potenti run mate expert say wont long alreadi met',\n",
       " 'sexi smart sophist older white men brainer ticket deadlock win novemb said presidenti nomine donald trump choos stacey dash run mate poll white male age whop vote trump dash come heel anoth poll done tmzhiphop com whether black male would sleep stacey dash despit racism see',\n",
       " 'phoenix z ap month rumor circul internet individu paid protest ralli held presidenti hope donald trump today man trump ralli fountain hill arizona back march come forward say paid protest event given protest donald trump ralli fountain hill said year old paul horner answer craigslist ad group need actor polit event interview got part trump support claim protest paid berni sander campaign horner disagre peopl affili interview guess would hillari clinton campaign horner said actual check receiv done job group call women futur hire told anyon ask question commun way start talk great berni sander horner continu mostli women interview went plu peopl commun aol email address one still aol email address except peopl would vote hillari clinton craigslist ad donald trump protest screenshot craigslist ad horner say respond actual ad sinc remov denni system file abc news knew real protest organ smart said year old tom downey trump support attend ralli fountain hill knew someth start shout fact nonsens like best could yell punch em stuff downey continu think good job though shout whole time call loser tell get job go back home mommi hous got bunch high five fellow trump support great time ask protest ralli horner said saw interview train ralli almost peopl protest seen interview train class ralli talk learn paid latino muslim african american think look asian women children paid half men got illeg receiv across board think paid protest white taken class street fight box year back sarah bradley spokeswoman sock forward group provid homeless less fortun brand new sock told abc news understand trump protest would need paid protest guy free bradley said trump creat place like mind ignor bigot hate fill individu gather unit pay anyth protest bradley continu trump support last kind peopl donat sock homeless care white race would love day ever see donat trump support think would make chang opinion horner said group mandatori six hour train class complet protest trump ralli train taught chant shout like dump trump trump racist thing like told respond anti trump comment trump support said someth great wall latino group would say go tunnel underneath even gave shirt wear ralli said f ck donald trump along sign hold said make america white david mikkelson founder snope com websit known bias opinion inaccur inform write stori internet order gener advertis revenu told abc news approv stori like accomplish understand stori like goe viral spend minut two debunk make lot money stori like help put children colleg buy new car home even get silverback gorilla wife barbara alway want sinc child mikkleson said claim provid evid debunk confirm well ridicul know much time would take instead copi past part origin articl write coupl sentenc want clear websit zero journal anyth creativ tell legal reason exampl rememb recent articl wrote debunk stori claim scientolog lost tax exempt statu actual read stori name person respons hoax actual websit url claim know real inform post us mikkelson continu common us rewrit stori debunk like one recent stori actual remov person name origin articl call liar oh hypocrisi funni time also like post fake un funni juvenil disclaim supposedli site question author jeff zarronandia respons gem tell reader disclaim stori debunk simpl googl search locat actual articl show disclaim fabric sometim think someon start compani debunk debunk could probabl make lot money mikkelson laugh lot peopl complain author attack websit owner reason proven fals sinc block archiv org becom word versu plu know writer like kim lacapria way fun caus controversi report fact result visitor kim lacapria jeff zarronandia go far accus site stori origin clickbait fake news site infring trademark protect visual element domain name legitim news outlet order gener traffic drive advertis revenu creat spread entir fals news stori thing troubl claim snope author known list one factual piec evid back claim hack uneth journal tell legal reason think busi usual us accus stori debunk spread malwar virus never say websit actual think warn peopl site could potenti destroy comput probabl good idea hope one day kind ethic journal peopl click ad regardless bottom line extra work honest say given week probabl fifteen minut real actual work abc news reach hillari clinton campaign comment receiv respons']"
      ]
     },
     "execution_count": 12,
     "metadata": {},
     "output_type": "execute_result"
    }
   ],
   "source": [
    "#cleaned text\n",
    "cleaned[:5]"
   ]
  },
  {
   "cell_type": "code",
   "execution_count": 13,
   "metadata": {
    "execution": {
     "iopub.execute_input": "2021-07-07T05:48:55.175756Z",
     "iopub.status.busy": "2021-07-07T05:48:55.175265Z",
     "iopub.status.idle": "2021-07-07T05:48:55.529868Z",
     "shell.execute_reply": "2021-07-07T05:48:55.528956Z",
     "shell.execute_reply.started": "2021-07-07T05:48:55.175719Z"
    }
   },
   "outputs": [
    {
     "data": {
      "text/plain": [
       "array([[   0,    0,    0, ..., 1920, 2259,   67],\n",
       "       [   0,    0,    0, ..., 2471, 2679, 3293],\n",
       "       [   0,    0,    0, ..., 3982, 1052, 4260],\n",
       "       ...,\n",
       "       [   0,    0,    0, ..., 4544, 1674, 4616],\n",
       "       [   0,    0,    0, ...,  946, 2342, 3516],\n",
       "       [   0,    0,    0, ..., 1736, 4297, 3520]])"
      ]
     },
     "execution_count": 13,
     "metadata": {},
     "output_type": "execute_result"
    }
   ],
   "source": [
    "#taking dictionary size 5000\n",
    "vocab_size = 5000\n",
    "\n",
    "#one hot encoding\n",
    "one_hot_dir = [one_hot(words,vocab_size) for words in cleaned]\n",
    "\n",
    "#length of all rows should be equal therefore applying padding\n",
    "#this will adjust size by adding 0 at staring of the shorter rows\n",
    "embedded_layer = pad_sequences(one_hot_dir,padding = 'pre')\n",
    "embedded_layer"
   ]
  },
  {
   "cell_type": "markdown",
   "metadata": {},
   "source": [
    "**LENGTH OF ALL ROWS IS EQUAL NOW**"
   ]
  },
  {
   "cell_type": "code",
   "execution_count": 14,
   "metadata": {
    "execution": {
     "iopub.execute_input": "2021-07-07T05:48:55.531596Z",
     "iopub.status.busy": "2021-07-07T05:48:55.531251Z",
     "iopub.status.idle": "2021-07-07T05:48:55.538230Z",
     "shell.execute_reply": "2021-07-07T05:48:55.537262Z",
     "shell.execute_reply.started": "2021-07-07T05:48:55.531560Z"
    }
   },
   "outputs": [],
   "source": [
    "#converting into numpy arrays.\n",
    "x = np.array(embedded_layer)\n",
    "y = np.array(y)"
   ]
  },
  {
   "cell_type": "code",
   "execution_count": 15,
   "metadata": {},
   "outputs": [],
   "source": [
    "#converting target variable to numerical representation\n",
    "from sklearn import preprocessing\n",
    "le = preprocessing.LabelEncoder()\n",
    "y = le.fit_transform(y.astype(str))"
   ]
  },
  {
   "cell_type": "code",
   "execution_count": 16,
   "metadata": {
    "execution": {
     "iopub.execute_input": "2021-07-07T05:48:55.540297Z",
     "iopub.status.busy": "2021-07-07T05:48:55.539937Z",
     "iopub.status.idle": "2021-07-07T05:48:55.552882Z",
     "shell.execute_reply": "2021-07-07T05:48:55.551951Z",
     "shell.execute_reply.started": "2021-07-07T05:48:55.540260Z"
    }
   },
   "outputs": [],
   "source": [
    "#splitting the Dataset into Train and Test set\n",
    "from sklearn.model_selection import train_test_split\n",
    "x_train,x_test,y_train,y_test=train_test_split(x,y,test_size=0.2,random_state=0)"
   ]
  },
  {
   "cell_type": "code",
   "execution_count": 17,
   "metadata": {},
   "outputs": [],
   "source": [
    "#callback function, if a threshold is met during training, this function will stop training\n",
    "import tensorflow as tf\n",
    "class MyThresholdCallback(tf.keras.callbacks.Callback):\n",
    "    def __init__(self, threshold):\n",
    "        super(MyThresholdCallback, self).__init__()\n",
    "        self.threshold = threshold\n",
    "\n",
    "    def on_epoch_end(self, epoch, logs=None): \n",
    "        val_acc = logs[\"val_accuracy\"]\n",
    "        if val_acc >= self.threshold:\n",
    "            self.model.stop_training = True"
   ]
  },
  {
   "cell_type": "code",
   "execution_count": 18,
   "metadata": {
    "execution": {
     "iopub.execute_input": "2021-07-07T05:57:16.675238Z",
     "iopub.status.busy": "2021-07-07T05:57:16.674864Z",
     "iopub.status.idle": "2021-07-07T05:57:16.905385Z",
     "shell.execute_reply": "2021-07-07T05:57:16.904577Z",
     "shell.execute_reply.started": "2021-07-07T05:57:16.675206Z"
    }
   },
   "outputs": [],
   "source": [
    "#creating model using LSTM\n",
    "model = Sequential()\n",
    "\n",
    "#taking number features as 50\n",
    "model.add(Embedding(vocab_size,50,input_length = len(embedded_layer[0])))\n",
    "model.add(Dropout(0.5))\n",
    "\n",
    "#adding LSTM layers with 100 neurons\n",
    "model.add(LSTM(100))\n",
    "model.add(Dropout(0.5))\n",
    "\n",
    "#adding output layer \n",
    "model.add(Dense(1,activation=\"sigmoid\"))\n",
    "\n",
    "#compiling the model\n",
    "model.compile(loss=\"binary_crossentropy\",optimizer=\"adam\",metrics=[\"accuracy\"])"
   ]
  },
  {
   "cell_type": "code",
   "execution_count": 19,
   "metadata": {
    "execution": {
     "iopub.execute_input": "2021-07-07T05:58:31.518259Z",
     "iopub.status.busy": "2021-07-07T05:58:31.517935Z",
     "iopub.status.idle": "2021-07-07T05:58:31.526135Z",
     "shell.execute_reply": "2021-07-07T05:58:31.525167Z",
     "shell.execute_reply.started": "2021-07-07T05:58:31.518228Z"
    }
   },
   "outputs": [
    {
     "name": "stdout",
     "output_type": "stream",
     "text": [
      "Model: \"sequential\"\n",
      "_________________________________________________________________\n",
      "Layer (type)                 Output Shape              Param #   \n",
      "=================================================================\n",
      "embedding (Embedding)        (None, 4268, 50)          250000    \n",
      "_________________________________________________________________\n",
      "dropout (Dropout)            (None, 4268, 50)          0         \n",
      "_________________________________________________________________\n",
      "lstm (LSTM)                  (None, 100)               60400     \n",
      "_________________________________________________________________\n",
      "dropout_1 (Dropout)          (None, 100)               0         \n",
      "_________________________________________________________________\n",
      "dense (Dense)                (None, 1)                 101       \n",
      "=================================================================\n",
      "Total params: 310,501\n",
      "Trainable params: 310,501\n",
      "Non-trainable params: 0\n",
      "_________________________________________________________________\n"
     ]
    }
   ],
   "source": [
    "#summary of model\n",
    "model.summary()"
   ]
  },
  {
   "cell_type": "code",
   "execution_count": 20,
   "metadata": {
    "execution": {
     "iopub.execute_input": "2021-07-07T05:57:22.741088Z",
     "iopub.status.busy": "2021-07-07T05:57:22.740731Z",
     "iopub.status.idle": "2021-07-07T05:57:44.692003Z",
     "shell.execute_reply": "2021-07-07T05:57:44.691217Z",
     "shell.execute_reply.started": "2021-07-07T05:57:22.741056Z"
    }
   },
   "outputs": [
    {
     "name": "stdout",
     "output_type": "stream",
     "text": [
      "Epoch 1/8\n",
      "13/13 [==============================] - 57s 4s/step - loss: 0.6937 - accuracy: 0.4718 - val_loss: 0.6949 - val_accuracy: 0.4600\n",
      "Epoch 2/8\n",
      "13/13 [==============================] - 54s 4s/step - loss: 0.6871 - accuracy: 0.5650 - val_loss: 0.6953 - val_accuracy: 0.4600\n",
      "Epoch 3/8\n",
      "13/13 [==============================] - 53s 4s/step - loss: 0.6998 - accuracy: 0.7349 - val_loss: 0.6780 - val_accuracy: 0.5800\n",
      "Epoch 4/8\n",
      "13/13 [==============================] - 54s 4s/step - loss: 0.6449 - accuracy: 0.7337 - val_loss: 0.6781 - val_accuracy: 0.5800\n",
      "Epoch 5/8\n",
      "13/13 [==============================] - 55s 4s/step - loss: 0.6354 - accuracy: 0.7649 - val_loss: 0.6682 - val_accuracy: 0.6000\n",
      "Epoch 6/8\n",
      "13/13 [==============================] - 52s 4s/step - loss: 0.5590 - accuracy: 0.8556 - val_loss: 0.5929 - val_accuracy: 0.7800\n",
      "Epoch 7/8\n",
      "13/13 [==============================] - 52s 4s/step - loss: 0.3900 - accuracy: 0.9939 - val_loss: 0.4785 - val_accuracy: 0.8200\n"
     ]
    }
   ],
   "source": [
    "my_callback = MyThresholdCallback(threshold=0.8)\n",
    "#training the model\n",
    "history = model.fit(x_train, y_train, validation_data = (x_test,y_test), epochs = 8, batch_size = 16, callbacks=[my_callback])"
   ]
  },
  {
   "cell_type": "code",
   "execution_count": 22,
   "metadata": {},
   "outputs": [
    {
     "data": {
      "image/png": "[encoded data removed]",
      "text/plain": [
       "<Figure size 432x288 with 1 Axes>"
      ]
     },
     "metadata": {
      "needs_background": "light"
     },
     "output_type": "display_data"
    }
   ],
   "source": [
    "#plotting training and validation accuracy\n",
    "import keras\n",
    "from matplotlib import pyplot as plt\n",
    "plt.plot(history.history['accuracy'])\n",
    "plt.plot(history.history['val_accuracy'])\n",
    "plt.title('LSTM Model Accuracy')\n",
    "plt.ylabel('accuracy')\n",
    "plt.xlabel('epoch')\n",
    "plt.legend(['train', 'test'], loc='upper left')\n",
    "plt.show()"
   ]
  },
  {
   "cell_type": "code",
   "execution_count": 23,
   "metadata": {},
   "outputs": [
    {
     "data": {
      "image/png": "[encoded data removed]",
      "text/plain": [
       "<Figure size 432x288 with 1 Axes>"
      ]
     },
     "metadata": {
      "needs_background": "light"
     },
     "output_type": "display_data"
    }
   ],
   "source": [
    "#plotting training and validation loss\n",
    "import keras\n",
    "from matplotlib import pyplot as plt\n",
    "plt.plot(history.history['loss'])\n",
    "plt.plot(history.history['val_loss'])\n",
    "plt.title('LSTM Model Loss')\n",
    "plt.ylabel('loss')\n",
    "plt.xlabel('epoch')\n",
    "plt.legend(['train', 'test'], loc='upper left')\n",
    "plt.show()"
   ]
  },
  {
   "cell_type": "code",
   "execution_count": null,
   "metadata": {
    "execution": {
     "iopub.execute_input": "2021-07-07T05:57:54.927765Z",
     "iopub.status.busy": "2021-07-07T05:57:54.927418Z",
     "iopub.status.idle": "2021-07-07T05:57:55.474018Z",
     "shell.execute_reply": "2021-07-07T05:57:55.473082Z",
     "shell.execute_reply.started": "2021-07-07T05:57:54.927733Z"
    }
   },
   "outputs": [],
   "source": [
    "#predicting and getting accuracy\n",
    "y_pred = model.predict(x_test)\n",
    "y_pred = (y_pred > 0.5)\n",
    "from sklearn.metrics import accuracy_score\n",
    "accuracy_score(y_test,y_pred)"
   ]
  },
  {
   "cell_type": "code",
   "execution_count": 79,
   "metadata": {
    "execution": {
     "iopub.execute_input": "2021-07-07T05:58:12.463316Z",
     "iopub.status.busy": "2021-07-07T05:58:12.462993Z",
     "iopub.status.idle": "2021-07-07T05:58:12.485496Z",
     "shell.execute_reply": "2021-07-07T05:58:12.484551Z",
     "shell.execute_reply.started": "2021-07-07T05:58:12.463288Z"
    }
   },
   "outputs": [
    {
     "data": {
      "text/plain": [
       "array([[22,  7],\n",
       "       [ 5, 16]], dtype=int64)"
      ]
     },
     "execution_count": 79,
     "metadata": {},
     "output_type": "execute_result"
    }
   ],
   "source": [
    "#getting confusion matrix\n",
    "from sklearn.metrics import confusion_matrix\n",
    "confusion_matrix(y_test,y_pred)"
   ]
  },
  {
   "cell_type": "code",
   "execution_count": null,
   "metadata": {},
   "outputs": [],
   "source": []
  }
 ],
 "metadata": {
  "kernelspec": {
   "display_name": "Python 3",
   "language": "python",
   "name": "python3"
  },
  "language_info": {
   "codemirror_mode": {
    "name": "ipython",
    "version": 3
   },
   "file_extension": ".py",
   "mimetype": "text/x-python",
   "name": "python",
   "nbconvert_exporter": "python",
   "pygments_lexer": "ipython3",
   "version": "3.8.3"
  }
 },
 "nbformat": 4,
 "nbformat_minor": 4
}
