{
 "cells": [
  {
   "cell_type": "markdown",
   "metadata": {},
   "source": [
    "# Machine Learning Models "
   ]
  },
  {
   "cell_type": "code",
   "execution_count": 1,
   "metadata": {},
   "outputs": [],
   "source": [
    "#importing libraries\n",
    "import pandas as pd"
   ]
  },
  {
   "cell_type": "code",
   "execution_count": 2,
   "metadata": {},
   "outputs": [],
   "source": [
    "#reading csv\n",
    "df = pd.read_csv('../3.feature_extractor/feature_extractor.csv')"
   ]
  },
  {
   "cell_type": "code",
   "execution_count": 3,
   "metadata": {},
   "outputs": [
    {
     "data": {
      "text/html": [
       "<div>\n",
       "<style scoped>\n",
       "    .dataframe tbody tr th:only-of-type {\n",
       "        vertical-align: middle;\n",
       "    }\n",
       "\n",
       "    .dataframe tbody tr th {\n",
       "        vertical-align: top;\n",
       "    }\n",
       "\n",
       "    .dataframe thead th {\n",
       "        text-align: right;\n",
       "    }\n",
       "</style>\n",
       "<table border=\"1\" class=\"dataframe\">\n",
       "  <thead>\n",
       "    <tr style=\"text-align: right;\">\n",
       "      <th></th>\n",
       "      <th>News</th>\n",
       "      <th>Title</th>\n",
       "      <th>Label</th>\n",
       "      <th>char_count</th>\n",
       "      <th>word_count</th>\n",
       "      <th>title_word_count</th>\n",
       "      <th>stopword_count</th>\n",
       "      <th>upper_case</th>\n",
       "      <th>subjectivity</th>\n",
       "      <th>polarity</th>\n",
       "      <th>...</th>\n",
       "      <th>pronouns</th>\n",
       "      <th>pronoun_count</th>\n",
       "      <th>adverbs</th>\n",
       "      <th>adverb_count</th>\n",
       "      <th>prepositions</th>\n",
       "      <th>prepositions_count</th>\n",
       "      <th>interjections</th>\n",
       "      <th>interjection_count</th>\n",
       "      <th>verbs</th>\n",
       "      <th>verb_count</th>\n",
       "    </tr>\n",
       "  </thead>\n",
       "  <tbody>\n",
       "    <tr>\n",
       "      <th>0</th>\n",
       "      <td>The Internet is buzzing today after white supr...</td>\n",
       "      <td>Million Uncounted Sanders Ballots Found On Cl...</td>\n",
       "      <td>Fake</td>\n",
       "      <td>1169</td>\n",
       "      <td>223</td>\n",
       "      <td>9</td>\n",
       "      <td>38</td>\n",
       "      <td>37</td>\n",
       "      <td>0.262500</td>\n",
       "      <td>-0.025000</td>\n",
       "      <td>...</td>\n",
       "      <td>['his', 'it', 'I', 'I', 'I', 'it', 'it', 'his'...</td>\n",
       "      <td>32</td>\n",
       "      <td>['maybe', 'back', 'not', 'not', 'So', 'now']</td>\n",
       "      <td>6</td>\n",
       "      <td>['to', 'to', 'na', 'to', 'to', 'to', 'to', 'to...</td>\n",
       "      <td>9</td>\n",
       "      <td>[]</td>\n",
       "      <td>0</td>\n",
       "      <td>['is', 'buzzing', 'was', 'caught', 'snorting',...</td>\n",
       "      <td>54</td>\n",
       "    </tr>\n",
       "    <tr>\n",
       "      <th>1</th>\n",
       "      <td>TRUMP TOWER — With his poll numbers among blac...</td>\n",
       "      <td>African Billionaire Will Give  Million To Anyo...</td>\n",
       "      <td>Fake</td>\n",
       "      <td>2291</td>\n",
       "      <td>376</td>\n",
       "      <td>18</td>\n",
       "      <td>57</td>\n",
       "      <td>146</td>\n",
       "      <td>0.462568</td>\n",
       "      <td>0.110800</td>\n",
       "      <td>...</td>\n",
       "      <td>['his', 'his', 'She', 'she', 'you', 'her', 'Sh...</td>\n",
       "      <td>37</td>\n",
       "      <td>['around', 'reportedly', 'll', 'recently', 'no...</td>\n",
       "      <td>22</td>\n",
       "      <td>['to', 'to', 'to', 'to', 'to', 'to', 'To', 'to...</td>\n",
       "      <td>9</td>\n",
       "      <td>[]</td>\n",
       "      <td>0</td>\n",
       "      <td>['hovering', 'tapped', 'connects', 'said', '’'...</td>\n",
       "      <td>91</td>\n",
       "    </tr>\n",
       "    <tr>\n",
       "      <th>2</th>\n",
       "      <td>Donald Trump is looking to assemble a strong t...</td>\n",
       "      <td>BREAKING Another Clinton Associate Set To Test...</td>\n",
       "      <td>Fake</td>\n",
       "      <td>1381</td>\n",
       "      <td>247</td>\n",
       "      <td>11</td>\n",
       "      <td>34</td>\n",
       "      <td>68</td>\n",
       "      <td>0.558531</td>\n",
       "      <td>0.111726</td>\n",
       "      <td>...</td>\n",
       "      <td>['he', 'he', 'his', 'His', 'His', 'it', 'he', ...</td>\n",
       "      <td>32</td>\n",
       "      <td>['earlier', 'not', 'thus', 'far', 'already']</td>\n",
       "      <td>5</td>\n",
       "      <td>['to', 'to', 'to', 'to', 'to']</td>\n",
       "      <td>5</td>\n",
       "      <td>[]</td>\n",
       "      <td>0</td>\n",
       "      <td>['is', 'looking', 'assemble', 'enters', 'expec...</td>\n",
       "      <td>62</td>\n",
       "    </tr>\n",
       "    <tr>\n",
       "      <th>3</th>\n",
       "      <td>“SHE’S SEXY SMART SOPHISTICATED AND SHE’S INTO...</td>\n",
       "      <td>Breaking Fraudulent Clinton Votes Discovered B...</td>\n",
       "      <td>Fake</td>\n",
       "      <td>503</td>\n",
       "      <td>93</td>\n",
       "      <td>9</td>\n",
       "      <td>23</td>\n",
       "      <td>144</td>\n",
       "      <td>0.476190</td>\n",
       "      <td>0.283036</td>\n",
       "      <td>...</td>\n",
       "      <td>['his', 'her', 'you', 'it']</td>\n",
       "      <td>4</td>\n",
       "      <td>['not']</td>\n",
       "      <td>1</td>\n",
       "      <td>[]</td>\n",
       "      <td>0</td>\n",
       "      <td>[]</td>\n",
       "      <td>0</td>\n",
       "      <td>['ARE', 'choosing', 'running', 'did', 'vote', ...</td>\n",
       "      <td>11</td>\n",
       "    </tr>\n",
       "    <tr>\n",
       "      <th>4</th>\n",
       "      <td>PHOENIX AZ AP — For months now rumors have cir...</td>\n",
       "      <td>BREAKING Official Set to Testify Against Hilla...</td>\n",
       "      <td>Fake</td>\n",
       "      <td>7381</td>\n",
       "      <td>1317</td>\n",
       "      <td>9</td>\n",
       "      <td>86</td>\n",
       "      <td>221</td>\n",
       "      <td>0.434617</td>\n",
       "      <td>0.126710</td>\n",
       "      <td>...</td>\n",
       "      <td>['he', 'I', 'I', 'I', 'them', 'me', 'my', 'I',...</td>\n",
       "      <td>143</td>\n",
       "      <td>['now', 'rally', 'back', 'forward', 'rally', '...</td>\n",
       "      <td>56</td>\n",
       "      <td>['to', 'to', 'to', 'to', 'to', 'to', 'to', 'to...</td>\n",
       "      <td>35</td>\n",
       "      <td>[]</td>\n",
       "      <td>0</td>\n",
       "      <td>['have', 'circulated', 'were', 'being', 'paid'...</td>\n",
       "      <td>299</td>\n",
       "    </tr>\n",
       "  </tbody>\n",
       "</table>\n",
       "<p>5 rows × 27 columns</p>\n",
       "</div>"
      ],
      "text/plain": [
       "                                                News  \\\n",
       "0  The Internet is buzzing today after white supr...   \n",
       "1  TRUMP TOWER — With his poll numbers among blac...   \n",
       "2  Donald Trump is looking to assemble a strong t...   \n",
       "3  “SHE’S SEXY SMART SOPHISTICATED AND SHE’S INTO...   \n",
       "4  PHOENIX AZ AP — For months now rumors have cir...   \n",
       "\n",
       "                                               Title Label  char_count  \\\n",
       "0   Million Uncounted Sanders Ballots Found On Cl...  Fake        1169   \n",
       "1  African Billionaire Will Give  Million To Anyo...  Fake        2291   \n",
       "2  BREAKING Another Clinton Associate Set To Test...  Fake        1381   \n",
       "3  Breaking Fraudulent Clinton Votes Discovered B...  Fake         503   \n",
       "4  BREAKING Official Set to Testify Against Hilla...  Fake        7381   \n",
       "\n",
       "   word_count  title_word_count  stopword_count  upper_case  subjectivity  \\\n",
       "0         223                 9              38          37      0.262500   \n",
       "1         376                18              57         146      0.462568   \n",
       "2         247                11              34          68      0.558531   \n",
       "3          93                 9              23         144      0.476190   \n",
       "4        1317                 9              86         221      0.434617   \n",
       "\n",
       "   polarity  ...                                           pronouns  \\\n",
       "0 -0.025000  ...  ['his', 'it', 'I', 'I', 'I', 'it', 'it', 'his'...   \n",
       "1  0.110800  ...  ['his', 'his', 'She', 'she', 'you', 'her', 'Sh...   \n",
       "2  0.111726  ...  ['he', 'he', 'his', 'His', 'His', 'it', 'he', ...   \n",
       "3  0.283036  ...                        ['his', 'her', 'you', 'it']   \n",
       "4  0.126710  ...  ['he', 'I', 'I', 'I', 'them', 'me', 'my', 'I',...   \n",
       "\n",
       "  pronoun_count                                            adverbs  \\\n",
       "0            32       ['maybe', 'back', 'not', 'not', 'So', 'now']   \n",
       "1            37  ['around', 'reportedly', 'll', 'recently', 'no...   \n",
       "2            32       ['earlier', 'not', 'thus', 'far', 'already']   \n",
       "3             4                                            ['not']   \n",
       "4           143  ['now', 'rally', 'back', 'forward', 'rally', '...   \n",
       "\n",
       "  adverb_count                                       prepositions  \\\n",
       "0            6  ['to', 'to', 'na', 'to', 'to', 'to', 'to', 'to...   \n",
       "1           22  ['to', 'to', 'to', 'to', 'to', 'to', 'To', 'to...   \n",
       "2            5                     ['to', 'to', 'to', 'to', 'to']   \n",
       "3            1                                                 []   \n",
       "4           56  ['to', 'to', 'to', 'to', 'to', 'to', 'to', 'to...   \n",
       "\n",
       "  prepositions_count  interjections interjection_count  \\\n",
       "0                  9             []                  0   \n",
       "1                  9             []                  0   \n",
       "2                  5             []                  0   \n",
       "3                  0             []                  0   \n",
       "4                 35             []                  0   \n",
       "\n",
       "                                               verbs verb_count  \n",
       "0  ['is', 'buzzing', 'was', 'caught', 'snorting',...         54  \n",
       "1  ['hovering', 'tapped', 'connects', 'said', '’'...         91  \n",
       "2  ['is', 'looking', 'assemble', 'enters', 'expec...         62  \n",
       "3  ['ARE', 'choosing', 'running', 'did', 'vote', ...         11  \n",
       "4  ['have', 'circulated', 'were', 'being', 'paid'...        299  \n",
       "\n",
       "[5 rows x 27 columns]"
      ]
     },
     "execution_count": 3,
     "metadata": {},
     "output_type": "execute_result"
    }
   ],
   "source": [
    "df.head()"
   ]
  },
  {
   "cell_type": "code",
   "execution_count": 4,
   "metadata": {},
   "outputs": [
    {
     "data": {
      "text/plain": [
       "Index(['News', 'Title', 'Label', 'char_count', 'word_count',\n",
       "       'title_word_count', 'stopword_count', 'upper_case', 'subjectivity',\n",
       "       'polarity', 'POS', 'nouns', 'noun_count', 'conjuctions',\n",
       "       'conjuction_count', 'adjectives', 'adjective_count', 'pronouns',\n",
       "       'pronoun_count', 'adverbs', 'adverb_count', 'prepositions',\n",
       "       'prepositions_count', 'interjections', 'interjection_count', 'verbs',\n",
       "       'verb_count'],\n",
       "      dtype='object')"
      ]
     },
     "execution_count": 4,
     "metadata": {},
     "output_type": "execute_result"
    }
   ],
   "source": [
    "df.columns"
   ]
  },
  {
   "cell_type": "code",
   "execution_count": 5,
   "metadata": {},
   "outputs": [],
   "source": [
    "#dropping unwanted columns\n",
    "df = df.drop(['News', 'Title', 'POS', 'nouns', 'conjuctions', 'adjectives', 'pronouns', 'adverbs', 'prepositions', 'interjections', 'interjection_count', 'verbs'], axis=1)"
   ]
  },
  {
   "cell_type": "code",
   "execution_count": 6,
   "metadata": {},
   "outputs": [
    {
     "data": {
      "text/html": [
       "<div>\n",
       "<style scoped>\n",
       "    .dataframe tbody tr th:only-of-type {\n",
       "        vertical-align: middle;\n",
       "    }\n",
       "\n",
       "    .dataframe tbody tr th {\n",
       "        vertical-align: top;\n",
       "    }\n",
       "\n",
       "    .dataframe thead th {\n",
       "        text-align: right;\n",
       "    }\n",
       "</style>\n",
       "<table border=\"1\" class=\"dataframe\">\n",
       "  <thead>\n",
       "    <tr style=\"text-align: right;\">\n",
       "      <th></th>\n",
       "      <th>Label</th>\n",
       "      <th>char_count</th>\n",
       "      <th>word_count</th>\n",
       "      <th>title_word_count</th>\n",
       "      <th>stopword_count</th>\n",
       "      <th>upper_case</th>\n",
       "      <th>subjectivity</th>\n",
       "      <th>polarity</th>\n",
       "      <th>noun_count</th>\n",
       "      <th>conjuction_count</th>\n",
       "      <th>adjective_count</th>\n",
       "      <th>pronoun_count</th>\n",
       "      <th>adverb_count</th>\n",
       "      <th>prepositions_count</th>\n",
       "      <th>verb_count</th>\n",
       "    </tr>\n",
       "  </thead>\n",
       "  <tbody>\n",
       "    <tr>\n",
       "      <th>0</th>\n",
       "      <td>Fake</td>\n",
       "      <td>1169</td>\n",
       "      <td>223</td>\n",
       "      <td>9</td>\n",
       "      <td>38</td>\n",
       "      <td>37</td>\n",
       "      <td>0.262500</td>\n",
       "      <td>-0.025000</td>\n",
       "      <td>68</td>\n",
       "      <td>15</td>\n",
       "      <td>12</td>\n",
       "      <td>32</td>\n",
       "      <td>6</td>\n",
       "      <td>9</td>\n",
       "      <td>54</td>\n",
       "    </tr>\n",
       "    <tr>\n",
       "      <th>1</th>\n",
       "      <td>Fake</td>\n",
       "      <td>2291</td>\n",
       "      <td>376</td>\n",
       "      <td>18</td>\n",
       "      <td>57</td>\n",
       "      <td>146</td>\n",
       "      <td>0.462568</td>\n",
       "      <td>0.110800</td>\n",
       "      <td>164</td>\n",
       "      <td>45</td>\n",
       "      <td>31</td>\n",
       "      <td>37</td>\n",
       "      <td>22</td>\n",
       "      <td>9</td>\n",
       "      <td>91</td>\n",
       "    </tr>\n",
       "    <tr>\n",
       "      <th>2</th>\n",
       "      <td>Fake</td>\n",
       "      <td>1381</td>\n",
       "      <td>247</td>\n",
       "      <td>11</td>\n",
       "      <td>34</td>\n",
       "      <td>68</td>\n",
       "      <td>0.558531</td>\n",
       "      <td>0.111726</td>\n",
       "      <td>89</td>\n",
       "      <td>24</td>\n",
       "      <td>21</td>\n",
       "      <td>32</td>\n",
       "      <td>5</td>\n",
       "      <td>5</td>\n",
       "      <td>62</td>\n",
       "    </tr>\n",
       "    <tr>\n",
       "      <th>3</th>\n",
       "      <td>Fake</td>\n",
       "      <td>503</td>\n",
       "      <td>93</td>\n",
       "      <td>9</td>\n",
       "      <td>23</td>\n",
       "      <td>144</td>\n",
       "      <td>0.476190</td>\n",
       "      <td>0.283036</td>\n",
       "      <td>56</td>\n",
       "      <td>14</td>\n",
       "      <td>1</td>\n",
       "      <td>4</td>\n",
       "      <td>1</td>\n",
       "      <td>0</td>\n",
       "      <td>11</td>\n",
       "    </tr>\n",
       "    <tr>\n",
       "      <th>4</th>\n",
       "      <td>Fake</td>\n",
       "      <td>7381</td>\n",
       "      <td>1317</td>\n",
       "      <td>9</td>\n",
       "      <td>86</td>\n",
       "      <td>221</td>\n",
       "      <td>0.434617</td>\n",
       "      <td>0.126710</td>\n",
       "      <td>413</td>\n",
       "      <td>160</td>\n",
       "      <td>94</td>\n",
       "      <td>143</td>\n",
       "      <td>56</td>\n",
       "      <td>35</td>\n",
       "      <td>299</td>\n",
       "    </tr>\n",
       "  </tbody>\n",
       "</table>\n",
       "</div>"
      ],
      "text/plain": [
       "  Label  char_count  word_count  title_word_count  stopword_count  upper_case  \\\n",
       "0  Fake        1169         223                 9              38          37   \n",
       "1  Fake        2291         376                18              57         146   \n",
       "2  Fake        1381         247                11              34          68   \n",
       "3  Fake         503          93                 9              23         144   \n",
       "4  Fake        7381        1317                 9              86         221   \n",
       "\n",
       "   subjectivity  polarity  noun_count  conjuction_count  adjective_count  \\\n",
       "0      0.262500 -0.025000          68                15               12   \n",
       "1      0.462568  0.110800         164                45               31   \n",
       "2      0.558531  0.111726          89                24               21   \n",
       "3      0.476190  0.283036          56                14                1   \n",
       "4      0.434617  0.126710         413               160               94   \n",
       "\n",
       "   pronoun_count  adverb_count  prepositions_count  verb_count  \n",
       "0             32             6                   9          54  \n",
       "1             37            22                   9          91  \n",
       "2             32             5                   5          62  \n",
       "3              4             1                   0          11  \n",
       "4            143            56                  35         299  "
      ]
     },
     "execution_count": 6,
     "metadata": {},
     "output_type": "execute_result"
    }
   ],
   "source": [
    "df.head()"
   ]
  },
  {
   "cell_type": "code",
   "execution_count": 7,
   "metadata": {},
   "outputs": [
    {
     "data": {
      "text/plain": [
       "Index(['Label', 'char_count', 'word_count', 'title_word_count',\n",
       "       'stopword_count', 'upper_case', 'subjectivity', 'polarity',\n",
       "       'noun_count', 'conjuction_count', 'adjective_count', 'pronoun_count',\n",
       "       'adverb_count', 'prepositions_count', 'verb_count'],\n",
       "      dtype='object')"
      ]
     },
     "execution_count": 7,
     "metadata": {},
     "output_type": "execute_result"
    }
   ],
   "source": [
    "df.columns"
   ]
  },
  {
   "cell_type": "code",
   "execution_count": 12,
   "metadata": {},
   "outputs": [],
   "source": [
    "#saving wanted dataframe columns\n",
    "temp = df[['Label', 'char_count', 'word_count', 'title_word_count',\n",
    "       'stopword_count', 'upper_case', 'subjectivity', 'polarity',\n",
    "       'noun_count', 'conjuction_count', 'adjective_count', 'pronoun_count',\n",
    "       'adverb_count', 'prepositions_count', 'verb_count']]"
   ]
  },
  {
   "cell_type": "code",
   "execution_count": 14,
   "metadata": {},
   "outputs": [],
   "source": [
    "df.to_csv('data.csv', encoding='utf-8', index=False)"
   ]
  },
  {
   "cell_type": "markdown",
   "metadata": {},
   "source": [
    "### features and label"
   ]
  },
  {
   "cell_type": "code",
   "execution_count": 8,
   "metadata": {},
   "outputs": [],
   "source": [
    "#assigning X and y values\n",
    "y = df['Label']\n",
    "X = df[['char_count', 'word_count', 'title_word_count',\n",
    "       'stopword_count', 'upper_case', 'subjectivity', 'polarity',\n",
    "       'noun_count', 'conjuction_count', 'adjective_count', 'pronoun_count',\n",
    "       'adverb_count', 'prepositions_count', 'verb_count']]"
   ]
  },
  {
   "cell_type": "markdown",
   "metadata": {},
   "source": [
    "### label encoding"
   ]
  },
  {
   "cell_type": "code",
   "execution_count": 9,
   "metadata": {},
   "outputs": [],
   "source": [
    "#converting labels (real, fake) to its numeric representation\n",
    "from sklearn import preprocessing\n",
    "le = preprocessing.LabelEncoder()\n",
    "y = le.fit_transform(y.astype(str))"
   ]
  },
  {
   "cell_type": "code",
   "execution_count": 10,
   "metadata": {},
   "outputs": [
    {
     "data": {
      "text/plain": [
       "array([0, 0, 0, 0, 0, 0, 0, 0, 0, 0, 0, 0, 0, 0, 0, 0, 0, 0, 0, 0, 0, 0,\n",
       "       0, 0, 0, 0, 0, 0, 0, 0, 0, 0, 0, 0, 0, 0, 0, 0, 0, 0, 0, 0, 0, 0,\n",
       "       0, 0, 0, 0, 1, 1, 1, 1, 1, 1, 1, 1, 1, 1, 1, 1, 1, 1, 1, 1, 1, 1,\n",
       "       1, 1, 1, 1, 1, 1, 1, 1, 1, 1, 1, 1, 1, 1, 1, 1, 1, 1, 1, 1, 1, 1,\n",
       "       1, 1, 1, 1, 1, 1, 1, 1, 2, 2, 2, 2, 2, 0, 0, 0, 0, 0, 0, 0, 0, 0,\n",
       "       0, 0, 0, 0, 0, 0, 0, 0, 0, 0, 0, 0, 0, 0, 0, 0, 0, 0, 0, 0, 0, 0,\n",
       "       0, 0, 0, 0, 0, 0, 0, 0, 0, 0, 0, 0, 0, 0, 0, 0, 0, 0, 0, 0, 0, 0,\n",
       "       0, 0, 0, 0, 0, 0, 0, 0, 0, 0, 0, 0, 0, 0, 0, 0, 0, 0, 0, 0, 0, 0,\n",
       "       1, 1, 1, 1, 1, 1, 1, 1, 1, 1, 1, 1, 1, 1, 1, 1, 1, 1, 1, 1, 1, 1,\n",
       "       1, 1, 1, 1, 1, 1, 1, 1, 1, 1, 1, 1, 1, 1, 1, 1, 1, 1, 1, 1, 1, 1,\n",
       "       1, 1, 1, 1, 1, 1, 1, 1, 1, 1, 1, 1, 1, 1, 1, 1, 1, 1, 1, 1, 1, 1,\n",
       "       1, 1, 1, 1, 1, 1, 1, 1, 1])"
      ]
     },
     "execution_count": 10,
     "metadata": {},
     "output_type": "execute_result"
    }
   ],
   "source": [
    "y"
   ]
  },
  {
   "cell_type": "markdown",
   "metadata": {},
   "source": [
    "### split data"
   ]
  },
  {
   "cell_type": "code",
   "execution_count": 25,
   "metadata": {},
   "outputs": [],
   "source": [
    "#splitting data\n",
    "from sklearn.model_selection import train_test_split\n",
    "X_train, X_test, y_train, y_test = train_test_split(X, y, test_size=0.30, random_state=42)"
   ]
  },
  {
   "cell_type": "markdown",
   "metadata": {},
   "source": [
    "### gaussian naive bayes"
   ]
  },
  {
   "cell_type": "code",
   "execution_count": 26,
   "metadata": {},
   "outputs": [
    {
     "data": {
      "text/plain": [
       "GaussianNB()"
      ]
     },
     "execution_count": 26,
     "metadata": {},
     "output_type": "execute_result"
    }
   ],
   "source": [
    "#applying gaussian naive bayes\n",
    "from sklearn.naive_bayes import GaussianNB\n",
    "#making object\n",
    "gnb = GaussianNB()\n",
    "#training\n",
    "gnb.fit(X_train, y_train)"
   ]
  },
  {
   "cell_type": "code",
   "execution_count": 27,
   "metadata": {},
   "outputs": [],
   "source": [
    "#predicting\n",
    "y_pred = gnb.predict(X_test)"
   ]
  },
  {
   "cell_type": "code",
   "execution_count": 28,
   "metadata": {},
   "outputs": [
    {
     "data": {
      "text/plain": [
       "0.5131578947368421"
      ]
     },
     "execution_count": 28,
     "metadata": {},
     "output_type": "execute_result"
    }
   ],
   "source": [
    "#calculating accuracy score\n",
    "from sklearn.metrics import accuracy_score\n",
    "accuracy_score(y_test, y_pred)"
   ]
  },
  {
   "cell_type": "markdown",
   "metadata": {},
   "source": [
    "### bernoulli naive bayes"
   ]
  },
  {
   "cell_type": "code",
   "execution_count": 29,
   "metadata": {},
   "outputs": [
    {
     "data": {
      "text/plain": [
       "BernoulliNB()"
      ]
     },
     "execution_count": 29,
     "metadata": {},
     "output_type": "execute_result"
    }
   ],
   "source": [
    "#applying bernoulli naive bayes\n",
    "from sklearn.naive_bayes import BernoulliNB\n",
    "#making object\n",
    "clf = BernoulliNB()\n",
    "#training\n",
    "clf.fit(X_train, y_train)"
   ]
  },
  {
   "cell_type": "code",
   "execution_count": 30,
   "metadata": {},
   "outputs": [],
   "source": [
    "#predicting\n",
    "y_pred = clf.predict(X_test)"
   ]
  },
  {
   "cell_type": "code",
   "execution_count": 31,
   "metadata": {},
   "outputs": [
    {
     "data": {
      "text/plain": [
       "0.5657894736842105"
      ]
     },
     "execution_count": 31,
     "metadata": {},
     "output_type": "execute_result"
    }
   ],
   "source": [
    "#calculating accuracy score\n",
    "from sklearn.metrics import accuracy_score\n",
    "accuracy_score(y_test, y_pred)"
   ]
  },
  {
   "cell_type": "markdown",
   "metadata": {},
   "source": [
    "### knn"
   ]
  },
  {
   "cell_type": "code",
   "execution_count": 32,
   "metadata": {},
   "outputs": [
    {
     "data": {
      "text/plain": [
       "KNeighborsClassifier(n_neighbors=3)"
      ]
     },
     "execution_count": 32,
     "metadata": {},
     "output_type": "execute_result"
    }
   ],
   "source": [
    "#applying knn\n",
    "from sklearn.neighbors import KNeighborsClassifier\n",
    "#making object\n",
    "knn = KNeighborsClassifier(n_neighbors=3)\n",
    "#training\n",
    "knn.fit(X_train, y_train)"
   ]
  },
  {
   "cell_type": "code",
   "execution_count": 33,
   "metadata": {},
   "outputs": [],
   "source": [
    "#predicting\n",
    "y_pred = knn.predict(X_test)"
   ]
  },
  {
   "cell_type": "code",
   "execution_count": 34,
   "metadata": {},
   "outputs": [
    {
     "data": {
      "text/plain": [
       "0.5657894736842105"
      ]
     },
     "execution_count": 34,
     "metadata": {},
     "output_type": "execute_result"
    }
   ],
   "source": [
    "#calculating accuracy score\n",
    "from sklearn.metrics import accuracy_score\n",
    "accuracy_score(y_test, y_pred)"
   ]
  },
  {
   "cell_type": "markdown",
   "metadata": {},
   "source": [
    "### linear svm"
   ]
  },
  {
   "cell_type": "code",
   "execution_count": null,
   "metadata": {},
   "outputs": [],
   "source": [
    "from sklearn.svm import LinearSVC\n",
    "#making object\n",
    "clf = LinearSVC(random_state=42)\n",
    "#training\n",
    "clf.fit(X_train, y_train)"
   ]
  },
  {
   "cell_type": "code",
   "execution_count": 36,
   "metadata": {},
   "outputs": [],
   "source": [
    "#predicting\n",
    "y_pred = clf.predict(X_test)"
   ]
  },
  {
   "cell_type": "code",
   "execution_count": 37,
   "metadata": {},
   "outputs": [
    {
     "data": {
      "text/plain": [
       "0.47368421052631576"
      ]
     },
     "execution_count": 37,
     "metadata": {},
     "output_type": "execute_result"
    }
   ],
   "source": [
    "#calculating accuracy score\n",
    "from sklearn.metrics import accuracy_score\n",
    "accuracy_score(y_test, y_pred)"
   ]
  },
  {
   "cell_type": "markdown",
   "metadata": {},
   "source": [
    "### svc (best)"
   ]
  },
  {
   "cell_type": "code",
   "execution_count": 84,
   "metadata": {},
   "outputs": [
    {
     "data": {
      "text/plain": [
       "SVC(kernel='sigmoid', random_state=42)"
      ]
     },
     "execution_count": 84,
     "metadata": {},
     "output_type": "execute_result"
    }
   ],
   "source": [
    "'''\n",
    "poly = 52.63\n",
    "rbf = 60.5\n",
    "sigmoid = 71.05\n",
    "'''\n",
    "from sklearn.svm import SVC\n",
    "#making object\n",
    "svc = SVC(kernel = 'sigmoid', random_state=42)\n",
    "#training\n",
    "svc.fit(X_train, y_train)"
   ]
  },
  {
   "cell_type": "code",
   "execution_count": 85,
   "metadata": {},
   "outputs": [],
   "source": [
    "#predicting\n",
    "y_pred = svc.predict(X_test)"
   ]
  },
  {
   "cell_type": "code",
   "execution_count": 86,
   "metadata": {},
   "outputs": [
    {
     "data": {
      "text/plain": [
       "0.7105263157894737"
      ]
     },
     "execution_count": 86,
     "metadata": {},
     "output_type": "execute_result"
    }
   ],
   "source": [
    "#calculating accuracy score\n",
    "from sklearn.metrics import accuracy_score\n",
    "accuracy_score(y_test, y_pred)"
   ]
  },
  {
   "cell_type": "markdown",
   "metadata": {},
   "source": [
    "### decision tree"
   ]
  },
  {
   "cell_type": "code",
   "execution_count": 41,
   "metadata": {},
   "outputs": [
    {
     "data": {
      "text/plain": [
       "DecisionTreeClassifier(random_state=42)"
      ]
     },
     "execution_count": 41,
     "metadata": {},
     "output_type": "execute_result"
    }
   ],
   "source": [
    "from sklearn import tree\n",
    "clf = tree.DecisionTreeClassifier(random_state=42)\n",
    "#training\n",
    "clf.fit(X_train, y_train)"
   ]
  },
  {
   "cell_type": "code",
   "execution_count": 42,
   "metadata": {},
   "outputs": [],
   "source": [
    "#prediction\n",
    "y_pred = clf.predict(X_test)"
   ]
  },
  {
   "cell_type": "code",
   "execution_count": 43,
   "metadata": {},
   "outputs": [
    {
     "data": {
      "text/plain": [
       "0.5657894736842105"
      ]
     },
     "execution_count": 43,
     "metadata": {},
     "output_type": "execute_result"
    }
   ],
   "source": [
    "#calculating accuracy\n",
    "from sklearn.metrics import accuracy_score\n",
    "accuracy_score(y_test, y_pred)"
   ]
  },
  {
   "cell_type": "markdown",
   "metadata": {},
   "source": [
    "### random forest"
   ]
  },
  {
   "cell_type": "code",
   "execution_count": 44,
   "metadata": {},
   "outputs": [
    {
     "data": {
      "text/plain": [
       "RandomForestClassifier(random_state=42)"
      ]
     },
     "execution_count": 44,
     "metadata": {},
     "output_type": "execute_result"
    }
   ],
   "source": [
    "from sklearn.ensemble import RandomForestClassifier\n",
    "clf1 = RandomForestClassifier(random_state=42)\n",
    "#training\n",
    "clf1.fit(X_train, y_train)"
   ]
  },
  {
   "cell_type": "code",
   "execution_count": 45,
   "metadata": {},
   "outputs": [],
   "source": [
    "#prediction\n",
    "y_pred = clf1.predict(X_test)"
   ]
  },
  {
   "cell_type": "code",
   "execution_count": 46,
   "metadata": {},
   "outputs": [
    {
     "data": {
      "text/plain": [
       "0.6447368421052632"
      ]
     },
     "execution_count": 46,
     "metadata": {},
     "output_type": "execute_result"
    }
   ],
   "source": [
    "#calculating accuracy\n",
    "from sklearn.metrics import accuracy_score\n",
    "accuracy_score(y_test, y_pred)"
   ]
  },
  {
   "cell_type": "markdown",
   "metadata": {},
   "source": [
    "### adaboost"
   ]
  },
  {
   "cell_type": "code",
   "execution_count": 47,
   "metadata": {},
   "outputs": [
    {
     "data": {
      "text/plain": [
       "AdaBoostClassifier(random_state=42)"
      ]
     },
     "execution_count": 47,
     "metadata": {},
     "output_type": "execute_result"
    }
   ],
   "source": [
    "from sklearn.ensemble import AdaBoostClassifier\n",
    "clf2 = AdaBoostClassifier(random_state=42)\n",
    "#training\n",
    "clf2.fit(X_train, y_train)"
   ]
  },
  {
   "cell_type": "code",
   "execution_count": 48,
   "metadata": {},
   "outputs": [],
   "source": [
    "#predicting\n",
    "y_pred = clf2.predict(X_test)"
   ]
  },
  {
   "cell_type": "code",
   "execution_count": 49,
   "metadata": {},
   "outputs": [
    {
     "data": {
      "text/plain": [
       "0.6710526315789473"
      ]
     },
     "execution_count": 49,
     "metadata": {},
     "output_type": "execute_result"
    }
   ],
   "source": [
    "#calculating accuracy\n",
    "from sklearn.metrics import accuracy_score\n",
    "accuracy_score(y_test, y_pred)"
   ]
  },
  {
   "cell_type": "markdown",
   "metadata": {},
   "source": [
    "### gradient boosting"
   ]
  },
  {
   "cell_type": "code",
   "execution_count": 50,
   "metadata": {},
   "outputs": [],
   "source": [
    "from sklearn.ensemble import GradientBoostingClassifier\n",
    "#training\n",
    "clf3 = GradientBoostingClassifier(learning_rate=0.01, random_state=42).fit(X_train, y_train)"
   ]
  },
  {
   "cell_type": "code",
   "execution_count": 51,
   "metadata": {},
   "outputs": [],
   "source": [
    "#prediction\n",
    "y_pred = clf3.predict(X_test)"
   ]
  },
  {
   "cell_type": "code",
   "execution_count": 52,
   "metadata": {},
   "outputs": [
    {
     "data": {
      "text/plain": [
       "0.6578947368421053"
      ]
     },
     "execution_count": 52,
     "metadata": {},
     "output_type": "execute_result"
    }
   ],
   "source": [
    "#calculating accuracy\n",
    "from sklearn.metrics import accuracy_score\n",
    "accuracy_score(y_test, y_pred)"
   ]
  },
  {
   "cell_type": "markdown",
   "metadata": {},
   "source": [
    "### xgboost"
   ]
  },
  {
   "cell_type": "code",
   "execution_count": null,
   "metadata": {},
   "outputs": [],
   "source": [
    "import xgboost as xgb\n",
    "xgb_model = xgb.XGBClassifier(objective=\"binary:logistic\", random_state=42)\n",
    "#training\n",
    "xgb_model.fit(X_train, y_train)"
   ]
  },
  {
   "cell_type": "code",
   "execution_count": 54,
   "metadata": {},
   "outputs": [],
   "source": [
    "#predicting\n",
    "y_pred = xgb_model.predict(X_test)"
   ]
  },
  {
   "cell_type": "code",
   "execution_count": 55,
   "metadata": {},
   "outputs": [
    {
     "data": {
      "text/plain": [
       "0.5657894736842105"
      ]
     },
     "execution_count": 55,
     "metadata": {},
     "output_type": "execute_result"
    }
   ],
   "source": [
    "#calculating accuracy score\n",
    "from sklearn.metrics import accuracy_score\n",
    "accuracy_score(y_test, y_pred)"
   ]
  },
  {
   "cell_type": "markdown",
   "metadata": {},
   "source": [
    "### voting classifier"
   ]
  },
  {
   "cell_type": "code",
   "execution_count": 56,
   "metadata": {},
   "outputs": [],
   "source": [
    "from sklearn.ensemble import RandomForestClassifier, VotingClassifier, GradientBoostingClassifier"
   ]
  },
  {
   "cell_type": "code",
   "execution_count": 81,
   "metadata": {},
   "outputs": [
    {
     "data": {
      "text/plain": [
       "VotingClassifier(estimators=[('svc', SVC(kernel='sigmoid')),\n",
       "                             ('ada', AdaBoostClassifier(random_state=42)),\n",
       "                             ('grad',\n",
       "                              GradientBoostingClassifier(learning_rate=0.01,\n",
       "                                                         random_state=42))])"
      ]
     },
     "execution_count": 81,
     "metadata": {},
     "output_type": "execute_result"
    }
   ],
   "source": [
    "#voting classifiers, svc, adaboost, and gradient boosting\n",
    "eclf1 = VotingClassifier(estimators=[\n",
    "        ('svc', svc), ('ada', clf2), ('grad', clf3)], voting='hard')\n",
    "#training\n",
    "eclf1.fit(X_train, y_train)"
   ]
  },
  {
   "cell_type": "code",
   "execution_count": 82,
   "metadata": {},
   "outputs": [],
   "source": [
    "#predicting\n",
    "y_pred = clf.predict(X_test)"
   ]
  },
  {
   "cell_type": "code",
   "execution_count": 83,
   "metadata": {},
   "outputs": [
    {
     "data": {
      "text/plain": [
       "0.7105263157894737"
      ]
     },
     "execution_count": 83,
     "metadata": {},
     "output_type": "execute_result"
    }
   ],
   "source": [
    "#calculating accuracy score\n",
    "from sklearn.metrics import accuracy_score\n",
    "accuracy_score(y_test, y_pred)"
   ]
  },
  {
   "cell_type": "code",
   "execution_count": null,
   "metadata": {},
   "outputs": [],
   "source": []
  }
 ],
 "metadata": {
  "kernelspec": {
   "display_name": "Python 3",
   "language": "python",
   "name": "python3"
  },
  "language_info": {
   "codemirror_mode": {
    "name": "ipython",
    "version": 3
   },
   "file_extension": ".py",
   "mimetype": "text/x-python",
   "name": "python",
   "nbconvert_exporter": "python",
   "pygments_lexer": "ipython3",
   "version": "3.8.3"
  }
 },
 "nbformat": 4,
 "nbformat_minor": 4
}
